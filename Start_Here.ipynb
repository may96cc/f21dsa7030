{
 "cells": [
  {
   "cell_type": "markdown",
   "metadata": {},
   "source": [
    "# Welcome to Database and Analytics\n",
    "\n",
    "This course covers core concepts for heterogeneous data management, including relational databases, NoSQL databases, and other data storage systems. \n",
    "Advanced database topics are covered related to relational modeling, normalization, and optimization. \n",
    "The data management lifecycle for various data types and storage systems is investigated by participants, allowing students to learn to balance the data characteristics and the analytical needs when constructing and exploiting database solutions. \n",
    "Additionally, predictive modeling and machine learning topics are linked into this course to provide thematic linkages to data science."
   ]
  },
  {
   "cell_type": "markdown",
   "metadata": {},
   "source": [
    "__Resources:__   \n",
    "\n",
    "The course does not use these references directly. They aren't components of a textbook; instead, they are references that you can use as a starting point to grasp concepts or key areas for development more deeply. \n",
    "\n",
    "1. **Basic Database and Analytics _REFERENCE_ Text** [Free PDF](https://web.dsa.missouri.edu/static/PDF/Database_Fundamentals.pdf)\n",
    "2. **Assorted Readings about Big Data and Current Challenges**\n",
    "    - Industry focused article about managing and storing biomedical data, which is one of the earliest fields to deal with data at scale every day [Free PDF](https://web.dsa.missouri.edu/static/PDF/Industry_SustainingtheBigDataEcosystem.pdf) \n",
    "    - Academic article that is nonetheless a helpful inventory of **technical** issues facing data at scale [Free PDF](https://web.dsa.missouri.edu/static/PDF/Research_BigDataCloud.pdf)\n",
    "    - Academic article that is nonetheless a helpful inventory of **organizational** issues facing data at scale [Free PDF](https://web.dsa.missouri.edu/static/PDF/Research_BigDataOnClouds.pdf)\n",
    "3. **PostgreSQL Cheat Sheet** [Free PDF](https://web.dsa.missouri.edu/static/PDF/Postgres-Cheat-Sheet.pdf)"
   ]
  },
  {
   "cell_type": "markdown",
   "metadata": {},
   "source": [
    "## Course Module Schedule\n",
    "  1. [Databases and SQL Introduction](./modules/module1/Schedule.ipynb)\n",
    "  2. [Database Design and the Relational Model](./modules/module2/Schedule.ipynb)\n",
    "  3. [Advanced SQL - Review of Databases and SQL, Advanced SQL](./modules/module3/Schedule.ipynb) \n",
    "  4. [Advanced SQL - Nested Queries](./modules/module4/Schedule.ipynb)\n",
    "  5. [Advanced SQL - Views, Advanced Aggregates, Functions, and Triggers](./modules/module5/Schedule.ipynb)\n",
    "  6. [Data Engineering and ETL](./modules/module6/Schedule.ipynb)\n",
    "  7. [Alternate Database Systems and Final Project Design/Implementation](./modules/module7/Schedule.ipynb)\n",
    "  8. [Final Project Database and Analytics](./modules/module8/Schedule.ipynb)\n",
    "  \n",
    "### Weekly Module Download\n",
    "\n",
    "Each Saturday morning, the new module will become available.\n",
    "You will be using Git Pull to acquire the module's learning activities.  \n",
    "Clicking on the modules above before the content is pulled is expected to give you a **404 Error**\n",
    "\n",
    "#### Steps:\n",
    "  1. Open Terminal in JupyterHub\n",
    "  1. Change into the course folder\n",
    "  1. Execute command:  \n",
    "  `git pull   --no-edit   upstream   master`\n"
   ]
  },
  {
   "cell_type": "markdown",
   "metadata": {},
   "source": [
    "## Technologies\n",
    "  * PostgreSQL \n",
    "  * SQL\n",
    "  * Python"
   ]
  },
  {
   "cell_type": "markdown",
   "metadata": {},
   "source": [
    "### Weekly Module Schedule\n",
    "Every module can be worked through at your own pace within the timeframe of the module. Modules are 1 week long from Saturday to Saturday at noon CT. Saturday is always the start day of a new module so there are a few hours of overlap between modules. **Individual discussion posts need to be made by Wednesday and then responses to other students will need to happen between Thursday and Saturday, or earlier if enough people have posted to have discussion.** Discussions will be marked by an asterisk  (\\*) below under the day by which a post is required. **Practices and Exercises are due on the Saturday at 11:59pm (CT) each week.**\n",
    "\n",
    "**Saturday - Tuesday** \n",
    " - Readings \n",
    " - Labs\n",
    " - Practices\n",
    " \n",
    "**Wednesday**\n",
    " - \\* Post Discussion \n",
    " \n",
    "**Thursday - Saturday**\n",
    " -  Respond to Discussions\n",
    " -  Exercises\n",
    " \n",
    "All material will be released at the beginning of each module to allow you to work through the week and manage your time as needed.\n",
    "\n",
    "Module practices and exercises need to be committed and pushed by **11:59pm central time on Saturday** the week after the material was released."
   ]
  },
  {
   "cell_type": "markdown",
   "metadata": {},
   "source": [
    "### The Ethic of Mutual Aid\n",
    "\n",
    "In each module it is important to ask and answer questions. \n",
    "All students should ask. Everyone should try to answer at least once. \n",
    "We learn by solving our own problems and helping others solve theirs.\n",
    "Social learning theory helps to explain the mechanics of how communicating with others aids learning.\n",
    "It suggests that people learn from one another, via observation, imitation, and modeling. \n",
    "The theory has often been called a bridge between behaviorist and cognitive learning theories because it encompasses attention, memory, and motivation. \n",
    "If you think about the most rewarding learning experiences in your life, \n",
    "its likely you will recall a time when you struggled, sought help, provided help and ultimately achieved your aims. \n",
    "And probably helped others achieve theirs.\n",
    "\n",
    "The instructors and TAs will help the discussions and mutual aid stay on track.\n",
    "We look forward to working with all of you!\n",
    "\n",
    "Mutual aid is a place to discuss the topic and issue you are having. It is not a place to post code, working or not for feedback or solutions. Posting code is counterproductive  in this type of Mutual Aid environment. \n"
   ]
  },
  {
   "cell_type": "markdown",
   "metadata": {},
   "source": [
    "## Resources\n",
    "\n",
    "Each module will have reading links and resources.\n",
    "Please consult the weekly `Schedule` notebook for details and modular particulars."
   ]
  },
  {
   "cell_type": "markdown",
   "metadata": {},
   "source": [
    "# Submission\n",
    "\n",
    "You should be submitting two sets of work each week:\n",
    " 1. Practices, typically use git to add the files such as (module 1 example)\n",
    "```\n",
    "git add module1/practices\n",
    "git commit -m 'my module 1 practices'\n",
    "git push\n",
    "```\n",
    " 2. Exercises, typically (module 1 example)\n",
    "```\n",
    "git add module1/exercises\n",
    "git commit -m 'my module 1 exercises'\n",
    "git push\n",
    "```\n",
    "\n",
    "Remember, you can commit as often as you want, even partial solutions.\n",
    "The collection system gets the sum of all changes that have been pushed at the module Due date/time."
   ]
  }
 ],
 "metadata": {
  "kernelspec": {
   "display_name": "Python 3",
   "language": "python",
   "name": "python3"
  },
  "language_info": {
   "codemirror_mode": {
    "name": "ipython",
    "version": 3
   },
   "file_extension": ".py",
   "mimetype": "text/x-python",
   "name": "python",
   "nbconvert_exporter": "python",
   "pygments_lexer": "ipython3",
   "version": "3.7.3"
  }
 },
 "nbformat": 4,
 "nbformat_minor": 1
}
