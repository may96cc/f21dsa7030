{
 "cells": [
  {
   "cell_type": "markdown",
   "metadata": {},
   "source": [
    "# Module 1: Databases and SQL Introduction"
   ]
  },
  {
   "cell_type": "markdown",
   "metadata": {},
   "source": [
    "## Topics covered\n",
    "  * Data Storage\n",
    "    * Structured vs Semi-structured vs Unstructured\n",
    "  * Database System and Types\n",
    "  * Introduction to Relational Model\n",
    "  \n",
    "\n",
    "### Resources\n",
    " * [PostgreSQL Cheat sheet](https://web.dsa.missouri.edu/static/PDF/Postgres-Cheat-Sheet.pdf)\n",
    " * [psycopg2](http://initd.org/psycopg/)\n",
    " * [SQL Alchemy](http://docs.sqlalchemy.org/en/latest/)\n",
    "\n"
   ]
  },
  {
   "cell_type": "markdown",
   "metadata": {},
   "source": [
    "## Readings\n",
    "\n",
    "* [Database Basics](./resources/DB_and_DBMS.ipynb)\n",
    "\n",
    "* [Database Fundamentals, The Relational Data Model and Relational Database Constraints](https://web.dsa.missouri.edu/static/PDF/DB/Database_Fundamentals_Ch3.pdf)\n",
    "    * Supplemental: [Database Fundamentals, Data Modeling using ER Model](https://web.dsa.missouri.edu/static/PDF/DB/Database_Fundamentals_Ch7.pdf) Some topics will be discussed in the later module.\n",
    "\n",
    "* [Database vs. Data Warehouse](https://web.dsa.missouri.edu/static/PDF/DB/Database-vs-Data-Warehouse-A-Comparative-Review.pdf)\n",
    "    "
   ]
  },
  {
   "cell_type": "markdown",
   "metadata": {},
   "source": [
    "## Discussions\n",
    "\n",
    "* [Tell the class your motivations to learn (more) about database for your data scientist career development and your expectations from this course?](https://umsystem.instructure.com/courses/8151/discussion_topics/843324)\n",
    "\n",
    "* [How would you describe a database to someone and why is it useful to a data scientist?](https://umsystem.instructure.com/courses/8151/discussion_topics/843325)\n",
    "\n",
    "You are expected to complete your discussions on Canvas by Wednesday 10/20/2021.\n"
   ]
  },
  {
   "cell_type": "markdown",
   "metadata": {},
   "source": [
    "## Labs, Practices and Exercises\n",
    "\n",
    "### Labs \n",
    "\n",
    " 1. [Exploring PostgreSQL - Terminal / Command Line Interface (CLI)](./labs/ExploringPostgresSQL.ipynb)\n",
    "     * [Your Turn Answers](./labs/ExploringPostgresSQL-Answers.ipynb)\n",
    " 1. [PostgreSQL Access - Jupyter SQL Magic (SQLAlchemy)](./labs/PostgreSQLAccess.ipynb)\n",
    "     * [Your Turn Answers](./labs/PostgreSQLAccess-Answers.ipynb)\n",
    " 1. [SQL SELECT](./labs/SQL.ipynb)\n"
   ]
  },
  {
   "cell_type": "markdown",
   "metadata": {},
   "source": [
    "### Practices\n",
    " 1. [PostgreSQL SELECT](./practices/PostgreSQL.ipynb)\n",
    "      * [Answers](./answers/PostgreSQLSolution.ipynb)"
   ]
  },
  {
   "cell_type": "markdown",
   "metadata": {},
   "source": [
    "### Exercises\n",
    " 1. [SQL SELECT](./exercises/SQL.ipynb)\n",
    " \n",
    " Try not reading the answers first. This is the only answers key provided for all modules to get you warmed up.\n",
    " * [Answers](./answers/SQL-answers.ipynb)\n",
    " \n",
    " \n",
    " \n",
    "**<span style='background:yellow'>Prerequisite of Modules 2</span>**  \n",
    "Modules 2 will focus constructing and populating databases.\n",
    "You will need to ensure you can connect to the `dsa_student` database for your work.\n",
    "\n",
    "\n",
    " 2. [Connecting to PostgreSQL Database](./exercises/PG_Account_Preview.ipynb)\n",
    "  "
   ]
  },
  {
   "cell_type": "markdown",
   "metadata": {},
   "source": [
    "## Submitting  work\n",
    "\n",
    "#### Steps:\n",
    "  1. Open Terminal in JupyterHub\n",
    "  1. Change into the course folder\n",
    "  1. Stage (Git Add) the module's practice and exercise work   \n",
    "  `git  add   modules/module1/practices    modules/module1/exercises`\n",
    "  1. Create your work snapshot (Git Commit)  \n",
    "  `git   commit   -m   \"Module 1 submission\"`\n",
    "  1. Upload the snapshot to the server (Git Push)  \n",
    "  `git   push`\n"
   ]
  },
  {
   "cell_type": "markdown",
   "metadata": {},
   "source": [
    "---"
   ]
  }
 ],
 "metadata": {
  "kernelspec": {
   "display_name": "Python 3",
   "language": "python",
   "name": "python3"
  },
  "language_info": {
   "codemirror_mode": {
    "name": "ipython",
    "version": 3
   },
   "file_extension": ".py",
   "mimetype": "text/x-python",
   "name": "python",
   "nbconvert_exporter": "python",
   "pygments_lexer": "ipython3",
   "version": "3.7.3"
  }
 },
 "nbformat": 4,
 "nbformat_minor": 2
}
