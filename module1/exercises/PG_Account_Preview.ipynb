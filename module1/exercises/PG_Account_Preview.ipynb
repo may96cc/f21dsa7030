{
 "cells": [
  {
   "cell_type": "markdown",
   "metadata": {},
   "source": [
    "# Connecting to PostgreSQL Database\n",
    "\n"
   ]
  },
  {
   "cell_type": "markdown",
   "metadata": {},
   "source": [
    "All the previous examples have had you connecting to the database using a generic user and only having read-only access. This was ok as we were just querying the database. However, it does not work when you want to load data into a database or create a new set of tables within a database. For this everyone will need to use their own database account. \n",
    "\n",
    "## Multitenant Database\n",
    "\n",
    "You will be sharing a database with your fellow students.\n",
    "For this reason, you must create your tables within your own _namespace_, or **schema**.\n",
    "\n",
    "##### Each user has a schema created that matches their username.\n",
    "\n",
    "**Please review** the [DBASE information sheet](../resources/DSA_Student_DBASE_HowTo.pdf) for details on connecting to `dsa_student` PostgreSQL database using the `psql` command line interface.  "
   ]
  },
  {
   "cell_type": "markdown",
   "metadata": {},
   "source": [
    "## Task: Login and create new table.\n",
    "\n",
    "You will work in the terminal to login and create a new table. To get to the terminal you click the 'new' dropdown box and select terminal from the jupyter directory page.\n",
    "\n",
    "![image of where to find new terminal MISSING](../images/terminal.png)\n",
    "\n",
    "1. Log in to the database\n",
    "\n",
    "Now we will need to connect and logon to the psql server, specifically the dsa_student database of the pgsql.dsa.lan host. You will be prompted for a password: it is the same password as your SSO.\n",
    "```BASH\n",
    " psql -h pgsql.dsa.lan dsa_student\n",
    "```\n",
    "\n",
    "2. Create table\n",
    "Now that you are logged into the server, we are going to simply create a new table and insert one row of data to make sure that everything is set up correctly for future labs. \n",
    "Create a table named `whoami`, see definition below.\n",
    "```SQL\n",
    "CREATE TABLE SSO.whoami (pawprint_id char(20) UNIQUE, name varchar(70));\n",
    "```\n",
    "\n",
    "3. Insert one row of data into the table\n",
    "```SQL\n",
    "INSERT INTO SSO.whoami VALUES ('SSO','Your real name goes here');\n",
    "```\n",
    "\n",
    "***note you will want to change SSO in the above code to be your Paw Print.***\n",
    "\n",
    "\n",
    "![image of terminal after commands MISSING](../images/terminal2.png)"
   ]
  },
  {
   "cell_type": "markdown",
   "metadata": {},
   "source": [
    "### Afterward, check your work with\n",
    "\n",
    "The . below is important.\n",
    "```SQL\n",
    "\\dt SSO.\n",
    "```\n",
    "\n",
    "\n",
    "```SQL\n",
    "select * from SSO.whoami;\n",
    "```"
   ]
  },
  {
   "cell_type": "markdown",
   "metadata": {},
   "source": [
    "# SAVE YOUR NOTEBOOK, then `File > Close and Halt`"
   ]
  },
  {
   "cell_type": "markdown",
   "metadata": {},
   "source": [
    "---"
   ]
  }
 ],
 "metadata": {
  "kernelspec": {
   "display_name": "Python 3",
   "language": "python",
   "name": "python3"
  },
  "language_info": {
   "codemirror_mode": {
    "name": "ipython",
    "version": 3
   },
   "file_extension": ".py",
   "mimetype": "text/x-python",
   "name": "python",
   "nbconvert_exporter": "python",
   "pygments_lexer": "ipython3",
   "version": "3.7.3"
  }
 },
 "nbformat": 4,
 "nbformat_minor": 2
}
