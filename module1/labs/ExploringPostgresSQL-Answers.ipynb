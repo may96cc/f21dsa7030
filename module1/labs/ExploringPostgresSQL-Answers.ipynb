{
 "cells": [
  {
   "cell_type": "markdown",
   "metadata": {},
   "source": [
    "## <span style=\"background:yellow\">Your Turn</span>\n",
    "\n",
    "**In the Terminal Environment**\n",
    "  1. Look up all the cities and populations of those cities in South Africa and Egypt from the cities table\n",
    "    * Hint: Find the right table, `cities`, and describe to help construct the `SELECT` statement.\n",
    "    \n",
    "```SQL\n",
    "select * from cities where country in ('South Africa','Egypt');\n",
    "```\n",
    "Or \n",
    "```SQL\n",
    "select * from cities where country = 'South Africa' or country = 'Egypt';\n",
    "```\n",
    "  1. Look up the state code and alpha code for Missouri and New York in the `util_us_states` table using a single `SELECT` statement.\n",
    "  \n",
    "```SQL\n",
    "select state_alpha_code, state_name from util_us_states where state_name in ('NEW YORK', 'MISSORI');\n",
    "```\n",
    "Or \n",
    "```SQL\n",
    "select state_alpha_code, state_name from util_us_states where state_name = 'NEW YORK' or state_name = 'MISSOURI';\n",
    "```"
   ]
  },
  {
   "cell_type": "markdown",
   "metadata": {},
   "source": [
    "# SAVE YOUR NOTEBOOK, then `File > Close and Halt`"
   ]
  }
 ],
 "metadata": {
  "kernelspec": {
   "display_name": "Python 3",
   "language": "python",
   "name": "python3"
  },
  "language_info": {
   "codemirror_mode": {
    "name": "ipython",
    "version": 3
   },
   "file_extension": ".py",
   "mimetype": "text/x-python",
   "name": "python",
   "nbconvert_exporter": "python",
   "pygments_lexer": "ipython3",
   "version": "3.7.3"
  }
 },
 "nbformat": 4,
 "nbformat_minor": 1
}
