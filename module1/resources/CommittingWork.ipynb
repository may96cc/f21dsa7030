{
 "cells": [
  {
   "cell_type": "markdown",
   "metadata": {
    "collapsed": true
   },
   "source": [
    "# Saving your work using Git\n",
    "\n",
    "Git and version control is discussed in the PSDS2100 Introduction to Data Science course.\n",
    "The below a refresher for those previous students and may be new for some others.\n",
    "\n",
    "\n",
    "## Terminal Access to the Server\n",
    "To perform these steps you have to use a Linux terminal session.\n",
    "JupyterHub provides a basic one for us.\n",
    "\n",
    "![JH Terminal](../images/Starting_A_Terminal.png)\n",
    "\n",
    "\n",
    "### Terminal Screen\n",
    "\n",
    "![JH Terminal](../images/JH_Terminal.png)\n",
    "\n",
    "\n",
    "\n",
    "##  Review our work    \n",
    "```\n",
    "cd PSDS2110*\n",
    "git status\n",
    "```\n",
    "\n",
    "** File examples are from Python, not DB/SQL.  Expect your files to differ. **\n",
    "\n",
    "![JH Terminal](../images/JH_Terminal_Git_Status.png)\n",
    "\n",
    "\n",
    "##  Stage Changes\n",
    "```\n",
    "git add <file(s)>\n",
    "```\n",
    "    \n",
    "<span style=\"background:yellow;\">** NOTE **: Do not add database files, *.db, your repository.</span>\n",
    "    \n",
    "**You should be adding your _.ipynb_ files.**\n",
    "    \n",
    "##  Create a commit (i.e., a save point)\n",
    "```\n",
    "git commit -m \"This is my Day 1 and Day 2 work\"\n",
    "```\n",
    "    \n",
    "    \n",
    "## Send these changes to the server for safe keeping (i.e., publish)\n",
    "```\n",
    "git push\n",
    "```\n",
    "   \n",
    "## Confirm our working folder is clean and all work is tracked\n",
    "```\n",
    "git status\n",
    "```\n"
   ]
  },
  {
   "cell_type": "markdown",
   "metadata": {},
   "source": [
    "# You have saved your work and published to the server!"
   ]
  }
 ],
 "metadata": {
  "kernelspec": {
   "display_name": "Python 3",
   "language": "python",
   "name": "python3"
  },
  "language_info": {
   "codemirror_mode": {
    "name": "ipython",
    "version": 3
   },
   "file_extension": ".py",
   "mimetype": "text/x-python",
   "name": "python",
   "nbconvert_exporter": "python",
   "pygments_lexer": "ipython3",
   "version": "3.7.3"
  }
 },
 "nbformat": 4,
 "nbformat_minor": 1
}
