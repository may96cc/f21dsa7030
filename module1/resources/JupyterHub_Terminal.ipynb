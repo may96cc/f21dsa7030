{
 "cells": [
  {
   "cell_type": "markdown",
   "metadata": {},
   "source": [
    "# JupyterHub Terminal Environment\n",
    "\n",
    "The JupyterHub environment provides a terminal for command line interaction.\n",
    "This command line is useful for both SQLite and PostgreSQL.\n",
    "\n",
    "Additionally, later in the course we will use the terminal to check in our work on lab notebooks using GIT."
   ]
  },
  {
   "cell_type": "markdown",
   "metadata": {},
   "source": [
    "After loggining in, you will select **[New ]**, then **Terminal**. \n",
    "This is shown below."
   ]
  },
  {
   "cell_type": "markdown",
   "metadata": {},
   "source": [
    "![JH Terminal](../images/Starting_A_Terminal.png)"
   ]
  },
  {
   "cell_type": "markdown",
   "metadata": {},
   "source": [
    "After logging in, you will have a new browser tab as shown.\n",
    "\n",
    "![JH Terminal](../images/JH_Terminal.png)"
   ]
  },
  {
   "cell_type": "markdown",
   "metadata": {},
   "source": [
    "You will then navigate to the appropriate course folder.  \n",
    "\n"
   ]
  }
 ],
 "metadata": {
  "kernelspec": {
   "display_name": "Python 3",
   "language": "python",
   "name": "python3"
  },
  "language_info": {
   "codemirror_mode": {
    "name": "ipython",
    "version": 3
   },
   "file_extension": ".py",
   "mimetype": "text/x-python",
   "name": "python",
   "nbconvert_exporter": "python",
   "pygments_lexer": "ipython3",
   "version": "3.7.3"
  }
 },
 "nbformat": 4,
 "nbformat_minor": 1
}
