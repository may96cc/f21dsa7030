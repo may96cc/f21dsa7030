{
 "cells": [
  {
   "cell_type": "markdown",
   "metadata": {},
   "source": [
    "# PostgreSQL DBMS"
   ]
  },
  {
   "cell_type": "markdown",
   "metadata": {},
   "source": [
    "PostgreSQL is an open source relational database management system (RDBMS)\n",
    "\n",
    "#### From the documentation:\n",
    "\n",
    "\"PostgreSQL is a powerful, open source object-relational database system. \n",
    "It has more than 15 years of active development and a proven architecture that has earned it a strong reputation for reliability, data integrity, and correctness. \n",
    "It runs on all major operating systems, including Linux, UNIX (AIX, BSD, HP-UX, SGI IRIX, Mac OS X, Solaris, Tru64), and Windows. \n",
    "It is fully ACID compliant, has full support for foreign keys, joins, views, triggers, and stored procedures (in multiple languages). \n",
    "It includes most SQL:2008 data types, including INTEGER, NUMERIC, BOOLEAN, CHAR, VARCHAR, DATE, INTERVAL, and TIMESTAMP. \n",
    "It also supports storage of binary large objects, including pictures, sounds, or video. \n",
    "It has native programming interfaces for C/C++, Java, .Net, Perl, Python, Ruby, Tcl, ODBC, among others, and exceptional documentation. \"\n",
    "\n"
   ]
  },
  {
   "cell_type": "markdown",
   "metadata": {},
   "source": [
    "##### Characteristics\n",
    "\n",
    "\"An enterprise class database, PostgreSQL boasts sophisticated features such as Multi-Version Concurrency Control (MVCC), point in time recovery, tablespaces, asynchronous replication, nested transactions (savepoints), online/hot backups, a sophisticated query planner/optimizer, and write ahead logging for fault tolerance. It supports international character sets, multibyte character encodings, Unicode, and it is locale-aware for sorting, case-sensitivity, and formatting. It is highly scalable both in the sheer quantity of data it can manage and in the number of concurrent users it can accommodate. There are active PostgreSQL systems in production environments that manage in excess of 4 terabytes of data. Some general PostgreSQL limits are included in the table below.\"\n",
    "\n",
    "|Limit | Value |\n",
    "|---|---|\n",
    "|Maximum Database Size |\tUnlimited |\n",
    "|Maximum Table Size |\t32 TB |\n",
    "|Maximum Row Size |\t1.6 TB |\n",
    "|Maximum Field Size |\t1 GB |\n",
    "|Maximum Rows per Table |\tUnlimited |\n",
    "|Maximum Columns per Table |\t250 - 1600 depending on column types |\n",
    "|Maximum Indexes per Table |\tUnlimited |"
   ]
  },
  {
   "cell_type": "markdown",
   "metadata": {},
   "source": [
    "## `psql`\n",
    "\n",
    "`psql` is the interactive terminal for working with PostgreSQL. \n",
    "This program connects you to a postgres database, which you specify with command options flags:\n",
    " * -h the host to connect to\n",
    " * -U the user to connect with\n",
    " * -p the port to connect to (default is 5432)\n",
    "  \n",
    "```Bash\n",
    "psql -h localhost -U username databasename\n",
    "```\n",
    " \n",
    "\n",
    "Lab exercises will introduce you to connecting to PostgreSQL and exploring the database."
   ]
  }
 ],
 "metadata": {
  "kernelspec": {
   "display_name": "Python 3",
   "language": "python",
   "name": "python3"
  },
  "language_info": {
   "codemirror_mode": {
    "name": "ipython",
    "version": 3
   },
   "file_extension": ".py",
   "mimetype": "text/x-python",
   "name": "python",
   "nbconvert_exporter": "python",
   "pygments_lexer": "ipython3",
   "version": "3.4.5"
  }
 },
 "nbformat": 4,
 "nbformat_minor": 1
}
