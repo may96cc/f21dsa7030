{
 "cells": [
  {
   "cell_type": "markdown",
   "metadata": {},
   "source": [
    "# Saving Work using Git and Pulling Course Modules\n",
    "\n",
    "Course modules are published at regular intervals to help everyone move through the course at a similar pace.\n",
    "If you finish a module early, please consider visiting the discussion boards to see if you can help your peers.\n",
    "\n",
    "Below is a discussion of pulling newly published course content from the server."
   ]
  },
  {
   "cell_type": "markdown",
   "metadata": {},
   "source": [
    "## Terminal Access to the Server\n",
    "To perform these steps you have to use a Linux terminal session.\n",
    "JupyterHub provides a basic one for us.\n",
    "\n",
    "Note: The screen shots are from a different course, but are  analogous to this course and still applicable.\n",
    "\n",
    "![JH Terminal](../images/Starting_A_Terminal.png)\n",
    "\n",
    "\n",
    "### Terminal Screen\n",
    "\n",
    "![JH Terminal](../images/JH_Terminal.png)\n",
    "\n"
   ]
  },
  {
   "cell_type": "markdown",
   "metadata": {},
   "source": [
    "##  Review Your Work    \n",
    "\n",
    "You should first change into your course directory, then ask **`git`** to report the status.\n",
    "\n",
    "```\n",
    "cd PSDS2300*\n",
    "git status\n",
    "```\n",
    "\n",
    "![JH Terminal](../images/JH_Terminal_Git_Status.png)\n",
    "\n",
    "\n",
    "##  Stage Changes\n",
    "\n",
    "You should then add your files, typically this will be just your the Jupyter Notebooks that you have worked on.\n",
    "\n",
    "```\n",
    "git add <file(s)>\n",
    "```\n",
    "    \n",
    "<span style=\"background:yellow;\">** NOTE **: Do not add database files, *.db, your repository.</span>\n",
    "    \n",
    "##  Create a Commit (i.e., a save point)\n",
    "\n",
    "A `commit` is a save point in for your local file.\n",
    "If necessary, we can use **`git`** to restore a file to any save point that has been previously committed.\n",
    "You should always provide related commit message to help you identify the save point from the **`git`** log files.\n",
    "\n",
    "```\n",
    "git commit -m \"This is my Module 1 work from <MM/DD/YYYY>\"\n",
    "```\n",
    "    \n",
    "    \n",
    "## Send your changes to the server for safe keeping (i.e., publish)\n",
    "\n",
    "Pushing with **`git`** sends your changes since the last communication (commit) to the server.\n",
    "In essence, you are publishing these changes to all other developers or data scientists who have access to this repository.\n",
    "\n",
    "```\n",
    "git push\n",
    "```\n",
    "   \n",
    "## Confirm your working folder is clean and all work is tracked\n",
    "\n",
    "When you started with **`status`** above, you had numerous files that needed to be staged and committed.\n",
    "Now that you have **`add`**ed, **`commit`**ted, **`push`**ed; the changes are safely synchronized with the PSDS server.\n",
    "\n",
    "```\n",
    "git status\n",
    "```"
   ]
  },
  {
   "cell_type": "markdown",
   "metadata": {},
   "source": [
    "# You have saved your work and published to the server!"
   ]
  },
  {
   "cell_type": "markdown",
   "metadata": {},
   "source": [
    "# Now, pull down an update\n",
    "\n",
    "This shows how to pull an update from the published `upstream` server.\n",
    "```\n",
    "git pull --no-edit upstream master\n",
    "```\n",
    "\n"
   ]
  }
 ],
 "metadata": {
  "kernelspec": {
   "display_name": "Python 3",
   "language": "python",
   "name": "python3"
  },
  "language_info": {
   "codemirror_mode": {
    "name": "ipython",
    "version": 3
   },
   "file_extension": ".py",
   "mimetype": "text/x-python",
   "name": "python",
   "nbconvert_exporter": "python",
   "pygments_lexer": "ipython3",
   "version": "3.4.3"
  }
 },
 "nbformat": 4,
 "nbformat_minor": 1
}
