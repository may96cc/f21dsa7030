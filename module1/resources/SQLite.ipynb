{
 "cells": [
  {
   "cell_type": "markdown",
   "metadata": {},
   "source": [
    "# SQLite"
   ]
  },
  {
   "cell_type": "markdown",
   "metadata": {},
   "source": [
    "#### From the Documentation:\n",
    "\n",
    "\"SQLite is an in-process library that implements a self-contained, serverless, zero-configuration, transactional SQL database engine. \n",
    "The code for SQLite is in the public domain and is thus free for use for any purpose, commercial or private. \n",
    "SQLite is the most widely deployed database in the world with more applications than we can count, including several high-profile projects.\n",
    "\n",
    "\"SQLite is an embedded SQL database engine. \n",
    "Unlike most other SQL databases, SQLite does not have a separate server process. \n",
    "SQLite reads and writes directly to ordinary disk files. \n",
    "A complete SQL database with multiple tables, indices, triggers, and views, is contained in a single disk file. \n",
    "The database file format is cross-platform - you can freely copy a database between 32-bit and 64-bit systems or between big-endian and little-endian architectures. \n",
    "These features make SQLite a popular choice as an Application File Format. \n",
    "Think of SQLite not as a replacement for Oracle but as a replacement for fopen().\n",
    "\n",
    "\n",
    "## SQLite Interfaces:\n",
    "\n",
    "SQLite has numerous interfaces, including a command line interface (CLI). \n",
    "Additionally, API interfaces are provided in numerous environments / languages such as \n",
    " * Python\n",
    " * R\n",
    " * C \n",
    " * C++ \n",
    " * PHP \n",
    " * Perl\n",
    " * ...\n",
    "\n",
    " \n",
    "\n",
    "Lab exercises will introduce you to accessing a SQLite database file and exploring the database.\n",
    "Additionally, we will use the Jupyter Notebook extensions which use SQLAlchemy.\n",
    "\n",
    "\n",
    "**Note**: Modern smart phones and smart phone applications typically use a SQLite database for their data, such as contacts, text messages, etc.\n"
   ]
  }
 ],
 "metadata": {
  "kernelspec": {
   "display_name": "Python 3",
   "language": "python",
   "name": "python3"
  },
  "language_info": {
   "codemirror_mode": {
    "name": "ipython",
    "version": 3
   },
   "file_extension": ".py",
   "mimetype": "text/x-python",
   "name": "python",
   "nbconvert_exporter": "python",
   "pygments_lexer": "ipython3",
   "version": "3.4.5"
  }
 },
 "nbformat": 4,
 "nbformat_minor": 1
}
