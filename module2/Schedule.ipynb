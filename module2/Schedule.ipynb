{
 "cells": [
  {
   "cell_type": "markdown",
   "metadata": {},
   "source": [
    "# Module 2: Database Design"
   ]
  },
  {
   "cell_type": "markdown",
   "metadata": {},
   "source": [
    "## Topics covered\n",
    "\n",
    " * Introduction to SQL Select for Programatic Data Access \n",
    " * Entity Relationship Diagram (ERD) \n",
    " * ERD to Data Definition Language (DDL)\n"
   ]
  },
  {
   "cell_type": "markdown",
   "metadata": {},
   "source": [
    "\n",
    "## Readings\n",
    "\n",
    "### Database Design\n",
    "* [Review from Module 1 - Database Fundamentals, The Relational Data Model and Relational Database Constraints](https://web.dsa.missouri.edu/static/PDF/DB/Database_Fundamentals_Ch3.pdf)\n",
    "    * Supplemental: [Database Fundamentals, Data Modeling using ER Model](https://web.dsa.missouri.edu/static/PDF/DB/Database_Fundamentals_Ch7.pdf)\n",
    "* [Data Modelling using ERD with Crow Foot Notation](https://www.codeproject.com/Articles/878359/Data-modelling-using-ERD-with-Crow-Foot-Notation)\n",
    "* [ERD \"Crow's Foot\" Relationship Symbols Cheat Sheet](http://www.vivekmchawla.com/erd-crows-foot-relationship-symbols-cheat-sheet/)\n",
    "* [Crow's Foot Notation](http://www.vertabelo.com/blog/technical-articles/crow-s-foot-notation/)\n",
    "* [Data formats, types, usage and standards](./resources/DataTypesAndStandards.ipynb)\n"
   ]
  },
  {
   "cell_type": "markdown",
   "metadata": {},
   "source": [
    "## Discussions\n",
    "* [Please share with your classmates what application you used to construct your ERD **and why** and post an image of your ERD that you created in Database Design Lab](https://umsystem.instructure.com/courses/8151/discussion_topics/853797)\n",
    "    \n"
   ]
  },
  {
   "cell_type": "markdown",
   "metadata": {},
   "source": [
    "## Labs\n",
    "\n",
    "#### Programmatic Access\n",
    "  * [Programmatic Access to SQL](./labs/PythonPostgreSQL.ipynb)\n",
    "      * [Your Turn Answers](./labs/PythonPostgreSQL-Answers.ipynb)\n",
    "  * [SQL Alchemy](./labs/SQLAlchemy.ipynb)\n",
    "      * [Your Turn Answers](./labs/SQLAlchemy-Answers.ipynb)\n",
    "  \n",
    "#### Database Design\n",
    "  * [Words to Entities and Attributes](./labs/DB_Design_1.ipynb)\n",
    "  * [Entities and Attributes to ERD](./labs/DB_Design_2.ipynb)\n",
    "  * [Database Design](./labs/DatabaseDesign.ipynb)\n",
    "      * [Your Turn Answers](./labs/DatabaseDesign-Answers.ipynb)\n"
   ]
  },
  {
   "cell_type": "markdown",
   "metadata": {},
   "source": [
    "## Practices\n",
    "\n",
    "#### Programmatic Acces\n",
    "  * [SQL_Visualization_Python](./practices/SQL_Visualization_Py.ipynb)  \n",
    "  * [SQL_Visualization_R](./practices/SQL_Visualization_R.ipynb)\n",
    "\n",
    "\n",
    "#### Database Design\n",
    "  * [Converting ERD to DDL](./practices/ERD2DDL.ipynb)\n",
    "  * [User Requirements to ERD](./practices/DB_Design_Practice.ipynb)\n",
    "    * [Answers](./answers/DB_Design_Practice-Answers.ipynb)\n"
   ]
  },
  {
   "cell_type": "markdown",
   "metadata": {},
   "source": [
    "## Exercises\n",
    " * [Database Design](./exercises/DB_Design.ipynb)\n",
    " * [Database Create and Load](./exercises/CreateAndLoadSurveyDB.ipynb)\n"
   ]
  },
  {
   "cell_type": "markdown",
   "metadata": {},
   "source": [
    "## Submitting  work\n",
    "\n",
    "#### Steps:\n",
    "  1. Open Terminal in JupyterHub\n",
    "  1. Change into the course folder  \n",
    "  1. Stage (Git Add) the module's exercise work   \n",
    "  `git  add   module2/practices module2/exercises`\n",
    "  1. Create your work snapshot (Git Commit)  \n",
    "  `git   commit   -m   \"Module 2 submission\"`\n",
    "  1. Upload the snapshot to the server (Git Push)  \n",
    "  `git   push`"
   ]
  },
  {
   "cell_type": "markdown",
   "metadata": {},
   "source": [
    "---"
   ]
  }
 ],
 "metadata": {
  "kernelspec": {
   "display_name": "Python 3",
   "language": "python",
   "name": "python3"
  },
  "language_info": {
   "codemirror_mode": {
    "name": "ipython",
    "version": 3
   },
   "file_extension": ".py",
   "mimetype": "text/x-python",
   "name": "python",
   "nbconvert_exporter": "python",
   "pygments_lexer": "ipython3",
   "version": "3.7.3"
  }
 },
 "nbformat": 4,
 "nbformat_minor": 2
}
