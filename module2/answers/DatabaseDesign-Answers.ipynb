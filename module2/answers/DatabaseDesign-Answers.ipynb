{
 "cells": [
  {
   "cell_type": "markdown",
   "metadata": {
    "collapsed": true
   },
   "source": [
    "# Database Design\n",
    "\n",
    "\n",
    "\n",
    "\n",
    "## From Excel to DB to Answers\n",
    "\n",
    "For this lab you will be taking a MS Excel file __with three tabs__ of data and using that to create a database in PostgreSQL.\n",
    "\n",
    "The file is located under datasets as [Module4Data.xlsx](../../../datasets/Module4Data.xlsx).\n",
    "\n",
    "### Data \n",
    "The three pages of data are: \n",
    "  1. Artist - contains artist name, genre, and year formed;\n",
    "  1. Albums - contains artist name, album title, year produced\n",
    "  1. Songs - contains album title, song name, song length.\n",
    "\n",
    "You will notice that the last tab, Songs is similar to the unnormalized data discussed in previous examples.\n"
   ]
  },
  {
   "cell_type": "markdown",
   "metadata": {},
   "source": [
    "### Methodology\n",
    "\n",
    "Please recall the steps of the database design process!\n",
    "\n",
    "  1. Discovery\n",
    "  1. Modelling\n",
    "  1. Defining\n",
    "\n",
    "### Discovery \n",
    "\n",
    "You should now take a moment to go and look at the data.  Identify the entities that are relevant for your database, and what their respective attributes will be.  Then, contemplate the identifiers for those entities, review Canvas lessons if needed.\n"
   ]
  },
  {
   "cell_type": "markdown",
   "metadata": {},
   "source": [
    "### Modelling\n",
    "Once you have identified all the aspects of the database, try to sketch out a model.  \n",
    "  1. How are the entities connected through relationships?\n",
    "  1. Is there one table per file tab? \n",
    "  1. Are you going to use __id__ columns as done in the previous examples?\n",
    "  1. Which columns of data create overlaps that we can use as foriegn keys to reference other tables?\n",
    "  1. Is your model normalized to remove redundancy?\n",
    "  \n",
    "Your resulting model should be able to hold all the data that you have been given. \n",
    "\n",
    "This portion of the activity is one of the most important so don't be afraid to take a while to design the system.\n",
    "\n",
    "### Defining\n",
    "\n",
    "Once you have your model designed, it is time to write the CREATE TABLE statements into a text file or use the Notebook Cell below. Add any additional DDL you fee is appropriate as well.\n",
    "\n",
    "#### Create Table for Artists\n",
    "\n",
    "Write the Create Table statement for the artist table.\n",
    "Ensure you use appropriate data types and column/table constraints as necessary.  \n",
    "\n",
    "**Remember** to define a primary key for the table."
   ]
  },
  {
   "cell_type": "markdown",
   "metadata": {},
   "source": [
    "##  Artist SQL\n",
    "\n",
    "```SQL\n",
    "CREATE TABLE Artist (\n",
    "    artist_id INT, \n",
    "    name varchar(100), \n",
    "    genre varchar(100), \n",
    "    year_formed INT,\n",
    "    PRIMARY KEY (artist_id)\n",
    ");\n",
    "```\n",
    "\n",
    "We make a choice fo using an `artist_id` because artists may have the same name and this integer type (counting id) will be well suited for `FOREIGN KEY` usage.\n"
   ]
  },
  {
   "cell_type": "markdown",
   "metadata": {},
   "source": [
    "#### Create Table for Albums\n",
    "\n",
    "Write the Create Table statement for the artist table.\n",
    "Ensure you use appropriate data types and column/table constraints as necessary.  \n",
    "\n",
    "**Remember** to link the Albums records to the Artist records via a foreign key relationship."
   ]
  },
  {
   "cell_type": "markdown",
   "metadata": {},
   "source": [
    "## Albums Definition\n",
    "\n",
    "Recall, an Album is recorded by and Artist.\n",
    "Therefore, we expect the album to have a foreign key reference back to the Artist table.\n",
    "In fact, we can define the album to be a proper child of the artist by making the `artist_id` first part of the key structure for Album.\n",
    "\n",
    "```SQL\n",
    "CREATE TABLE Album (\n",
    "    artist_id INT, \n",
    "    title varchar(100), \n",
    "    year_produced INT,\n",
    "    PRIMARY KEY (artist_id, title),\n",
    "    FOREIGN KEY (artist_id)\n",
    "        REFERENCES Artist(artist_id)\n",
    ");\n",
    "```\n",
    "\n",
    "Notice the primary key is a composite of the `(artist_id, title)`.\n",
    "\n",
    "The FOREIGN KEY refers back to the parent entity.\n",
    "\n",
    "\n",
    "** Alternatively **\n",
    "\n",
    "\n",
    "```SQL\n",
    "CREATE TABLE Album (\n",
    "    album_id INT,\n",
    "    artist_id INT, \n",
    "    title varchar(100), \n",
    "    year_produced INT,\n",
    "    PRIMARY KEY (album_id),\n",
    "    FOREIGN KEY (artist_id)\n",
    "        REFERENCES Artist(artist_id)\n",
    ");\n",
    "```\n"
   ]
  },
  {
   "cell_type": "markdown",
   "metadata": {},
   "source": [
    "## Songs Definition\n",
    "\n",
    "Albums have tracks, so we can number the tracks sequentially on the album.\n",
    "We will work with the second definition of Album, where the primary key is an `album_id`.\n",
    "Therefore, we expect the song to have a foreign key reference back to the Album table.\n",
    "\n",
    "We can define the song to be a proper child of the album by making the `album_id` first part of the key structure for Song.\n",
    "\n",
    "```SQL\n",
    "CREATE TABLE Song (\n",
    "    album_id INT,\n",
    "    track INT,\n",
    "    title varchar(100), \n",
    "    length varchar(20),\n",
    "    PRIMARY KEY (album_id, track),\n",
    "    FOREIGN KEY (album_id)\n",
    "        REFERENCES Album(album_id)\n",
    ");\n",
    "```\n",
    "\n",
    "Notice the primary key is a composite of the `(artist_id, title)`.\n",
    "\n"
   ]
  },
  {
   "cell_type": "markdown",
   "metadata": {},
   "source": [
    "Now that we have finalized your DDL, you need to create the database tables in PostgreSQL.  \n",
    "\n",
    "You will add another table to this database and populate it with data in the practice.\n"
   ]
  },
  {
   "cell_type": "code",
   "execution_count": null,
   "metadata": {},
   "outputs": [],
   "source": [
    "#Import Libraries\n",
    "import psycopg2\n",
    "import getpass\n",
    "\n",
    "#Set connection variables\n",
    "database = \"dsa_student\"\n",
    "user     = input(\"Type username (pawprint) and hit enter: \")\n",
    "password = getpass.getpass(\"Type password and hit enter: \")\n",
    "\n",
    "\n",
    "connection = psycopg2.connect(database = database,\n",
    "                              user     = user,\n",
    "                              host     = 'pgsql.dsa.lan',\n",
    "                              password = password)\n"
   ]
  },
  {
   "cell_type": "code",
   "execution_count": null,
   "metadata": {},
   "outputs": [],
   "source": [
    "## Drop tables if they already exist\n",
    "with connection, connection.cursor() as cursor:\n",
    "    cursor.execute(\"DROP TABLE IF EXISTS Song\")\n",
    "    cursor.execute(\"DROP TABLE IF EXISTS Album;\")\n",
    "    cursor.execute(\"DROP TABLE IF EXISTS Artist;\")"
   ]
  },
  {
   "cell_type": "code",
   "execution_count": null,
   "metadata": {},
   "outputs": [],
   "source": [
    "# SQL from above to create tables\n",
    "#----------------------------------------------------------------\n",
    "\n",
    "with connection, connection.cursor() as cursor:\n",
    "\n",
    "    #Create table\n",
    "    cursor.execute(\n",
    "        '''\n",
    "        CREATE TABLE Artist (\n",
    "            artist_id INT,\n",
    "            name varchar(100), \n",
    "            genre varchar(100), \n",
    "            year_formed INT, \n",
    "            PRIMARY KEY (artist_id)\n",
    "        );\n",
    "        '''\n",
    "    )\n",
    "   \n",
    "    #Check table created\n",
    "    cursor.execute(\"SELECT COLUMN_NAME FROM information_schema.COLUMNS WHERE TABLE_NAME ='artist' and TABLE_SCHEMA=\\'%s\\';\" % user)\n",
    "    results = cursor.fetchall()\n",
    "\n",
    "print(\"Columns in table:\")\n",
    "for row in results:\n",
    "    print(row)"
   ]
  },
  {
   "cell_type": "code",
   "execution_count": null,
   "metadata": {},
   "outputs": [],
   "source": [
    "with connection, connection.cursor() as cursor:\n",
    "    \n",
    "    #Create table\n",
    "    cursor.execute(\n",
    "        '''\n",
    "        CREATE TABLE Album (\n",
    "            album_id INT,\n",
    "            artist_id INT, \n",
    "            title varchar(100), \n",
    "            year_produced INT,\n",
    "            PRIMARY KEY (album_id),\n",
    "            FOREIGN KEY (artist_id)\n",
    "                REFERENCES Artist(artist_id)\n",
    "        );\n",
    "        '''\n",
    "    )\n",
    "    \n",
    "    #Check table created\n",
    "    cursor.execute(\"SELECT COLUMN_NAME FROM information_schema.COLUMNS WHERE TABLE_NAME ='album' and TABLE_SCHEMA=\\'%s\\';\" % user)\n",
    "    results = cursor.fetchall()\n",
    "\n",
    "print(\"Columns in table:\")\n",
    "for row in results:\n",
    "    print(row)"
   ]
  },
  {
   "cell_type": "code",
   "execution_count": null,
   "metadata": {},
   "outputs": [],
   "source": [
    "with connection, connection.cursor() as cursor:\n",
    "\n",
    "    #Create table\n",
    "    cursor.execute(\n",
    "        '''\n",
    "        CREATE TABLE Song (\n",
    "            album_id INT, \n",
    "            track INT, \n",
    "            title varchar(100), \n",
    "            length varchar(20), \n",
    "            PRIMARY KEY (album_id, track), \n",
    "            FOREIGN KEY (album_id) \n",
    "                REFERENCES Album(album_id)\n",
    "        );\n",
    "        '''\n",
    "    )\n",
    "\n",
    "    #Check table created\n",
    "    cursor.execute(\"SELECT COLUMN_NAME FROM information_schema.COLUMNS WHERE TABLE_NAME ='song' and TABLE_SCHEMA=\\'%s\\';\" % user)\n",
    "    results = cursor.fetchall()\n",
    "\n",
    "print(\"Columns in table:\")\n",
    "for row in results:\n",
    "    print(row)"
   ]
  },
  {
   "cell_type": "code",
   "execution_count": null,
   "metadata": {},
   "outputs": [],
   "source": [
    "## Close the connection\n",
    "connection.close()"
   ]
  },
  {
   "cell_type": "markdown",
   "metadata": {},
   "source": [
    "## <span style=\"background:yellow\">Your Turn</span>\n",
    "\n",
    "Copy the CREATE TABLE statement for Song and change it to use a Song ID as a primary key, then think about why we chose not to do that in the first place. (Your statement will error because the table already exists)\n",
    "\n"
   ]
  },
  {
   "cell_type": "code",
   "execution_count": null,
   "metadata": {},
   "outputs": [],
   "source": [
    "connection = psycopg2.connect(database = database,\n",
    "                              user     = user,\n",
    "                              host     = 'pgsql.dsa.lan',\n",
    "                              password = password)\n",
    "\n",
    "with connection, connection.cursor() as cursor:\n",
    "    cursor.execute(\"DROP TABLE IF EXISTS Song;\")    \n",
    "    \n",
    "    #Create table\n",
    "    cursor.execute(\n",
    "        '''\n",
    "        CREATE TABLE Song (\n",
    "            song_id INT,\n",
    "            album_id INT,\n",
    "            track INT,\n",
    "            title varchar(100),\n",
    "            length varchar(20),\n",
    "            PRIMARY KEY (song_id),\n",
    "            FOREIGN KEY (album_id)\n",
    "                REFERENCES Album(album_id)\n",
    "        );\n",
    "        '''\n",
    "    )\n",
    "    \n",
    "    #Check table created\n",
    "    cursor.execute(\"SELECT COLUMN_NAME FROM information_schema.COLUMNS WHERE TABLE_NAME ='song' and TABLE_SCHEMA=\\'%s\\';\" % user)\n",
    "    results = cursor.fetchall()\n",
    "\n",
    "print(\"Columns in table:\")\n",
    "for row in results:\n",
    "    print(row)\n",
    "\n",
    "\n",
    "connection.close()"
   ]
  },
  {
   "cell_type": "markdown",
   "metadata": {},
   "source": [
    "Write a CREATE TABLE statement for a 'Genre' table that would hold the name of the genre, the year it was introduced, and an id as a primary field. Then think about how the artist table would change if this table existed beforehand."
   ]
  },
  {
   "cell_type": "code",
   "execution_count": null,
   "metadata": {},
   "outputs": [],
   "source": [
    "connection = psycopg2.connect(database = database,\n",
    "                              user     = user,\n",
    "                              host     = 'pgsql.dsa.lan',\n",
    "                              password = password)\n",
    "\n",
    "with connection, connection.cursor() as cursor:\n",
    "    cursor.execute(\"DROP TABLE IF EXISTS genre;\")\n",
    "    cursor.execute(\n",
    "        '''\n",
    "        CREATE TABLE genre(\n",
    "            genre_name varchar(20),\n",
    "            year_introduced int,\n",
    "            genre_id int,\n",
    "            PRIMARY KEY(genre_id)\n",
    "        );\n",
    "        '''\n",
    "    )\n",
    "    \n",
    "    #Check table created\n",
    "    cursor.execute(\"SELECT COLUMN_NAME FROM information_schema.COLUMNS WHERE TABLE_NAME ='genre' and TABLE_SCHEMA=\\'%s\\';\" % user)\n",
    "    results = cursor.fetchall()\n",
    "\n",
    "print(\"Columns in table:\")\n",
    "for row in results:\n",
    "    print(row)\n",
    "    \n",
    "connection.close()"
   ]
  },
  {
   "cell_type": "markdown",
   "metadata": {},
   "source": [
    "\n",
    "\n",
    "# PLEASE SAVE YOUR NOTEBOOK"
   ]
  }
 ],
 "metadata": {
  "kernelspec": {
   "display_name": "Python 3",
   "language": "python",
   "name": "python3"
  },
  "language_info": {
   "codemirror_mode": {
    "name": "ipython",
    "version": 3
   },
   "file_extension": ".py",
   "mimetype": "text/x-python",
   "name": "python",
   "nbconvert_exporter": "python",
   "pygments_lexer": "ipython3",
   "version": "3.7.3"
  }
 },
 "nbformat": 4,
 "nbformat_minor": 1
}
