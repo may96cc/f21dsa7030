{
 "cells": [
  {
   "cell_type": "markdown",
   "metadata": {},
   "source": [
    "# Database Design and Load Exercise\n",
    "\n",
    "### Steps\n",
    " 1. Analyze\n",
    " 2. Design\n",
    " 3. Data Carpentry\n",
    " 4. Data Loading\n",
    " 5. Analytical Queries"
   ]
  },
  {
   "cell_type": "markdown",
   "metadata": {},
   "source": [
    "# You are designing a system to track shopping habbits in a _Smart Store_.\n",
    "\n",
    "You are (hopefully) familiar with the online shopping experience and the concept of an online shopping cart.\n",
    "Now imagine a physical store can capture shopper behavior in a similar fasion.\n",
    "\n",
    "Your analysis of the use case for a database has identified the following Entities and their associated attributes.\n",
    "\n"
   ]
  },
  {
   "cell_type": "markdown",
   "metadata": {},
   "source": [
    "### orders :\n",
    "* `order_id`: order identifier\n",
    "* `user_id`: customer identifier\n",
    "* `eval_set`: which evaluation set this order belongs in (see `SET` described below)\n",
    "* `order_number`: the order sequence number for this user (1 = first, n = nth)\n",
    "* `order_dow`: the day of the week the order was placed on\n",
    "* `order_hour_of_day`: the hour of the day the order was placed on\n",
    "* `days_since_prior`: days since the last order, capped at 30 (with NAs for `order_number` = 1)\n",
    "\n",
    "### products :\n",
    "* `product_id`: product identifier\n",
    "* `product_name`: name of the product\n",
    "* `aisle_id`: foreign key\n",
    "* `department_id`: foreign key\n",
    "\n",
    "### aisles :\n",
    "* `aisle_id`: aisle identifier\n",
    "* `aisle`: the name of the aisle\n",
    "\n",
    "### deptartments :\n",
    "* `department_id`: department identifier\n",
    "* `department`: the name of the department\n",
    "\n",
    "### order_products :\n",
    "* `order_id`: foreign key\n",
    "* `product_id`: foreign key\n",
    "* `add_to_cart_order`: order in which each product was added to cart\n",
    "* `reordered`: 1 if this product has been ordered by this user in the past, 0 otherwise"
   ]
  },
  {
   "cell_type": "markdown",
   "metadata": {
    "collapsed": true
   },
   "source": [
    "# Task 1\n",
    "\n",
    " 1. Convert the above Entities and attributes into an ERD model.\n",
    "    * Any application is acceptable, just to capture a screen shot or an **image**. \n",
    " 1. Upload the image to the _COURSE_/`Day2/module2/exercises/` folder. \n",
    " 1. In the markdown cell below, double click and put the name of the image file within the `()`.\n",
    "   * Example: Change \n",
    "   \n",
    "     `![ERD MISSING]()`  \n",
    " to   \n",
    "     `![ERD MISSING](erd.jpg)`  "
   ]
  },
  {
   "cell_type": "markdown",
   "metadata": {},
   "source": [
    "![ERD](db_design.png)"
   ]
  },
  {
   "cell_type": "markdown",
   "metadata": {
    "collapsed": true
   },
   "source": [
    "![ERD MISSING]()"
   ]
  },
  {
   "cell_type": "markdown",
   "metadata": {},
   "source": [
    "# Task 2\n",
    " 1. Convert the Entities and attributes into a Database schema for Postgres.\n",
    " 1. Remember to prefix table names with your database id, e.g., _ncw24_.\n",
    "    * Example: `CREATE TABLE ncw24.Order ... `\n",
    "    \n",
    "**Remember to specify your Primary Keys and Foreign Keys for each table!**"
   ]
  },
  {
   "cell_type": "code",
   "execution_count": null,
   "metadata": {
    "collapsed": true
   },
   "outputs": [],
   "source": [
    "# Add all the DDL to create your schema to this cell\n",
    "# --------------------------------------------------\n",
    "%%sql\n",
    "CREATE TABLE orders(   \n",
    "    order_id int PRIMARY KEY,\n",
    "    user_id int NOT NULL,\n",
    "    eval_set text NOT NULL,\n",
    "    order_number int NOT NULL,\n",
    "    order_dow int NOT NULL CHECK(order_dow >= 0 AND order_dow < 7),\n",
    "    order_hour_of_day int NOT NULL CHECK(order_hour_of_day >= 0 and order_hour_of_day < 24),\n",
    "    days_since_prior int NOT NULL CHECK(days_since_prior <= 30)\n",
    ");\n",
    "\n",
    "CREATE TABLE aisles(\n",
    "    aisle_id int PRIMARY KEY,\n",
    "    aisle text NOT NULL\n",
    ");\n",
    "\n",
    "CREATE TABLE departments(\n",
    "    department_id int PRIMARY KEY,\n",
    "    department text NOT NULL\n",
    ");\n",
    "\n",
    "CREATE TABLE products(\n",
    "    product_id int PRIMARY KEY,\n",
    "    product_name text NOT NULL,\n",
    "    aisle_id int,\n",
    "    department_id int,\n",
    "    FOREIGN KEY(aisle_id) REFERENCES aisles,\n",
    "    FOREIGN KEY(department_id) REFERENCES departments\n",
    ");\n",
    "\n",
    "CREATE TABLE order_products(\n",
    "    order_id int,\n",
    "    product_id int,\n",
    "    add_to_cart_order int NOT NULL,\n",
    "    reordered bool NOT NULL,\n",
    "    PRIMARY KEY(order_id, product_id),\n",
    "    FOREIGN KEY(order_id) REFERENCES orders,\n",
    "    FOREIGN KEY(product_id) REFERENCES products\n",
    ");\n",
    "\n",
    "\n",
    "\n",
    "\n",
    "\n",
    "\n",
    "\n",
    "\n",
    "\n"
   ]
  },
  {
   "cell_type": "markdown",
   "metadata": {},
   "source": [
    "# Task 3 \n",
    "Load data from the following files:\n",
    "\n",
    "## `/dsa/data/all_datasets/instacart/orders.csv`\n",
    " * 3421084 Rows\n",
    " * File Preview \n",
    "```\n",
    "order_id,user_id,eval_set,order_number,order_dow,order_hour_of_day,days_since_prior_order\n",
    "2539329,1,prior,1,2,08,\n",
    "2398795,1,prior,2,3,07,15.0\n",
    "473747,1,prior,3,3,12,21.0\n",
    "2254736,1,prior,4,4,07,29.0\n",
    "```\n",
    "\n",
    "## `/dsa/data/all_datasets/instacart/products.csv`\n",
    " * 49689 Rows\n",
    " * File Preview \n",
    "```\n",
    "product_id,product_name,aisle_id,department_id\n",
    "1,Chocolate Sandwich Cookies,61,19\n",
    "2,All-Seasons Salt,104,13\n",
    "3,Robust Golden Unsweetened Oolong Tea,94,7\n",
    "4,Smart Ones Classic Favorites Mini Rigatoni With Vodka Cream Sauce,38,1\n",
    "```\n",
    "\n",
    "## `/dsa/data/all_datasets/instacart/aisles.csv`\n",
    " * 135 Rows\n",
    " * File Preview \n",
    "```\n",
    "aisle_id,aisle\n",
    "1,prepared soups salads\n",
    "2,specialty cheeses\n",
    "3,energy granola bars\n",
    "4,instant foods\n",
    "```\n",
    "\n",
    "## `/dsa/data/all_datasets/instacart/departments.csv`\n",
    " * 22 Rows\n",
    " * File Preview \n",
    "```\n",
    "department_id,department\n",
    "1,frozen\n",
    "2,other\n",
    "3,bakery\n",
    "4,produce\n",
    "```\n",
    "\n",
    "## `/dsa/data/all_datasets/instacart/order_products.csv`\n",
    " * 1384618 Rows\n",
    " * File Preview \n",
    "```\n",
    "order_id,product_id,add_to_cart_order,reordered\n",
    "1,49302,1,1\n",
    "1,11109,2,1\n",
    "1,10246,3,0\n",
    "1,49683,4,0\n",
    "```\n",
    "     "
   ]
  },
  {
   "cell_type": "markdown",
   "metadata": {},
   "source": [
    "## In each designated cell, load the data using Python\n",
    " * Either psycopg2 or SQLAlchemy\n",
    "\n",
    "---\n"
   ]
  },
  {
   "cell_type": "code",
   "execution_count": null,
   "metadata": {
    "collapsed": true
   },
   "outputs": [],
   "source": [
    "from getpass import getpass\n",
    "DB_NAME = None\n",
    "DB_USER = None\n",
    "DB_HOST = None\n",
    "DB_PASSWORD = getpass()"
   ]
  },
  {
   "cell_type": "markdown",
   "metadata": {},
   "source": [
    "### Orders "
   ]
  },
  {
   "cell_type": "code",
   "execution_count": null,
   "metadata": {
    "collapsed": true
   },
   "outputs": [],
   "source": [
    "## Add your code below\n",
    "## --------------------\n",
    "import psycopg2 as sql\n",
    "from psycopg2.extras import execute_values\n",
    "from getpass import getpass\n",
    "\n",
    "pw = getpass(\"Enter password: \")\n",
    "\n",
    "# connect\n",
    "conn = sql.connect(dbname=DB_NAME, host=DB_HOST, user=DB_USER, password=DB_PASSWORD)\n",
    "\n",
    "with open('/dsa/data/all_datasets/instacart/orders.csv') as file:\n",
    "    data = file.readlines()\n",
    "\n",
    "del data[0]\n",
    "\n",
    "finished_data = list()\n",
    "for l in data:\n",
    "    d = tuple(l.replace(\"\\n\", \"\").split(','))\n",
    "    tmp = list()\n",
    "    for i,item in enumerate(d):\n",
    "        if i == 2:\n",
    "            tmp.append(item)\n",
    "        elif i == 6:\n",
    "            if item == \"\":\n",
    "                tmp.append(0)\n",
    "            else:\n",
    "                tmp.append(int(float(item)))\n",
    "        else:\n",
    "            tmp.append(int(float(item)))\n",
    "    finished_data.append(tuple(tmp))\n",
    "\n",
    "with conn.cursor() as cursor:\n",
    "    execute_values(cursor, \"INSERT INTO orders VALUES %s\", finished_data)\n",
    "\n",
    "conn.commit()\n",
    "conn.close()"
   ]
  },
  {
   "cell_type": "markdown",
   "metadata": {},
   "source": [
    "---\n",
    "\n",
    "### Products\n",
    "\n",
    "\n",
    "\n",
    "\n",
    "\n"
   ]
  },
  {
   "cell_type": "code",
   "execution_count": null,
   "metadata": {
    "collapsed": true
   },
   "outputs": [],
   "source": [
    "## Add your code below\n",
    "## --------------------\n",
    "\n",
    "import psycopg2 as sql\n",
    "from psycopg2.extras import execute_values\n",
    "from getpass import getpass\n",
    "\n",
    "pw = getpass(\"Enter password: \")\n",
    "\n",
    "# connect\n",
    "conn = sql.connect(dbname=DB_NAME, host=DB_HOST, user=DB_USER, password=DB_PASSWORD)\n",
    "\n",
    "with open('/dsa/data/all_datasets/instacart/products.csv', \"rb\") as file:\n",
    "    data = file.readlines()\n",
    "del data[0]\n",
    "\n",
    "finished_data = list()\n",
    "for l in data:\n",
    "    s = l.decode(\"UTF-8\")\n",
    "    try:\n",
    "        firstpos = s.index('\"')\n",
    "        endpos = s.index('\"', firstpos+1)\n",
    "        full = s[firstpos+1:endpos]\n",
    "        sub = full.replace(\",\", \"\")\n",
    "    \n",
    "        s = s.replace('\"' + full + '\"', sub)\n",
    "   \n",
    "    except Exception:\n",
    "        pass\n",
    "    \n",
    "    d = tuple(s.replace(\"\\n\", \"\").split(','))\n",
    "    tmp = list()\n",
    "    for i,item in enumerate(d):\n",
    "        if i == 1:\n",
    "            tmp.append(item)\n",
    "        else:\n",
    "            try:\n",
    "                tmp.append(int(float(item)))\n",
    "            except ValueError:\n",
    "                print(\"Couldn't covert: {}\".format(item))\n",
    "                print(l)\n",
    "    finished_data.append(tuple(tmp))\n",
    "\n",
    "with conn.cursor() as cursor:\n",
    "    execute_values(cursor, \"INSERT INTO products VALUES %s\", finished_data)\n",
    "\n",
    "conn.commit()\n",
    "conn.close()"
   ]
  },
  {
   "cell_type": "markdown",
   "metadata": {},
   "source": [
    "---\n",
    "\n",
    "### Aisles"
   ]
  },
  {
   "cell_type": "code",
   "execution_count": null,
   "metadata": {
    "collapsed": true
   },
   "outputs": [],
   "source": [
    "## Add your code below\n",
    "## --------------------\n",
    "\n",
    "import psycopg2 as sql\n",
    "from psycopg2.extras import execute_values\n",
    "from getpass import getpass\n",
    "\n",
    "pw = getpass(\"Enter password: \")\n",
    "\n",
    "# connect\n",
    "conn = sql.connect(dbname=DB_NAME, host=DB_HOST, user=DB_USER, password=DB_PASSWORD)\n",
    "\n",
    "with open('/dsa/data/all_datasets/instacart/aisles.csv', \"rb\") as file:\n",
    "    data = file.readlines()\n",
    "\n",
    "del data[0]\n",
    "\n",
    "finished_data = list()\n",
    "for l in data:\n",
    "    d = tuple(l.decode(\"UTF-8\").replace(\"\\n\", \"\").split(','))\n",
    "    tmp = list()\n",
    "    for i,item in enumerate(d):\n",
    "        if i == 1:\n",
    "            tmp.append(item)\n",
    "        else:\n",
    "            try:\n",
    "                tmp.append(int(float(item)))\n",
    "            except ValueError:\n",
    "                print(\"Couldn't covert: {}\".format(item))\n",
    "                print(l)\n",
    "    finished_data.append(tuple(tmp))\n",
    "\n",
    "\n",
    "with conn.cursor() as cursor:\n",
    "    execute_values(cursor, \"INSERT INTO aisles VALUES %s\", finished_data)\n",
    "\n",
    "conn.commit()\n",
    "conn.close()"
   ]
  },
  {
   "cell_type": "markdown",
   "metadata": {},
   "source": [
    "---\n",
    "\n",
    "### Departments"
   ]
  },
  {
   "cell_type": "code",
   "execution_count": null,
   "metadata": {
    "collapsed": true
   },
   "outputs": [],
   "source": [
    "## Add your code below\n",
    "## --------------------\n",
    "\n",
    "import psycopg2 as sql\n",
    "from psycopg2.extras import execute_values\n",
    "from getpass import getpass\n",
    "\n",
    "pw = getpass(\"Enter password: \")\n",
    "\n",
    "# connect\n",
    "conn = sql.connect(dbname=DB_NAME, host=DB_HOST, user=DB_USER, password=DB_PASSWORD)\n",
    "\n",
    "with open('/dsa/data/all_datasets/instacart/departments.csv', \"rb\") as file:\n",
    "    data = file.readlines()\n",
    "\n",
    "del data[0]\n",
    "\n",
    "finished_data = list()\n",
    "for l in data:\n",
    "    d = tuple(l.decode(\"UTF-8\").replace(\"\\n\", \"\").split(','))\n",
    "    tmp = list()\n",
    "    for i,item in enumerate(d):\n",
    "        if i == 1:\n",
    "            tmp.append(item)\n",
    "        else:\n",
    "            try:\n",
    "                tmp.append(int(float(item)))\n",
    "            except ValueError:\n",
    "                print(\"Couldn't covert: {}\".format(item))\n",
    "                print(l)\n",
    "    finished_data.append(tuple(tmp))\n",
    "\n",
    "\n",
    "with conn.cursor() as cursor:\n",
    "    execute_values(cursor, \"INSERT INTO departments VALUES %s\", finished_data)\n",
    "\n",
    "conn.commit()\n",
    "conn.close()"
   ]
  },
  {
   "cell_type": "markdown",
   "metadata": {},
   "source": [
    "---\n",
    "\n",
    "### Order Products"
   ]
  },
  {
   "cell_type": "code",
   "execution_count": null,
   "metadata": {
    "collapsed": true
   },
   "outputs": [],
   "source": [
    "## Add your code below\n",
    "## --------------------\n",
    "\n",
    "import psycopg2 as sql\n",
    "from psycopg2.extras import execute_values\n",
    "from getpass import getpass\n",
    "\n",
    "pw = getpass(\"Enter password: \")\n",
    "\n",
    "# connect\n",
    "conn = sql.connect(dbname=DB_NAME, host=DB_HOST, user=DB_USER, password=DB_PASSWORD)\n",
    "\n",
    "with open('/dsa/data/all_datasets/instacart/order_products.csv', \"rb\") as file:\n",
    "    data = file.readlines()\n",
    "\n",
    "del data[0]\n",
    "\n",
    "finished_data = list()\n",
    "for l in data:\n",
    "    d = tuple(l.decode(\"UTF-8\").replace(\"\\n\", \"\").split(','))\n",
    "    tmp = list()\n",
    "    for i,item in enumerate(d):\n",
    "        if i == 3:\n",
    "            tmp.append(True if int(item) == 1 else False)\n",
    "        else:\n",
    "            try:\n",
    "                tmp.append(int(float(item)))\n",
    "            except ValueError:\n",
    "                print(\"Couldn't covert: {}\".format(item))\n",
    "                print(l)\n",
    "    finished_data.append(tuple(tmp))\n",
    "\n",
    "with conn.cursor() as cursor:\n",
    "    execute_values(cursor, \"INSERT INTO order_products VALUES %s\", finished_data)\n",
    "\n",
    "conn.commit()\n",
    "conn.close()"
   ]
  },
  {
   "cell_type": "markdown",
   "metadata": {},
   "source": [
    "--- \n",
    "\n",
    "# Task 4\n",
    "\n",
    "In each of the cells below, use Python to pull the data out of the database. \n",
    "\n",
    "#### Task 4.A : Find the top 10 products, based on number of orders.\n",
    "Display in a table!"
   ]
  },
  {
   "cell_type": "code",
   "execution_count": null,
   "metadata": {
    "collapsed": true
   },
   "outputs": [],
   "source": [
    "## Add your code below\n",
    "## --------------------\n",
    "\n",
    "%%sql select product_id, product_name, \n",
    "COUNT(order_id) FROM order_products JOIN products USING(product_id) \n",
    "GROUP BY product_id, product_name ORDER BY 3 DESC LIMIT 10;\n"
   ]
  },
  {
   "cell_type": "markdown",
   "metadata": {},
   "source": [
    "#### Task 4.B : Visualize a histogram of the number Products across the Departments"
   ]
  },
  {
   "cell_type": "code",
   "execution_count": null,
   "metadata": {
    "collapsed": true
   },
   "outputs": [],
   "source": [
    "## Add your code below\n",
    "## --------------------\n",
    "from matplotlib import pyplot as plt\n",
    "import psycopg2 as sql\n",
    "from psycopg2.extras import execute_values\n",
    "from getpass import getpass\n",
    "import numpy as np\n",
    "\n",
    "pw = getpass(\"Enter password: \")\n",
    "\n",
    "# connect\n",
    "conn = sql.connect(dbname=DB_NAME, host=DB_HOST, user=DB_USER, password=DB_PASSWORD)\n",
    "with conn.cursor() as cursor:\n",
    "    cursor.execute(\"select department_id, department, count(product_id) \\\n",
    "     from products join departments using(department_id) group by 1,2\")\n",
    "    data = cursor.fetchall()\n",
    "\n",
    "counts = []\n",
    "for d in data:\n",
    "    counts.append(d[2])\n",
    "\n",
    "plt.hist(counts)\n",
    "plt.show()\n",
    "\n",
    "\n",
    "\n",
    "\n"
   ]
  },
  {
   "cell_type": "markdown",
   "metadata": {},
   "source": [
    "## Optional Extra Task\n",
    "\n",
    "Visualize a two-dimensional histogram of the product counts across the Departments and the Aisles"
   ]
  },
  {
   "cell_type": "code",
   "execution_count": null,
   "metadata": {
    "collapsed": true
   },
   "outputs": [],
   "source": [
    "## Add your code below\n",
    "## --------------------\n",
    "\n",
    "\n",
    "\n",
    "\n",
    "\n",
    "\n",
    "\n",
    "\n"
   ]
  },
  {
   "cell_type": "markdown",
   "metadata": {},
   "source": [
    "# Save your notebook, then `File > Close and Halt`"
   ]
  },
  {
   "cell_type": "markdown",
   "metadata": {},
   "source": [
    "---"
   ]
  }
 ],
 "metadata": {
  "kernelspec": {
   "display_name": "Python 3",
   "language": "python",
   "name": "python3"
  },
  "language_info": {
   "codemirror_mode": {
    "name": "ipython",
    "version": 3
   },
   "file_extension": ".py",
   "mimetype": "text/x-python",
   "name": "python",
   "nbconvert_exporter": "python",
   "pygments_lexer": "ipython3",
   "version": "3.7.3"
  }
 },
 "nbformat": 4,
 "nbformat_minor": 2
}
