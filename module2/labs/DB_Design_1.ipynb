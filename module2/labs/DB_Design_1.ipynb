{
 "cells": [
  {
   "cell_type": "markdown",
   "metadata": {},
   "source": [
    "# Words to Entities and Attributes\n",
    "\n",
    "For this lab our goal is to start the design of a database. The hypothetical need is for a database to track student transcipts for a university. A transcript is a record of a student's grades in courses, organized by semester. Let's start with entity identification.\n",
    "\n",
    "Please make sure you do this week's reading before attempting this lab. \n",
    " \n",
    "### Entity Identification\n",
    "\n",
    "An **Entity**  is any object in the system that we want to model and store information about. Entities are usually recognizable concepts, either concrete or abstract, such as person, places, things, or events which have relevance to the database. Some specific examples of entities are Employee, Student, Lecturer. An entity is analogous to a table in the relational model.\n",
    "\n",
    "As we are all students, we have some ideas of what will be needed for a transcript, as we all needed to request them to apply for the program. \n",
    "\n",
    "In the cell below, without reading ahead, what are the entities that you can conceptualize as record types for the database?\n"
   ]
  },
  {
   "cell_type": "raw",
   "metadata": {},
   "source": [
    "# List your entities ideas below:\n",
    "# -------------------------------\n",
    "\n",
    "\n",
    "\n",
    "\n",
    "\n",
    "\n",
    "\n",
    "\n",
    "\n",
    "\n",
    "\n",
    "\n",
    "\n",
    "\n",
    "\n",
    "\n",
    "\n",
    "\n",
    "\n",
    "\n",
    "\n",
    "\n",
    "\n",
    "\n",
    "\n",
    "\n",
    "\n",
    "\n",
    "\n",
    "\n",
    "\n",
    "\n",
    "\n",
    "\n",
    "\n",
    "\n",
    "\n",
    "\n",
    "\n",
    "\n",
    "\n",
    "\n",
    "\n",
    "\n",
    "\n",
    "\n"
   ]
  },
  {
   "cell_type": "markdown",
   "metadata": {},
   "source": [
    "### Entity Detailing (attributes)\n",
    "\n",
    "Your list was great!  \n",
    "However, to continue the lab, we are going to work from the following set of entities.\n",
    " * Student\n",
    " * Department\n",
    " * Course\n",
    " * Instructor\n",
    " * Section\n",
    " * CourseGrade\n",
    " \n",
    "In each of the cells below expand on the entities by identifying possible attributes.\n",
    "\n",
    "An **attribute** is an item of information which is stored about an entity. For example, the entity 'lecturer' could have attributes such as staff id, surname, forename, date of birth, telephone number, etc. An attribute can only appear in one entity, unless it is the key attribute in another entity. In a traditional filing system, an attribute equates to a field in a record."
   ]
  },
  {
   "cell_type": "markdown",
   "metadata": {},
   "source": [
    "### Student - attributes"
   ]
  },
  {
   "cell_type": "raw",
   "metadata": {},
   "source": [
    "# List your attributes ideas below:\n",
    "# -------------------------------\n",
    "\n",
    "\n",
    "\n",
    "\n",
    "\n",
    "\n"
   ]
  },
  {
   "cell_type": "markdown",
   "metadata": {},
   "source": [
    "### Department - attributes"
   ]
  },
  {
   "cell_type": "raw",
   "metadata": {},
   "source": [
    "# List your attributes ideas below:\n",
    "# -------------------------------\n",
    "\n",
    "\n",
    "\n",
    "\n",
    "\n",
    "\n"
   ]
  },
  {
   "cell_type": "markdown",
   "metadata": {},
   "source": [
    "### Course - attributes"
   ]
  },
  {
   "cell_type": "raw",
   "metadata": {},
   "source": [
    "# List your attributes ideas below:\n",
    "# -------------------------------\n",
    "\n",
    "\n",
    "\n",
    "\n",
    "\n",
    "\n"
   ]
  },
  {
   "cell_type": "markdown",
   "metadata": {},
   "source": [
    "### Instructor - attributes"
   ]
  },
  {
   "cell_type": "raw",
   "metadata": {},
   "source": [
    "# List your attributes ideas below:\n",
    "# -------------------------------\n",
    "\n",
    "\n",
    "\n",
    "\n",
    "\n",
    "\n"
   ]
  },
  {
   "cell_type": "markdown",
   "metadata": {},
   "source": [
    "### Section - attributes"
   ]
  },
  {
   "cell_type": "raw",
   "metadata": {},
   "source": [
    "# List your attributes ideas below:\n",
    "# -------------------------------\n",
    "\n",
    "\n",
    "\n",
    "\n",
    "\n",
    "\n"
   ]
  },
  {
   "cell_type": "markdown",
   "metadata": {},
   "source": [
    "### CourseGrade - attributes"
   ]
  },
  {
   "cell_type": "raw",
   "metadata": {},
   "source": [
    "# List your attributes ideas below:\n",
    "# -------------------------------\n",
    "\n",
    "\n",
    "\n",
    "\n",
    "\n",
    "\n"
   ]
  },
  {
   "cell_type": "markdown",
   "metadata": {},
   "source": [
    "\n",
    "## Check your ideas!\n",
    "\n",
    "\n",
    "### Student\n",
    "The university keeps track of each student’s name, student number, Social Security number, current address and phone number, permanent address and phone number, birth date, sex, class (freshman, sophomore, ..., graduate), major department, minor department (if any), and degree program (B.A., B.S., ..., Ph.D.). Some user applications need to refer to the city, state, and ZIP Code of the student’s permanent address and to the student’s last name. Both Social Security number and student number have unique values for each student.\n",
    "\n",
    "### Department\n",
    "Each department is described by a name, department code, office number, office phone number, and college. Both name and code have unique values for each department.\n",
    "\n",
    "### Course\n",
    "Each course has a course name, description, course number, number of semester hours, level, and offering department. The value of the course number is unique for each course.\n",
    "\n",
    "### Instructor\n",
    "Instructors have a name, home department, and other basic information.\n",
    "\n",
    "### Section\n",
    "Each section has an instructor, semester, year, course, and section number. The section number distinguishes sections of the same course that are taught during the same semester/year; its values are 1, 2, 3, ..., up to the number of sections taught during each semester.\n",
    "\n",
    "### Course Grade\n",
    "A grade report has a student, section, letter grade, and numeric grade (0, 1, 2, 3, or 4)."
   ]
  },
  {
   "cell_type": "markdown",
   "metadata": {},
   "source": [
    "---\n",
    "\n",
    "**Please keep in mind that database design takes practice!**\n",
    "\n",
    "If you did not capture enough details or you went crazy with attributes and complexity, that is fine.\n",
    "This is part of the learning experience!\n",
    "It is important to reflect on your thoughts and how they align to others' ideas.\n",
    "\n",
    "\n",
    "# Save your notebook, then `File > Close and Halt`"
   ]
  },
  {
   "cell_type": "markdown",
   "metadata": {},
   "source": [
    "---"
   ]
  }
 ],
 "metadata": {
  "kernelspec": {
   "display_name": "Python 3",
   "language": "python",
   "name": "python3"
  },
  "language_info": {
   "codemirror_mode": {
    "name": "ipython",
    "version": 3
   },
   "file_extension": ".py",
   "mimetype": "text/x-python",
   "name": "python",
   "nbconvert_exporter": "python",
   "pygments_lexer": "ipython3",
   "version": "3.7.3"
  }
 },
 "nbformat": 4,
 "nbformat_minor": 2
}
