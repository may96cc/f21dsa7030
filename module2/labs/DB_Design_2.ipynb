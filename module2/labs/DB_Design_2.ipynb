{
 "cells": [
  {
   "cell_type": "markdown",
   "metadata": {},
   "source": [
    "# Entities and Attributes to ERD\n",
    "\n",
    "In the previous lab we performed the mental exercise of conceiving the data storage requirements for a common information system.\n",
    "Below are the basic, high-level entities that are necessary.\n",
    "However, database design is usually an iterative process where your assumption should be checked **early and often**.\n",
    "\n",
    "\n",
    "### Student\n",
    "The university keeps track of each student’s name, student number, Social Security number, current address and phone number, permanent address and phone number, birth date, sex, class (freshman, sophomore, ..., graduate), major department, minor department (if any), and degree program (B.A., B.S., ..., Ph.D.). Some user applications need to refer to the city, state, and ZIP Code of the student’s permanent address and to the student’s last name. Both Social Security number and student number have unique values for each student.\n",
    "\n",
    "### Department\n",
    "Each department is described by a name, department code, office number, office phone number, and college. Both name and code have unique values for each department.\n",
    "\n",
    "### Course\n",
    "Each course has a course name, description, course number, number of semester hours, level, and offering department. The value of the course number is unique for each course.\n",
    "\n",
    "### Instructor\n",
    "Instructors have a name, home department, and other basic information.\n",
    "\n",
    "### Section\n",
    "Each section has an instructor, semester, year, course, and section number. The section number distinguishes sections of the same course that are taught during the same semester/year; its values are 1, 2, 3, ..., up to the number of sections taught during each semester.\n",
    "\n",
    "### Course Grade\n",
    "A grade report has a student, section, letter grade, and numeric grade (0, 1, 2, 3, or 4)."
   ]
  },
  {
   "cell_type": "markdown",
   "metadata": {},
   "source": [
    "This week's reading covered Entity Relationship diagrams, now it is your turn to do one! \n",
    "\n",
    "## Activity One\n",
    "\n",
    "\n",
    "Find a suitable application (web-app or regular computer app) to construct an ERD of the database entities.  \n",
    "Suggested tools include:\n",
    " 1. PowerPoint (easy - Use the elbow connectors and text boxes on a blank slide)\n",
    " 1. [draw.io](https://www.draw.io/)\n",
    " 1. Visio\n",
    " 1. Google Docs Diagram\n",
    " 1. [LucidChart](https://www.lucidchart.com/)\n",
    " 1. [Violet UML](http://alexdp.free.fr/violetumleditor/page.php)\n",
    " 1. Pen and paper if nothing else works out\n",
    " \n",
    "**Note, you may construct your ERD in any style (Chen, Crow's Foot, or UML)**  \n",
    "Choose a style that you like!\n",
    " \n",
    "---"
   ]
  },
  {
   "cell_type": "markdown",
   "metadata": {},
   "source": [
    "## Activity Two\n",
    "\n",
    "1. Convert the above Entities and attributes into an _entity relationship diagram_ (ERD).\n",
    "    * Any application is acceptable, just to capture a screen shot or an **image**. \n",
    "1. Upload the image to the `module2/labs/` folder. \n",
    " \n",
    "1. In the markdown cell below, double click and put the name of the image file within the `()`.\n",
    "   * Example: Change \n",
    "   \n",
    "     `![ERD MISSING]()`  \n",
    " to   \n",
    "     `![ERD MISSING](erd.jpg)`  "
   ]
  },
  {
   "cell_type": "markdown",
   "metadata": {},
   "source": [
    "![ERD MISSING]()\n",
    "\n",
    "---"
   ]
  },
  {
   "cell_type": "markdown",
   "metadata": {},
   "source": [
    "## Activity Three\n",
    "\n",
    "See discussion board for this week and share your diagram. "
   ]
  },
  {
   "cell_type": "markdown",
   "metadata": {},
   "source": [
    "# Save your notebook, then `File > Close and Halt`"
   ]
  },
  {
   "cell_type": "markdown",
   "metadata": {},
   "source": [
    "---"
   ]
  }
 ],
 "metadata": {
  "kernelspec": {
   "display_name": "Python 3",
   "language": "python",
   "name": "python3"
  },
  "language_info": {
   "codemirror_mode": {
    "name": "ipython",
    "version": 3
   },
   "file_extension": ".py",
   "mimetype": "text/x-python",
   "name": "python",
   "nbconvert_exporter": "python",
   "pygments_lexer": "ipython3",
   "version": "3.7.3"
  }
 },
 "nbformat": 4,
 "nbformat_minor": 2
}
