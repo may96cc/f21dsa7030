{
 "cells": [
  {
   "cell_type": "markdown",
   "metadata": {
    "collapsed": true
   },
   "source": [
    "# Database Design\n"
   ]
  },
  {
   "cell_type": "markdown",
   "metadata": {},
   "source": [
    "## <span style=\"background:yellow\">Your Turn</span>\n",
    "\n",
    "Copy the CREATE TABLE statement for Song and change it to use a Song ID as a primary key, then think about why we chose not to do that in the first place. (Your statement will error because the table already exists)"
   ]
  },
  {
   "cell_type": "code",
   "execution_count": null,
   "metadata": {},
   "outputs": [],
   "source": [
    "connection = psycopg2.connect(database = database,\n",
    "                              user     = user,\n",
    "                              host     = 'pgsql.dsa.lan',\n",
    "                              password = password)\n",
    "\n",
    "with connection, connection.cursor() as cursor:\n",
    "    cursor.execute(\"DROP TABLE IF EXISTS Song;\")    \n",
    "    \n",
    "    #Create table\n",
    "    cursor.execute(\n",
    "        '''\n",
    "        CREATE TABLE Song (\n",
    "            song_id INT,\n",
    "            album_id INT,\n",
    "            track INT,\n",
    "            title varchar(100),\n",
    "            length varchar(20),\n",
    "            PRIMARY KEY (song_id),\n",
    "            FOREIGN KEY (album_id)\n",
    "                REFERENCES Album(album_id)\n",
    "        );\n",
    "        '''\n",
    "    )\n",
    "    \n",
    "    #Check table created\n",
    "    cursor.execute(\"SELECT COLUMN_NAME FROM information_schema.COLUMNS WHERE TABLE_NAME ='song' and TABLE_SCHEMA=\\'%s\\';\" % user)\n",
    "    results = cursor.fetchall()\n",
    "\n",
    "print(\"Columns in table:\")\n",
    "for row in results:\n",
    "    print(row)\n",
    "\n",
    "\n",
    "connection.close()"
   ]
  },
  {
   "cell_type": "markdown",
   "metadata": {},
   "source": [
    "Write a CREATE TABLE statement for a 'Genre' table that would hold the name of the genre, the year it was introduced, and an id as a primary field. Then think about how the artist table would change if this table existed beforehand."
   ]
  },
  {
   "cell_type": "code",
   "execution_count": null,
   "metadata": {},
   "outputs": [],
   "source": [
    "connection = psycopg2.connect(database = database,\n",
    "                              user     = user,\n",
    "                              host     = 'pgsql.dsa.lan',\n",
    "                              password = password)\n",
    "\n",
    "with connection, connection.cursor() as cursor:\n",
    "    cursor.execute(\"DROP TABLE IF EXISTS genre;\")\n",
    "    cursor.execute(\n",
    "        '''\n",
    "        CREATE TABLE genre(\n",
    "            genre_name varchar(20),\n",
    "            year_introduced int,\n",
    "            genre_id int,\n",
    "            PRIMARY KEY(genre_id)\n",
    "        );\n",
    "        '''\n",
    "    )\n",
    "    \n",
    "    #Check table created\n",
    "    cursor.execute(\"SELECT COLUMN_NAME FROM information_schema.COLUMNS WHERE TABLE_NAME ='genre' and TABLE_SCHEMA=\\'%s\\';\" % user)\n",
    "    results = cursor.fetchall()\n",
    "\n",
    "print(\"Columns in table:\")\n",
    "for row in results:\n",
    "    print(row)\n",
    "    \n",
    "connection.close()"
   ]
  },
  {
   "cell_type": "markdown",
   "metadata": {},
   "source": [
    "# Save your notebook, then `File > Close and Halt`"
   ]
  }
 ],
 "metadata": {
  "kernelspec": {
   "display_name": "Python 3",
   "language": "python",
   "name": "python3"
  },
  "language_info": {
   "codemirror_mode": {
    "name": "ipython",
    "version": 3
   },
   "file_extension": ".py",
   "mimetype": "text/x-python",
   "name": "python",
   "nbconvert_exporter": "python",
   "pygments_lexer": "ipython3",
   "version": "3.7.3"
  }
 },
 "nbformat": 4,
 "nbformat_minor": 1
}
