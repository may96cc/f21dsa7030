{
 "cells": [
  {
   "cell_type": "markdown",
   "metadata": {
    "collapsed": true
   },
   "source": [
    "# Using psycopg2 to Connect to PostgreSQL\n",
    "We will now look at another way of connect to postgreSQL through our notebooks using the pyscopg2 library. We will once again use the dsa_ro_user user account to connect which is a read-only user meaning we will again only be allowed to run SELECT queries on the database.\n",
    "\n",
    "## Importing psycopg2\n",
    "\n",
    "This import will allow our python code to use the psycogpg library. \n",
    "\n",
    "This library will allow us to do all of our interaction with postgreSQL through Python.\n"
   ]
  },
  {
   "cell_type": "code",
   "execution_count": 1,
   "metadata": {},
   "outputs": [],
   "source": [
    "import psycopg2\n",
    "import getpass"
   ]
  },
  {
   "cell_type": "markdown",
   "metadata": {},
   "source": [
    "## Connecting to the database\n",
    "\n",
    "First, we must make our connection to the database using the psycopg2.connect() command\n",
    "\n",
    "You will notice that we feed the command four strings that are related to the login command that you have run before to connect to the PostgreSQL database.\n",
    "\n",
    "The command we ran before was `psql -U dsa_ro_user -h pgsql  dsa_ro;`\n",
    "\n",
    "* The database is: dsa_ro\n",
    "* The username is: dsa_ro_user\n",
    "* The password is: readonly\n",
    "\n",
    "You can notice that the host, database and user name in the psycopg2 command are taken directly from the psql command, and the password is the one that you entered to log in to the PostgreSQL database.\n"
   ]
  },
  {
   "cell_type": "code",
   "execution_count": null,
   "metadata": {},
   "outputs": [],
   "source": [
    "database = input('Type database name and hit enter :: ')"
   ]
  },
  {
   "cell_type": "code",
   "execution_count": null,
   "metadata": {},
   "outputs": [],
   "source": [
    "user = input('Type username and hit enter :: ')"
   ]
  },
  {
   "cell_type": "code",
   "execution_count": null,
   "metadata": {},
   "outputs": [],
   "source": [
    "password = getpass.getpass('Type Password and hit enter :: ')"
   ]
  },
  {
   "cell_type": "code",
   "execution_count": null,
   "metadata": {},
   "outputs": [],
   "source": [
    "connection = psycopg2.connect(database = database, \n",
    "                              user = user, \n",
    "                              host = 'pgsql.dsa.lan',\n",
    "                              password = password)"
   ]
  },
  {
   "cell_type": "markdown",
   "metadata": {},
   "source": [
    "## Querying database and using a transaction\n",
    "\n",
    "This time we will be doing our queries within a transaction block so that the commit command will not be needed at the end.\n",
    "\n",
    "You will notice that our **`with`** block creates a cursor.\n",
    "\n",
    "The cursor will be automatically destroyed at the end of this `with` block (the transaction block).\n",
    "\n",
    "The purpose of the transaction block is that if the `with` block fails, it will not commit any part of the query to the database. This means that if an error occurs in the transaction, that transaction is automatically \"rolled back.\"  All statements since the beginning of the transaction are voided and the transaction ends. This is done to ensure that changes to the database are error free, but requires the user to be very precise in the queries he/she runs. (But since we are not doing updates or inserts as a read-only user, there are no changes to roll back in these demonstration queries.)\n",
    "\n",
    "Every time a **`with`** block is completed it will commit that section of queries to the database.\n",
    "\n",
    "We also need to create the `results` object inside the with block so that after the cursor is destroyed we have access to the query result data."
   ]
  },
  {
   "cell_type": "code",
   "execution_count": null,
   "metadata": {},
   "outputs": [],
   "source": [
    "with connection, connection.cursor() as cursor:\n",
    "    cursor.execute(\"SELECT * FROM util_us_states\")\n",
    "    results = cursor.fetchall()"
   ]
  },
  {
   "cell_type": "markdown",
   "metadata": {},
   "source": [
    "## Printing result data\n",
    "\n",
    "We are using a simple `for each` loop in python here to print the rows of the results object.\n",
    "\n",
    "We can do this because the return type of the `fetchall()` function is a list of tuples that we can iterate through.\n",
    "\n",
    "The command below simply says _for each row in results_ we are going to print out that row."
   ]
  },
  {
   "cell_type": "code",
   "execution_count": null,
   "metadata": {
    "scrolled": true
   },
   "outputs": [],
   "source": [
    "for row in results:\n",
    "    print(row)"
   ]
  },
  {
   "cell_type": "markdown",
   "metadata": {
    "collapsed": true
   },
   "source": [
    "## Closing the connection to the database\n",
    "\n",
    "Since the psycopg2 library allows us to use transaction-based queries we do not need to commit our changes at the end.\n",
    "\n",
    "So we simply need to run the [connection_name].close() command to close our connection to the database.\n",
    "\n",
    "Closing your connection when you are done with it is very important and must be remembered.\n"
   ]
  },
  {
   "cell_type": "code",
   "execution_count": null,
   "metadata": {},
   "outputs": [],
   "source": [
    "connection.close()"
   ]
  },
  {
   "cell_type": "markdown",
   "metadata": {},
   "source": [
    "## <span style=\"background:yellow\">Your Turn!</span>\n",
    "\n",
    "Open a connection to the database, and query the database to find all cities in the United States, then print those cities, and close the connection.\n",
    "\n"
   ]
  },
  {
   "cell_type": "code",
   "execution_count": null,
   "metadata": {},
   "outputs": [],
   "source": [
    "connection = psycopg2.connect(database = database, \n",
    "                              user = user, \n",
    "                              host = 'pgsql.dsa.lan',\n",
    "                              password = password)\n",
    "\n",
    "with connection, connection.cursor() as cursor:\n",
    "    # Update the CHANGE ME string to SQL\n",
    "    cursor.execute(\"CHANGE ME\")\n",
    "    results = cursor.fetchall()\n",
    "\n",
    "for row in results:\n",
    "    print(row)\n",
    "\n",
    "connection.close()"
   ]
  },
  {
   "cell_type": "markdown",
   "metadata": {},
   "source": [
    "Change your code from step 1 to instead find all cities around the world with a population over 6,000,000"
   ]
  },
  {
   "cell_type": "code",
   "execution_count": null,
   "metadata": {},
   "outputs": [],
   "source": [
    "connection = psycopg2.connect(database = database, \n",
    "                              user = user, \n",
    "                              host = 'pgsql.dsa.lan',\n",
    "                              password = password)\n",
    "\n",
    "with connection, connection.cursor() as cursor:\n",
    "    # Update the CHANGE ME string to SQL\n",
    "    cursor.execute(\"CHANGE ME\")\n",
    "    results = cursor.fetchall()\n",
    "\n",
    "for row in results:\n",
    "    print(row)\n",
    "\n",
    "connection.close()"
   ]
  },
  {
   "cell_type": "markdown",
   "metadata": {},
   "source": [
    "# Save your Notebook, then `File > Close and Halt`"
   ]
  },
  {
   "cell_type": "markdown",
   "metadata": {},
   "source": [
    "---"
   ]
  }
 ],
 "metadata": {
  "kernelspec": {
   "display_name": "Python 3",
   "language": "python",
   "name": "python3"
  },
  "language_info": {
   "codemirror_mode": {
    "name": "ipython",
    "version": 3
   },
   "file_extension": ".py",
   "mimetype": "text/x-python",
   "name": "python",
   "nbconvert_exporter": "python",
   "pygments_lexer": "ipython3",
   "version": "3.7.3"
  }
 },
 "nbformat": 4,
 "nbformat_minor": 1
}
