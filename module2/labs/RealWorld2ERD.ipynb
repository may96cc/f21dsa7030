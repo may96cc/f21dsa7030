{
 "cells": [
  {
   "cell_type": "markdown",
   "metadata": {},
   "source": [
    "# Creating an ERD"
   ]
  },
  {
   "cell_type": "markdown",
   "metadata": {},
   "source": [
    "Consider the following entities we identified in the previous reading."
   ]
  },
  {
   "cell_type": "markdown",
   "metadata": {},
   "source": [
    "\n",
    "`Course (Number, Title, Synopsis)`\n",
    "\n",
    "\n",
    "`Class (ClassID, Number, InstructorID, DateStarted, DateEnded)`\n",
    "\n",
    "\n",
    "`Enrollment (ClassID, StudentID)`\n",
    "\n",
    "\n",
    "`Instructor (InstructorID, LastName, FirstName)`\n",
    "\n",
    "\n",
    "`Student (StudentID, LastName, FirstName)`\n"
   ]
  },
  {
   "cell_type": "markdown",
   "metadata": {},
   "source": [
    "Construct a Crow's Foot ERD\n",
    "\n",
    "Note the following expected relationships:\n",
    " 1. One `Course` has many `Class`es\n",
    " 1. One `Class` has one and only one `Instructor`\n",
    " 1. One `Class` has more than one `Student`\n",
    " \n",
    "Get a sheet of paper (from the nearest printer?)"
   ]
  },
  {
   "cell_type": "markdown",
   "metadata": {},
   "source": [
    "```R\n",
    " \n",
    " \n",
    " \n",
    " \n",
    " \n",
    "  \n",
    " \n",
    " \n",
    " \n",
    " \n",
    "  \n",
    " \n",
    " \n",
    " \n",
    " \n",
    " \n",
    " \n",
    "  \n",
    " \n",
    " \n",
    " \n",
    " \n",
    " \n",
    " \n",
    " \n",
    "  \n",
    " \n",
    " \n",
    " \n",
    " \n",
    "  \n",
    " \n",
    " \n",
    " \n",
    "  \n",
    " \n",
    " \n",
    " \n",
    " \n",
    " \n",
    " \n",
    "  \n",
    " \n",
    " \n",
    " \n",
    " \n",
    " \n",
    "```\n",
    "After you have drawn out your ERD, please compare to [this](../images/CourseClassERD.jpg) possible solution.\n"
   ]
  }
 ],
 "metadata": {
  "kernelspec": {
   "display_name": "Python 3",
   "language": "python",
   "name": "python3"
  },
  "language_info": {
   "codemirror_mode": {
    "name": "ipython",
    "version": 3
   },
   "file_extension": ".py",
   "mimetype": "text/x-python",
   "name": "python",
   "nbconvert_exporter": "python",
   "pygments_lexer": "ipython3",
   "version": "3.7.3"
  }
 },
 "nbformat": 4,
 "nbformat_minor": 1
}
