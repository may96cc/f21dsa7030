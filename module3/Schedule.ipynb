{
 "cells": [
  {
   "cell_type": "markdown",
   "metadata": {},
   "source": [
    "# Module 3: Review of Databases and SQL, Advanced SQL"
   ]
  },
  {
   "cell_type": "markdown",
   "metadata": {},
   "source": [
    "## Topics covered\n",
    "* Query Plans\n",
    "* Joins\n",
    "* Aggregates\n",
    "* Data Indexing\n",
    "\n"
   ]
  },
  {
   "cell_type": "markdown",
   "metadata": {},
   "source": [
    "## Readings\n",
    "\n",
    "#### Review of Foundations\n",
    "* [SQL - Select Review - Module 1 Exercise](../module1/exercises/SQL.ipynb)  \n",
    "\n",
    "#### New Topics \n",
    "* Query Plans\n",
    "  * [Wikipedia](https://en.wikipedia.org/wiki/Query_plan) \n",
    "  * [PostgreSQL](https://www.postgresqltutorial.com/postgresql-explain/)\n",
    "  * [Additional Reading](https://thoughtbot.com/blog/reading-an-explain-analyze-query-plan)\n",
    "* Joins\n",
    "  * [W3 Schools](https://www.w3schools.com/sql/sql_join.asp)\n",
    "  * [PostgreSQL](https://www.postgresql.org/docs/10/tutorial-join.html)\n",
    "* [Aggregates](https://www.postgresql.org/docs/10/functions-aggregate.html)\n",
    "* Indexing Data\n",
    "  * [Wikipedia](https://en.wikipedia.org/wiki/Database_index)\n",
    "  * [Data Indexing](https://www.postgresql.org/docs/10/sql-createindex.html)\n",
    "  * [Index-Only Scans](https://www.postgresql.org/docs/10/indexes-index-only-scans.html)\n",
    "      * When reading about scans, think back to query plans!\n",
    "  "
   ]
  },
  {
   "cell_type": "markdown",
   "metadata": {},
   "source": [
    "## Discussions\n",
    "  * [Describe an question you have answered using SQL and why SQL was a good way to solve it, if you haven't used a database or SQL yet describe a hypothetical question you can answer and how SQL can be used to solve it better than other way?](https://umsystem.instructure.com/courses/8151/discussion_topics/853853)\n"
   ]
  },
  {
   "cell_type": "markdown",
   "metadata": {},
   "source": [
    "\n",
    "## Labs, Practices and Exercises\n",
    "\n",
    "#### Review of Foundations from Module 1\n",
    "* [SQL - SELECT](../module1/practices/PostgreSQL.ipynb)  \n",
    "  \n",
    "### Labs\n",
    "\n",
    " * [Joins](./labs/Joins.ipynb)\n",
    " * [Aggregations](./labs/Aggregations.ipynb)\n",
    " * [Query Plans](./labs/QueryExecutionPlan.ipynb)\n"
   ]
  },
  {
   "cell_type": "markdown",
   "metadata": {},
   "source": [
    "### Practices\n",
    "\n",
    " * [Joins Practice part 1](./practices/Joins.ipynb)\n",
    " * [Joins Practice part 2](./practices/JoinsPt2.ipynb)\n",
    " * [Aggregation practice](./practices/Aggregations.ipynb) \n"
   ]
  },
  {
   "cell_type": "markdown",
   "metadata": {},
   "source": [
    "### Exercises\n",
    "\n",
    " * [Joins](./exercises/JoinsExercise.ipynb)\n",
    " * [Aggregates](./exercises/Aggregations.ipynb) \n",
    " "
   ]
  },
  {
   "cell_type": "markdown",
   "metadata": {},
   "source": [
    "## Submitting  work\n",
    "\n",
    "#### Steps:\n",
    "  1. Open Terminal in JupyterHub\n",
    "  1. Change into the course folder  \n",
    "  1. Stage (Git Add) the module's exercise work   \n",
    "  `git  add   modules/module3/practices modules/module3/exercises`\n",
    "  1. Create your work snapshot (Git Commit)  \n",
    "  `git   commit   -m   \"Module 3 submission\"`\n",
    "  1. Upload the snapshot to the server (Git Push)  \n",
    "  `git   push`\n"
   ]
  }
 ],
 "metadata": {
  "kernelspec": {
   "display_name": "Python 3",
   "language": "python",
   "name": "python3"
  },
  "language_info": {
   "codemirror_mode": {
    "name": "ipython",
    "version": 3
   },
   "file_extension": ".py",
   "mimetype": "text/x-python",
   "name": "python",
   "nbconvert_exporter": "python",
   "pygments_lexer": "ipython3",
   "version": "3.7.3"
  }
 },
 "nbformat": 4,
 "nbformat_minor": 2
}
