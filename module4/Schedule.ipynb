{
 "cells": [
  {
   "cell_type": "markdown",
   "metadata": {},
   "source": [
    "# Module 4: Advanced SQL - Nested Queries"
   ]
  },
  {
   "cell_type": "markdown",
   "metadata": {},
   "source": [
    "## Topics covered\n",
    "* Review of Foundations\n",
    "* Nested Queries\n",
    "* Table Expressions\n",
    "* Advanced Statistics with Aggregates\n"
   ]
  },
  {
   "cell_type": "markdown",
   "metadata": {},
   "source": [
    "## Readings\n",
    "\n",
    "* [Nested Queries, aka Subqueries](../module4/resources/NestedQueries.ipynb)\n",
    "* [Table Expressions](../module4/resources/TableExpressions.ipynb)"
   ]
  },
  {
   "cell_type": "markdown",
   "metadata": {},
   "source": [
    "## Discussions\n",
    " * [Give a real-world example to demonstrate a nested query is a better idea than a simple join of two tables and sharing your reason.](https://umsystem.instructure.com/courses/8151/discussion_topics/871699)"
   ]
  },
  {
   "cell_type": "markdown",
   "metadata": {},
   "source": [
    "\n",
    "## Labs, Practices and Exercises\n",
    "\n",
    "\n",
    "#### Review of Foundations\n",
    "* [SQL - Select (Module 1 Practice)](../module1/practices/PostgreSQL.ipynb)  \n",
    "* [Joins (Module 3 Practice)](../module3/practices/Joins.ipynb)\n",
    "* [Basic Aggregates (Module 3 Practice)](../module3/practices/Aggregations.ipynb) \n",
    "* [Query Plans (Module 3 Practice)](../module3/labs/QueryExecutionPlan.ipynb) \n",
    "\n",
    "\n"
   ]
  },
  {
   "cell_type": "markdown",
   "metadata": {},
   "source": [
    "### Labs\n",
    "\n",
    "#### Basic Nested Queries\n",
    "\n",
    "Sub-queries are queries within another query.  The result of the inner sub-query is fed to the outer query, which uses that to produce its outcome. If that outer query is itself the inner query to a further query then the query will continue until the final outer query completes.\n",
    "\n",
    "There are two types of sub-queries in SQL however, uncorrelated sub-queries (Type I) and correlated sub-queries (Type II). Let’s take a look at Each.\n",
    "\n",
    "\n",
    " * [Nested Subqueries : Type I / Uncorrelated Nested Queries](./labs/TypeI.ipynb)\n",
    " * [Nested Subqueries : Type II / Correlated Nested Queries](./labs/TypeII.ipynb)\n",
    "\n",
    "#### Table Expressions\n",
    " * [Nested Table Expressions / Computed Table Expressions](./labs/NestedTableExpressions.ipynb)\n",
    "\n",
    "\n"
   ]
  },
  {
   "cell_type": "markdown",
   "metadata": {},
   "source": [
    "### Practices \n",
    "\n",
    " * [Subqueries](./practices/SubqueryPractice.ipynb)\n",
    "\n"
   ]
  },
  {
   "cell_type": "markdown",
   "metadata": {},
   "source": [
    "### Exercises\n",
    "\n",
    "  * [Nested Queries](./exercises/Nested.ipynb)\n"
   ]
  },
  {
   "cell_type": "markdown",
   "metadata": {},
   "source": [
    "## Submitting  work\n",
    "\n",
    "#### Steps:\n",
    "  1. Open Terminal in JupyterHub\n",
    "  1. Change into the course folder  \n",
    "  1. Stage (Git Add) the module's exercise work   \n",
    "  `git  add   modules/module4/practices modules/module4/exercises`\n",
    "  1. Create your work snapshot (Git Commit)  \n",
    "  `git   commit   -m   \"Module 4 submission\"`\n",
    "  1. Upload the snapshot to the server (Git Push)  \n",
    "  `git   push`\n"
   ]
  }
 ],
 "metadata": {
  "kernelspec": {
   "display_name": "Python 3",
   "language": "python",
   "name": "python3"
  },
  "language_info": {
   "codemirror_mode": {
    "name": "ipython",
    "version": 3
   },
   "file_extension": ".py",
   "mimetype": "text/x-python",
   "name": "python",
   "nbconvert_exporter": "python",
   "pygments_lexer": "ipython3",
   "version": "3.7.3"
  }
 },
 "nbformat": 4,
 "nbformat_minor": 2
}
