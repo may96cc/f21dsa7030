{
 "cells": [
  {
   "cell_type": "markdown",
   "metadata": {},
   "source": [
    "# Module 5: Advanced SQL - Views, Advanced Aggregates, Functions, and Triggers"
   ]
  },
  {
   "cell_type": "markdown",
   "metadata": {},
   "source": [
    "## Topics covered\n",
    "* Review of Foundations\n",
    "* Review Nested Queries, Table Expressions, Aggregates\n",
    "* Views\n",
    "* Advanced Aggregates\n",
    "* Procedural Functions and Triggers\n"
   ]
  },
  {
   "cell_type": "markdown",
   "metadata": {},
   "source": [
    "## Readings\n",
    "\n",
    "#### Advanced PostegreSQL Aggregates\n",
    "  * [Hypothetical Set](https://www.postgresql.org/docs/10/functions-aggregate.html#FUNCTIONS-HYPOTHETICAL-TABLE)\n",
    "  * [Ordered Set](https://www.postgresql.org/docs/10/functions-aggregate.html#FUNCTIONS-ORDEREDSET-TABLE)\n",
    "  * [Grouping Operations](https://www.postgresql.org/docs/10/functions-aggregate.html#FUNCTIONS-GROUPING-TABLE)\n",
    "* [Window Functions](https://www.postgresql.org/docs/10/tutorial-window.html)\n",
    "\n",
    "#### Views\n",
    "* [Views as stored Table Expressions](../module5/resources/ViewsAsStoredCTE.ipynb)\n",
    "* [General View Concept](https://www.tutorialspoint.com/sql/sql-using-views.htm)\n",
    "* [Materialized View](https://en.wikipedia.org/wiki/Materialized_view)\n",
    "\n",
    "#### Functions and Triggers\n",
    " * [PostrgreSQL Functions](https://www.tutorialspoint.com/postgresql/postgresql_functions.htm)\n",
    "   * Reference: https://www.postgresql.org/docs/10/sql-createfunction.html\n",
    "   \n",
    " * [Triggers](./resources/Triggers.ipynb)\n",
    "   * Reference: https://www.tutorialspoint.com/postgresql/postgresql_triggers.htm\n",
    "   * Reference: https://www.postgresql.org/docs/10/plpgsql-trigger.html\n",
    "   * Reference: https://www.postgresql.org/docs/10/sql-createtrigger.html\n"
   ]
  },
  {
   "cell_type": "markdown",
   "metadata": {},
   "source": [
    "## Discussions\n",
    " *[Now that we have been working with SQL for some weeks describe how you approach writing queries and what you have found helpful and what you might still be having issues with while constructing them.](Canvas link needed)"
   ]
  },
  {
   "cell_type": "markdown",
   "metadata": {},
   "source": [
    "\n",
    "## Labs, Practices and Exercises\n",
    "\n",
    "\n",
    "#### Review of Foundations\n",
    "* [Joins](../module3/practices/Joins.ipynb)\n",
    "* [Query Plans](../module3/labs/QueryExecutionPlan.ipynb) \n",
    "* [Nested Table Expressions](../module4/labs/NestedTableExpressions.ipynb)\n",
    "\n",
    "\n"
   ]
  },
  {
   "cell_type": "markdown",
   "metadata": {},
   "source": [
    "### Labs\n",
    "\n",
    "#### Advanced Aggregates \n",
    " * [Advanced Aggregations](./labs/AdvancedAggregations.ipynb)\n",
    "     * [Your Turn Answers](./labs/AdvancedAggregations-Answers.ipynb)\n",
    " * [Window Functions](./labs/WindowFunctions.ipynb)\n",
    "     * [Your Turn Answers](./labs/WindowFunctions-Answers.ipynb)\n",
    " * [Ordered Set Aggregation](./labs/OrderedSetStatWindowFunctions.ipynb)\n",
    "     * [Your Turn Answers](./labs/OrderedSetStatWindowFunctions-Answers.ipynb)\n",
    "\n",
    "#### Views\n",
    " * [Views](./labs/Views.ipynb)\n",
    "\n",
    "#### Functions and Triggers\n",
    " * [Functions](./labs/Functions.ipynb)\n",
    " * [Triggers](./labs/Triggers.ipynb)\n"
   ]
  },
  {
   "cell_type": "markdown",
   "metadata": {},
   "source": [
    "### Practices \n",
    " * [Views](./practices/ViewPractice.ipynb)\n",
    " * [Functions](./practices/FunctionsPractice.ipynb)\n",
    " * [Triggers](./practices/TriggersPractice.ipynb)\n",
    "\n",
    "\n"
   ]
  },
  {
   "cell_type": "markdown",
   "metadata": {},
   "source": [
    "### Exercises\n",
    "\n",
    " * [Advanced Aggregation](./exercises/AdvancedAggregates.ipynb)\n",
    " * [Window Functions](./exercises/WindowFunctions.ipynb)\n",
    " * [Views](./exercises/ViewExercise.ipynb)\n",
    " * [Triggers](./exercises/TriggersExercise.ipynb)\n"
   ]
  },
  {
   "cell_type": "markdown",
   "metadata": {},
   "source": [
    "## Submitting  work\n",
    "\n",
    "**Note**: we are submitting labs this week as well as practices and exercises.\n",
    "\n",
    "#### Steps:\n",
    "  1. Open Terminal in JupyterHub\n",
    "  1. Change into the course folder  \n",
    "  1. Stage (Git Add) the module's exercise work   \n",
    "  `git  add modules/module5/labs  modules/module5/practices modules/module5/exercises`\n",
    "  1. Create your work snapshot (Git Commit)  \n",
    "  `git   commit   -m   \"Module 5 submission\"`\n",
    "  1. Upload the snapshot to the server (Git Push)  \n",
    "  `git   push`\n"
   ]
  }
 ],
 "metadata": {
  "kernelspec": {
   "display_name": "Python 3",
   "language": "python",
   "name": "python3"
  },
  "language_info": {
   "codemirror_mode": {
    "name": "ipython",
    "version": 3
   },
   "file_extension": ".py",
   "mimetype": "text/x-python",
   "name": "python",
   "nbconvert_exporter": "python",
   "pygments_lexer": "ipython3",
   "version": "3.7.3"
  }
 },
 "nbformat": 4,
 "nbformat_minor": 2
}
