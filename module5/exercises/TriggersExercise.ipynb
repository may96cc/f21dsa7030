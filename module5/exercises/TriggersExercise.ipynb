{
 "cells": [
  {
   "cell_type": "markdown",
   "metadata": {},
   "source": [
    "# Triggers in PostgreSQL - Exercise"
   ]
  },
  {
   "cell_type": "markdown",
   "metadata": {},
   "source": [
    "\n",
    "For this exercise, you will connect to the `dsa_student` database and create functions within your schema, i.e., your pawprint should replace SSO below.\n"
   ]
  },
  {
   "cell_type": "markdown",
   "metadata": {},
   "source": [
    "--- \n",
    "\n",
    "## Audit the Survey Table for Deletes\n",
    "\n",
    "### 1 Define and create your trigger function to audit deletes on the survey table."
   ]
  },
  {
   "cell_type": "raw",
   "metadata": {},
   "source": [
    "# Add your trigger function below this line.\n",
    "\n",
    "\n",
    "\n",
    "\n",
    "CREATE TRIGGER survey_delete_trigger\n",
    "  AFTER DELETE\n",
    "  ON may96c.survey\n",
    "  FOR EACH ROW\n",
    "  EXECUTE PROCEDURE may96c.audit_SSO_survey_reading_delete();\n",
    "\n",
    "\n",
    "\n",
    "\n",
    "CREATE OR REPLACE FUNCTION may96c.audit_SSO_survey_reading_delete()\n",
    "  RETURNS TRIGGER AS \n",
    "$$\n",
    "BEGIN\n",
    "   INSERT INTO may96c.survey_audit\n",
    "       (taken, person, quant, old_reading, new_reading)\n",
    "   VALUES\n",
    "       (OLD.taken, OLD.person, OLD.quant, NULL, OLD.reading);\n",
    "   RETURN NEW;\n",
    "END;\n",
    "$$\n",
    "LANGUAGE PLPGSQL;\n",
    "\n",
    "\n"
   ]
  },
  {
   "cell_type": "markdown",
   "metadata": {},
   "source": [
    "----\n",
    "\n",
    "### 2 Create your trigger on the survey table.\n"
   ]
  },
  {
   "cell_type": "raw",
   "metadata": {},
   "source": [
    "# Add your trigger definition below this line.\n",
    "\n",
    "\n",
    "CREATE TRIGGER survey_delete_trigger\n",
    "  AFTER DELETE\n",
    "  ON may96c.survey\n",
    "  FOR EACH ROW\n",
    "  EXECUTE PROCEDURE may96c.audit_SSO_survey_reading_delete();\n",
    "\n",
    "\n"
   ]
  },
  {
   "cell_type": "raw",
   "metadata": {},
   "source": [
    "# Show the table describe for the Survey table that should include three triggers now.\n",
    "dsa_student=> \\d may96c.survey\n",
    "               Table \"may96c.survey\"\n",
    " Column  |  Type   | Collation | Nullable | Default\n",
    "---------+---------+-----------+----------+---------\n",
    " taken   | integer |           |          |\n",
    " person  | text    |           |          |\n",
    " quant   | text    |           |          |\n",
    " reading | real    |           |          |\n",
    "Triggers:\n",
    "    may96c_survey_insert_audit AFTER INSERT ON survey FOR EACH ROW EXECUTE PROCEDURE audit_may96c_survey_reading_insert()\n",
    "    survey_delete_trigger AFTER DELETE ON survey FOR EACH ROW EXECUTE PROCEDURE audit_sso_survey_reading_delete()\n",
    "\n",
    "\n",
    "\n"
   ]
  },
  {
   "cell_type": "markdown",
   "metadata": {},
   "source": [
    "### 3 Remove Rows\n",
    "\n",
    "Note: In the practice we executed this multi-insert statement.\n",
    "\n",
    "```SQL\n",
    "INSERT INTO SSO.survey VALUES \n",
    "(619,'lake','rad',8.72),\n",
    "(619,'lake','sal',2.03),\n",
    "(622,'lake','rad',8.8),\n",
    "(622,'lake','sal',1.9)\n",
    ";\n",
    "```\n",
    "\n",
    "#### In the cells below, \n",
    " 1. Write a two distinct DELETE Statements for 619/lake rows.\n",
    "     1. removing this data (619,'lake','rad',8.72)\n",
    "     2. removing this data (619,'lake','sal',2.03)\n",
    " 2. Show the data in the survey table.\n",
    " 3. Show the resulting audit rows.\n"
   ]
  },
  {
   "cell_type": "raw",
   "metadata": {},
   "source": [
    "# 3.1 Show the delete statements\n",
    "DELETE FROM may96c.survey WHERE taken = 619 AND person = 'lake' ;\n",
    "DELETE FROM may96c.survey WHERE taken = 619 AND person = 'lake' ;\n",
    "\n",
    "\n",
    "dsa_student=> DELETE FROM may96c.survey WHERE taken = 619 AND person = 'lake' ;\n",
    "DELETE 2\n",
    "dsa_student=>\n"
   ]
  },
  {
   "cell_type": "raw",
   "metadata": {},
   "source": [
    "# 3.2 Show the full survey table\n",
    "\n",
    "LINE 1: select (*) FROM may96c.survey ;\n",
    "                ^\n",
    "dsa_student=> select * from may96c.survey ;\n",
    " taken | person | quant | reading\n",
    "-------+--------+-------+---------\n",
    "   619 | dyer   | rad   |    9.82\n",
    "   619 | dyer   | sal   |    0.13\n",
    "   622 | dyer   | rad   |     7.8\n",
    "   622 | dyer   | sal   |    0.09\n",
    "   734 | pb     | rad   |    8.41\n",
    "   734 | lake   | sal   |    0.05\n",
    "   734 | pb     | temp  |   -21.5\n",
    "   735 | pb     | rad   |    7.22\n",
    "   735 |        | sal   |    0.06\n",
    "   735 |        | temp  |     -26\n",
    "   751 | pb     | rad   |    4.35\n",
    "   751 | pb     | temp  |   -18.5\n",
    "   751 | lake   | sal   |     0.1\n",
    "   752 | lake   | rad   |    2.19\n",
    "   752 | lake   | sal   |    0.09\n",
    "   752 | lake   | temp  |     -16\n",
    "   837 | lake   | rad   |    1.46\n",
    "   837 | lake   | sal   |    0.21\n",
    "   752 | roe    | sal   |   41.61\n",
    "   837 | roe    | sal   |   22.51\n",
    "   844 | roe    | rad   |   11.26\n",
    "   619 | roe    | rad   |     101\n",
    "   622 | lake   | rad   |     8.8\n",
    "   622 | lake   | sal   |     1.9\n",
    "(24 rows)\n",
    "\n"
   ]
  },
  {
   "cell_type": "raw",
   "metadata": {},
   "source": [
    "# 3.3 Show the resulting audit rows.\n",
    "\n",
    "\n",
    "dsa_student=> select * FROM may96c.survey_audit;\n",
    " taken | person | quant |          change_time          | old_reading | new_reading\n",
    "-------+--------+-------+-------------------------------+-------------+-------------\n",
    "   619 | roe    | rad   | 2021-11-20 13:50:55.378257-06 |             |         101\n",
    "   619 | lake   | rad   | 2021-11-20 13:58:55.086594-06 |             |        8.72\n",
    "   619 | lake   | sal   | 2021-11-20 13:58:55.086594-06 |             |        2.03\n",
    "   622 | lake   | rad   | 2021-11-20 13:58:55.086594-06 |             |         8.8\n",
    "   622 | lake   | sal   | 2021-11-20 13:58:55.086594-06 |             |         1.9\n",
    "   619 | lake   | rad   | 2021-11-21 17:20:10.476722-06 |             |        8.72\n",
    "   619 | lake   | sal   | 2021-11-21 17:20:10.476722-06 |             |        2.03\n",
    "   \n",
    " LAST TWO ROWS\n",
    " "
   ]
  },
  {
   "cell_type": "markdown",
   "metadata": {},
   "source": [
    "---\n",
    "\n",
    "### 4 Remove the other two rows with a single delete statement.\n",
    "\n",
    " 1. Write a single DELETE Statement for the 622/lake rows.\n",
    "     1. removing this data (622,'lake','rad',8.8)\n",
    "     2. removing this data (622,'lake','sal',1.9)\n",
    " 2. Show the data in the survey table.\n",
    " 3. Show the resulting audit rows."
   ]
  },
  {
   "cell_type": "raw",
   "metadata": {},
   "source": [
    "# 4.1 Show the delete statements\n",
    "\n",
    "\n",
    "dsa_student=> DELETE FROM may96c.survey WHERE taken = 622 AND person = 'lake';\n"
   ]
  },
  {
   "cell_type": "raw",
   "metadata": {},
   "source": [
    "# 4.2 Show the full survey table\n",
    "dsa_student=> select * from may96c.survey ;\n",
    " taken | person | quant | reading\n",
    "-------+--------+-------+---------\n",
    "   619 | dyer   | rad   |    9.82\n",
    "   619 | dyer   | sal   |    0.13\n",
    "   622 | dyer   | rad   |     7.8\n",
    "   622 | dyer   | sal   |    0.09\n",
    "   734 | pb     | rad   |    8.41\n",
    "   734 | lake   | sal   |    0.05\n",
    "   734 | pb     | temp  |   -21.5\n",
    "   735 | pb     | rad   |    7.22\n",
    "   735 |        | sal   |    0.06\n",
    "   735 |        | temp  |     -26\n",
    "   751 | pb     | rad   |    4.35\n",
    "   751 | pb     | temp  |   -18.5\n",
    "   751 | lake   | sal   |     0.1\n",
    "   752 | lake   | rad   |    2.19\n",
    "   752 | lake   | sal   |    0.09\n",
    "   752 | lake   | temp  |     -16\n",
    "   837 | lake   | rad   |    1.46\n",
    "   837 | lake   | sal   |    0.21\n",
    "   752 | roe    | sal   |   41.61\n",
    "   837 | roe    | sal   |   22.51\n",
    "   844 | roe    | rad   |   11.26\n",
    "   619 | roe    | rad   |     101\n",
    "(22 rows)\n",
    "\n"
   ]
  },
  {
   "cell_type": "raw",
   "metadata": {},
   "source": [
    "# 4.3 Show the resulting audit rows.\n",
    "dsa_student=> select * from may96c.survey_audit ;\n",
    " taken | person | quant |          change_time          | old_reading | new_reading\n",
    "-------+--------+-------+-------------------------------+-------------+-------------\n",
    "   619 | roe    | rad   | 2021-11-20 13:50:55.378257-06 |             |         101\n",
    "   619 | lake   | rad   | 2021-11-20 13:58:55.086594-06 |             |        8.72\n",
    "   619 | lake   | sal   | 2021-11-20 13:58:55.086594-06 |             |        2.03\n",
    "   622 | lake   | rad   | 2021-11-20 13:58:55.086594-06 |             |         8.8\n",
    "   622 | lake   | sal   | 2021-11-20 13:58:55.086594-06 |             |         1.9\n",
    "   619 | lake   | rad   | 2021-11-21 17:20:10.476722-06 |             |        8.72\n",
    "   619 | lake   | sal   | 2021-11-21 17:20:10.476722-06 |             |        2.03\n",
    "   622 | lake   | rad   | 2021-11-21 17:42:33.347984-06 |             |         8.8\n",
    "   622 | lake   | sal   | 2021-11-21 17:42:33.347984-06 |             |         1.9\n",
    "   622 | lake   | rad   | 2021-11-21 17:52:24.405268-06 |             |         8.8\n",
    "   622 | lake   | sal   | 2021-11-21 17:52:24.405268-06 |             |         1.9\n",
    "   622 | lake   | rad   | 2021-11-21 17:52:24.405268-06 |             |         8.8\n",
    "   622 | lake   | sal   | 2021-11-21 17:52:24.405268-06 |             |         1.9\n",
    "(13 rows)\n",
    "\n"
   ]
  },
  {
   "cell_type": "markdown",
   "metadata": {},
   "source": [
    "# Save your notebook, then `File > Close and Halt`"
   ]
  }
 ],
 "metadata": {
  "kernelspec": {
   "display_name": "Python 3",
   "language": "python",
   "name": "python3"
  },
  "language_info": {
   "codemirror_mode": {
    "name": "ipython",
    "version": 3
   },
   "file_extension": ".py",
   "mimetype": "text/x-python",
   "name": "python",
   "nbconvert_exporter": "python",
   "pygments_lexer": "ipython3",
   "version": "3.7.3"
  }
 },
 "nbformat": 4,
 "nbformat_minor": 1
}
