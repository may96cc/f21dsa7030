{
 "cells": [
  {
   "cell_type": "markdown",
   "metadata": {},
   "source": [
    "# Triggers in PostgreSQL - Exercise"
   ]
  },
  {
   "cell_type": "markdown",
   "metadata": {},
   "source": [
    "\n",
    "For this exercise, you will connect to the `dsa_student` database and create functions within your schema, i.e., your pawprint should replace SSO below.\n"
   ]
  },
  {
   "attachments": {},
   "cell_type": "markdown",
   "metadata": {},
   "source": [
    "--- \n",
    "\n",
    "## Audit the Survey Table for Deletes\n",
    "\n",
    "### 1 Define and create your trigger function to audit deletes on the survey table."
   ]
  },
  {
   "cell_type": "raw",
   "metadata": {},
   "source": [
    "# Add your trigger function below this line.\n",
    "\n",
    "\n",
    "\n",
    "\n"
   ]
  },
  {
   "cell_type": "markdown",
   "metadata": {},
   "source": [
    "----\n",
    "\n",
    "### 2 Create your trigger on the survey table.\n"
   ]
  },
  {
   "cell_type": "raw",
   "metadata": {},
   "source": [
    "# Add your trigger definition below this line.\n",
    "\n",
    "\n",
    "\n",
    "\n",
    "\n"
   ]
  },
  {
   "cell_type": "raw",
   "metadata": {},
   "source": [
    "# Show the table describe for the Survey table that should include three triggers now.\n",
    "\n",
    "\n",
    "\n",
    "\n"
   ]
  },
  {
   "cell_type": "markdown",
   "metadata": {},
   "source": [
    "### 3 Remove Rows\n",
    "\n",
    "Note: In the practice we executed this multi-insert statement.\n",
    "\n",
    "```SQL\n",
    "INSERT INTO SSO.survey VALUES \n",
    "(619,'lake','rad',8.72),\n",
    "(619,'lake','sal',2.03),\n",
    "(622,'lake','rad',8.8),\n",
    "(622,'lake','sal',1.9)\n",
    ";\n",
    "```\n",
    "\n",
    "#### In the cells below, \n",
    " 1. Write a two distinct DELETE Statements for 619/lake rows.\n",
    "     1. removing this data (619,'lake','rad',8.72)\n",
    "     2. removing this data (619,'lake','sal',2.03)\n",
    " 2. Show the data in the survey table.\n",
    " 3. Show the resulting audit rows.\n"
   ]
  },
  {
   "cell_type": "raw",
   "metadata": {},
   "source": [
    "# 3.1 Show the delete statements\n",
    "\n",
    "\n"
   ]
  },
  {
   "cell_type": "raw",
   "metadata": {},
   "source": [
    "# 3.2 Show the full survey table\n",
    "\n",
    "\n"
   ]
  },
  {
   "cell_type": "raw",
   "metadata": {},
   "source": [
    "# 3.3 Show the resulting audit rows.\n",
    "\n",
    "\n"
   ]
  },
  {
   "cell_type": "markdown",
   "metadata": {},
   "source": [
    "---\n",
    "\n",
    "### 4 Remove the other two rows with a single delete statement.\n",
    "\n",
    " 1. Write a single DELETE Statement for the 622/lake rows.\n",
    "     1. removing this data (622,'lake','rad',8.8)\n",
    "     2. removing this data (622,'lake','sal',1.9)\n",
    " 2. Show the data in the survey table.\n",
    " 3. Show the resulting audit rows."
   ]
  },
  {
   "cell_type": "raw",
   "metadata": {},
   "source": [
    "# 4.1 Show the delete statements\n",
    "\n",
    "\n"
   ]
  },
  {
   "cell_type": "raw",
   "metadata": {},
   "source": [
    "# 4.2 Show the full survey table\n",
    "\n",
    "\n"
   ]
  },
  {
   "cell_type": "raw",
   "metadata": {},
   "source": [
    "# 4.3 Show the resulting audit rows.\n",
    "\n",
    "\n"
   ]
  },
  {
   "cell_type": "markdown",
   "metadata": {},
   "source": [
    "# Save your notebook, then `File > Close and Halt`"
   ]
  }
 ],
 "metadata": {
  "kernelspec": {
   "display_name": "Python 3",
   "language": "python",
   "name": "python3"
  },
  "language_info": {
   "codemirror_mode": {
    "name": "ipython",
    "version": 3
   },
   "file_extension": ".py",
   "mimetype": "text/x-python",
   "name": "python",
   "nbconvert_exporter": "python",
   "pygments_lexer": "ipython3",
   "version": "3.7.3"
  }
 },
 "nbformat": 4,
 "nbformat_minor": 1
}
