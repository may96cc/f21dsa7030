{
 "cells": [
  {
   "cell_type": "markdown",
   "metadata": {},
   "source": [
    "# Module 6: Data Engineering and ETL"
   ]
  },
  {
   "cell_type": "markdown",
   "metadata": {},
   "source": [
    "## Topics covered\n",
    "* Review ERD / DDL\n",
    "* Normalization\n",
    "* Data Loading\n",
    "  * Insert\n",
    "  * Bulk Loading\n",
    "* Update\n",
    "* Delete\n"
   ]
  },
  {
   "cell_type": "markdown",
   "metadata": {},
   "source": [
    "## Readings\n",
    "\n",
    " * [Data Manipulation Language, DML](./resources/DML.ipynb)\n",
    "\n",
    "### Database Design - Review from Module 2\n",
    "\n",
    "* [Review from Module 1 - Database Fundamentals, The Relational Data Model and Relational Database Constraints](https://web.dsa.missouri.edu/static/PDF/DB/Database_Fundamentals_Ch3.pdf)\n",
    "    * Supplemental: [Database Fundamentals, Data Modeling using ER Model](https://web.dsa.missouri.edu/static/PDF/DB/Database_Fundamentals_Ch7.pdf)\n",
    "\n",
    "* [Data Modelling using ERD with Crow Foot Notation](https://www.codeproject.com/Articles/878359/Data-modelling-using-ERD-with-Crow-Foot-Notation)\n",
    "\n",
    "* [ERD \"Crow's Foot\" Relationship Symbols Cheat Sheet](http://www.vivekmchawla.com/erd-crows-foot-relationship-symbols-cheat-sheet/)\n",
    "\n",
    "* [Crow's Foot Notation](http://www.vertabelo.com/blog/technical-articles/crow-s-foot-notation/)\n",
    "* [Data formats, types, usage and standards](../module2/resources/DataTypesAndStandards.ipynb)\n",
    "\n",
    "\n"
   ]
  },
  {
   "cell_type": "markdown",
   "metadata": {},
   "source": [
    "## Discussions\n",
    "[Please share with your classmates what you found and came up with for the Extraction, Transformation, Loading Practice.](https://umsystem.instructure.com/courses/8151/discussion_topics/888703)"
   ]
  },
  {
   "cell_type": "markdown",
   "metadata": {},
   "source": [
    "\n",
    "## Labs, Practices and Exercises\n",
    "\n",
    "\n",
    "#### Review of Foundations\n",
    "\n",
    "  * [Words to Entities and Attributes](../module2/labs/DB_Design_1.ipynb)\n",
    "  * [Entities and Attributes to ERD](../module2/labs/DB_Design_2.ipynb)\n",
    "  * [Database Design](../module2/labs/DatabaseDesign.ipynb)\n",
    "  * [Converting ERD to DDL](../module2/practices/ERD2DDL.ipynb)\n",
    "\n"
   ]
  },
  {
   "cell_type": "markdown",
   "metadata": {},
   "source": [
    "### Labs\n",
    "\n",
    " * [Database Loading](./labs/DB_Loading.ipynb)\n",
    " * [Extraction/Transform/Load](./labs/ETL.ipynb)\n"
   ]
  },
  {
   "cell_type": "markdown",
   "metadata": {},
   "source": [
    "### Practices \n",
    "\n",
    " * [Extraction/Transform/Load](./practices/ETL_Practice.ipynb)\n"
   ]
  },
  {
   "cell_type": "markdown",
   "metadata": {},
   "source": [
    "### Exercises\n",
    "\n",
    " * [Database Loading](./exercises/DB_Loading.ipynb)\n",
    " * [Normalization and Loading](./exercises/NormalizeAndLoad.ipynb)\n"
   ]
  },
  {
   "cell_type": "markdown",
   "metadata": {},
   "source": [
    "## Submitting  work\n",
    "\n",
    "**Note**: we are submitting labs this week as well as practices and exercises.\n",
    "\n",
    "#### Steps:\n",
    "  1. Open Terminal in JupyterHub\n",
    "  1. Change into the course folder  \n",
    "  1. Stage (Git Add) the module's exercise work   \n",
    "  `git  add modules/module6/labs  modules/module6/practices modules/module6/exercises`\n",
    "  1. Create your work snapshot (Git Commit)  \n",
    "  `git   commit   -m   \"Module 6 submission\"`\n",
    "  1. Upload the snapshot to the server (Git Push)  \n",
    "  `git   push`\n"
   ]
  }
 ],
 "metadata": {
  "kernelspec": {
   "display_name": "Python 3",
   "language": "python",
   "name": "python3"
  },
  "language_info": {
   "codemirror_mode": {
    "name": "ipython",
    "version": 3
   },
   "file_extension": ".py",
   "mimetype": "text/x-python",
   "name": "python",
   "nbconvert_exporter": "python",
   "pygments_lexer": "ipython3",
   "version": "3.7.3"
  }
 },
 "nbformat": 4,
 "nbformat_minor": 2
}
