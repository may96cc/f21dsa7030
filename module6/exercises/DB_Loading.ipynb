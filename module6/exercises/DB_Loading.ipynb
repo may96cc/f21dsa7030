{
 "cells": [
  {
   "cell_type": "markdown",
   "metadata": {},
   "source": [
    "# Database Design and Load Exercise\n",
    "\n",
    "### Steps\n",
    " 1. Analyze - Completed last module\n",
    " 2. Design - Completed last module. \n",
    " 3. Data Carpentry\n",
    " 4. Data Loading\n",
    " 5. Analytical Queries"
   ]
  },
  {
   "cell_type": "markdown",
   "metadata": {},
   "source": [
    "# Smart Stores ERD\n",
    "Last module everyone was to build an ERD diagram based on the entities and attributes below.\n",
    "\n"
   ]
  },
  {
   "cell_type": "markdown",
   "metadata": {},
   "source": [
    "### orders :\n",
    "* `order_id`: order identifier\n",
    "* `user_id`: customer identifier\n",
    "* `eval_set`: which evaluation set this order belongs in (see `SET` described below)\n",
    "* `order_number`: the order sequence number for this user (1 = first, n = nth)\n",
    "* `order_dow`: the day of the week the order was placed on\n",
    "* `order_hour_of_day`: the hour of the day the order was placed on\n",
    "* `days_since_prior`: days since the last order, capped at 30 (with NAs for `order_number` = 1)\n",
    "\n",
    "### products :\n",
    "* `product_id`: product identifier\n",
    "* `product_name`: name of the product\n",
    "* `aisle_id`: foreign key\n",
    "* `department_id`: foreign key\n",
    "\n",
    "### aisles :\n",
    "* `aisle_id`: aisle identifier\n",
    "* `aisle`: the name of the aisle\n",
    "\n",
    "### deptartments :\n",
    "* `department_id`: department identifier\n",
    "* `department`: the name of the department\n",
    "\n",
    "### order_products :\n",
    "* `order_id`: foreign key\n",
    "* `product_id`: foreign key\n",
    "* `add_to_cart_order`: order in which each product was added to cart\n",
    "* `reordered`: 1 if this product has been ordered by this user in the past, 0 otherwise\n",
    "\n",
    "#### where SET is one of the four following evaluation sets (eval_set in orders):\n",
    "\n",
    "* \"prior\": orders prior to that users most recent order (~3.2m orders)\n",
    "* \"train\": training data supplied to participants (~131k orders)\n",
    "* \"test\": test data reserved for machine learning competitions (~75k orders)"
   ]
  },
  {
   "cell_type": "markdown",
   "metadata": {
    "collapsed": true
   },
   "source": [
    "# ERD Diagram\n",
    "\n",
    "For this assignment this is the ERD diagram everyone should use based on the requirements above. It is ok if you had something a little bit different in last week's exercise as long as you captured all of the requirements and relationships."
   ]
  },
  {
   "cell_type": "markdown",
   "metadata": {
    "collapsed": true
   },
   "source": [
    "![erd](../images/db_design.png)"
   ]
  },
  {
   "cell_type": "markdown",
   "metadata": {},
   "source": [
    "### Activity 1 - Create the tables in the database\n",
    " 1. Convert the Entities and attributes into a Database schema for Postgres\n",
    " 1. Remember to prefix table names with your database id, e.g., _SSO_.\n",
    "    * Example: `CREATE TABLE SSO.Order ... `\n",
    "    \n",
    "**Remember to specify your Primary Keys and Foreign Keys for each table!** "
   ]
  },
  {
   "cell_type": "markdown",
   "metadata": {},
   "source": [
    "\n",
    "\n",
    "\n",
    "\n",
    "\n",
    "\n",
    "\n",
    "\n",
    "\n",
    "\n",
    "\n",
    "\n",
    "\n",
    "\n"
   ]
  },
  {
   "cell_type": "markdown",
   "metadata": {},
   "source": [
    "### Activity 2 - Load data from the following files:\n",
    "\n",
    "## `/dsa/data/all_datasets/instacart/orders.csv`\n",
    " * 3421084 Rows\n",
    " * File Preview \n",
    "```\n",
    "order_id,user_id,eval_set,order_number,order_dow,order_hour_of_day,days_since_prior_order\n",
    "2539329,1,prior,1,2,08,\n",
    "2398795,1,prior,2,3,07,15.0\n",
    "473747,1,prior,3,3,12,21.0\n",
    "2254736,1,prior,4,4,07,29.0\n",
    "```\n",
    "\n",
    "## `/dsa/data/all_datasets/instacart/products.csv`\n",
    " * 49689 Rows\n",
    " * File Preview \n",
    "```\n",
    "product_id,product_name,aisle_id,department_id\n",
    "1,Chocolate Sandwich Cookies,61,19\n",
    "2,All-Seasons Salt,104,13\n",
    "3,Robust Golden Unsweetened Oolong Tea,94,7\n",
    "4,Smart Ones Classic Favorites Mini Rigatoni With Vodka Cream Sauce,38,1\n",
    "```\n",
    "\n",
    "## `/dsa/data/all_datasets/instacart/aisles.csv`\n",
    " * 135 Rows\n",
    " * File Preview \n",
    "```\n",
    "aisle_id,aisle\n",
    "1,prepared soups salads\n",
    "2,specialty cheeses\n",
    "3,energy granola bars\n",
    "4,instant foods\n",
    "```\n",
    "\n",
    "## `/dsa/data/all_datasets/instacart/departments.csv`\n",
    " * 22 Rows\n",
    " * File Preview \n",
    "```\n",
    "department_id,department\n",
    "1,frozen\n",
    "2,other\n",
    "3,bakery\n",
    "4,produce\n",
    "```\n",
    "\n",
    "## `/dsa/data/all_datasets/instacart/order_products.csv`\n",
    " * 1384618 Rows\n",
    " * File Preview \n",
    "```\n",
    "order_id,product_id,add_to_cart_order,reordered\n",
    "1,49302,1,1\n",
    "1,11109,2,1\n",
    "1,10246,3,0\n",
    "1,49683,4,0\n",
    "```\n",
    "     "
   ]
  },
  {
   "cell_type": "markdown",
   "metadata": {},
   "source": [
    "## In each designated cell, load the data using Python\n",
    "\n"
   ]
  },
  {
   "cell_type": "markdown",
   "metadata": {},
   "source": [
    "### Activity 3 - Orders "
   ]
  },
  {
   "cell_type": "code",
   "execution_count": null,
   "metadata": {},
   "outputs": [],
   "source": [
    "\n",
    "\n",
    "\n",
    "\n",
    "\n",
    "\n",
    "\n",
    "\n",
    "\n",
    "\n",
    "\n"
   ]
  },
  {
   "cell_type": "markdown",
   "metadata": {},
   "source": [
    "### Activity 2 - Products\n",
    "\n",
    "\n",
    "\n",
    "\n",
    "\n"
   ]
  },
  {
   "cell_type": "code",
   "execution_count": null,
   "metadata": {},
   "outputs": [],
   "source": [
    "\n",
    "\n",
    "\n",
    "\n",
    "\n",
    "\n",
    "\n",
    "\n",
    "\n",
    "\n",
    "\n"
   ]
  },
  {
   "cell_type": "markdown",
   "metadata": {},
   "source": [
    "### Activity 3 - Aisles"
   ]
  },
  {
   "cell_type": "code",
   "execution_count": null,
   "metadata": {},
   "outputs": [],
   "source": [
    "\n",
    "\n",
    "\n",
    "\n",
    "\n",
    "\n",
    "\n",
    "\n",
    "\n",
    "\n",
    "\n"
   ]
  },
  {
   "cell_type": "markdown",
   "metadata": {},
   "source": [
    "### Activity 4 - Departments"
   ]
  },
  {
   "cell_type": "code",
   "execution_count": null,
   "metadata": {},
   "outputs": [],
   "source": [
    "\n",
    "\n",
    "\n",
    "\n",
    "\n",
    "\n",
    "\n",
    "\n",
    "\n",
    "\n",
    "\n"
   ]
  },
  {
   "cell_type": "markdown",
   "metadata": {},
   "source": [
    "### Activity 5 - Order Products"
   ]
  },
  {
   "cell_type": "code",
   "execution_count": null,
   "metadata": {},
   "outputs": [],
   "source": [
    "\n",
    "\n",
    "\n",
    "\n",
    "\n",
    "\n",
    "\n",
    "\n",
    "\n",
    "\n"
   ]
  },
  {
   "cell_type": "markdown",
   "metadata": {},
   "source": [
    "# Save your notebook, then `File > Close and Halt`"
   ]
  },
  {
   "cell_type": "markdown",
   "metadata": {},
   "source": [
    "---"
   ]
  }
 ],
 "metadata": {
  "kernelspec": {
   "display_name": "Python 3",
   "language": "python",
   "name": "python3"
  },
  "language_info": {
   "codemirror_mode": {
    "name": "ipython",
    "version": 3
   },
   "file_extension": ".py",
   "mimetype": "text/x-python",
   "name": "python",
   "nbconvert_exporter": "python",
   "pygments_lexer": "ipython3",
   "version": "3.7.3"
  }
 },
 "nbformat": 4,
 "nbformat_minor": 2
}
