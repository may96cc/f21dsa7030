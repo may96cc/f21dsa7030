{
 "cells": [
  {
   "cell_type": "markdown",
   "metadata": {},
   "source": [
    "# Extraction, Transform, and Load\n",
    "\n",
    "ETL is a common necessity for data engineering and data processing pipelines.\n",
    "The source of the data may be other structured databases, unstructured data stores, data APIs, etc.\n",
    "\n",
    "ETL can be a simple data acquisition task, such as shown below."
   ]
  },
  {
   "cell_type": "markdown",
   "metadata": {},
   "source": [
    "![AutomatedDataAcquisition.png MISSING](../images/AutomatedDataAcquisition.png)"
   ]
  },
  {
   "cell_type": "markdown",
   "metadata": {},
   "source": [
    "**Or, it may be part of larger process to accumulated data and information in support of advanced analytical systems.**\n",
    "\n",
    "![AutomatedDataAcquisition_to_Analytics.png MISSING](../images/AutomatedDataAcquisition_to_Analytics.png)"
   ]
  },
  {
   "attachments": {},
   "cell_type": "markdown",
   "metadata": {},
   "source": [
    "---\n",
    "\n",
    "## In the context of ETL, you now have the tools to perform this activity.\n",
    "\n",
    "In the data loading lab, you read in three data files and then massaged the Panda data frame to prepare the data for loading and to understand the semantics of the data.\n",
    "You then loaded the database with data from the files.\n",
    "\n",
    "We just need to understand how to acquire data from a remote resource, such as the web or an API and process it with Pandas.\n",
    "\n",
    "Additionally, in this notebook we will see how to use the SQLAlchemy library to simplify data loading.\n",
    "\n",
    "## Tasks:\n",
    "\n",
    " **Consider**:\n",
    " + https://en.wikipedia.org/wiki/List_of_countries_by_population_(United_Nations)  \n",
    " \n",
    "In the cells below, \n",
    "\n",
    " 1. Define a table for information about the worlds countries.\n",
    " 1. Describe some challenges you foresee with the data\n",
    " 1. Review and modify code cells that pull down the data from the tables into a data frame\n",
    " 1. Load the data into your database\n",
    " 1. Test loaded data with SQL queries"
   ]
  },
  {
   "cell_type": "markdown",
   "metadata": {},
   "source": [
    "### 1. Define Tables"
   ]
  },
  {
   "cell_type": "raw",
   "metadata": {},
   "source": [
    "CREATE TABLE SSO.country_population (\n",
    "    country              varchar(100), -- Character String, varied length\n",
    "    region               varchar(100), \n",
    "    subregion            varchar(100), \n",
    "    population_2018      INT NOT NULL, -- Integer values\n",
    "    population_2019      INT NOT NULL,\n",
    "    population_change    REAL NOT NULL, -- Floating point number\n",
    "    CONSTRAINT pk_country_population\n",
    "     PRIMARY KEY (country)\n",
    ");\n"
   ]
  },
  {
   "cell_type": "markdown",
   "metadata": {},
   "source": [
    "### 2. Describe the challenges"
   ]
  },
  {
   "cell_type": "raw",
   "metadata": {},
   "source": [
    "## Add your answer in this cell\n",
    "## ----------------------------\n",
    "\n",
    "\n",
    "\n",
    "\n",
    "\n",
    "\n"
   ]
  },
  {
   "cell_type": "markdown",
   "metadata": {},
   "source": [
    "### 3. Data Scrapping Code"
   ]
  },
  {
   "cell_type": "code",
   "execution_count": null,
   "metadata": {},
   "outputs": [],
   "source": [
    "#import the library to query a website\n",
    "import requests\n",
    "# import Beautiful soup library to access functions to parse the data returned from the website\n",
    "from bs4 import BeautifulSoup\n",
    "\n"
   ]
  },
  {
   "cell_type": "code",
   "execution_count": null,
   "metadata": {},
   "outputs": [],
   "source": [
    "# specify the url\n",
    "url = \"https://en.wikipedia.org/wiki/List_of_countries_by_population_(United_Nations)\"\n",
    "# Open website URL and return the html to the variable 'response'\n",
    "response = requests.get(url)\n",
    "print(response.encoding)\n",
    "print(response)"
   ]
  },
  {
   "cell_type": "markdown",
   "metadata": {},
   "source": [
    "The response we get from web is typically html content. \n",
    "We can read the content of the server's response. \n",
    "Below, when a `BeautifulSoup` object is created from an html response, we explicitly reference the text format(`response.text`).\n",
    "\n",
    "The default encoding format is 'UTF-8' as shown below. \n",
    "\n",
    "[Click here for additional documentations about the response object.](http://docs.python-requests.org/en/master/user/quickstart/#response-content)\n",
    "\n"
   ]
  },
  {
   "cell_type": "code",
   "execution_count": null,
   "metadata": {},
   "outputs": [],
   "source": [
    "# Parse the html in the 'response' variable, and store it in Beautiful Soup format\n",
    "soup = BeautifulSoup(response.text, \"html\")"
   ]
  },
  {
   "cell_type": "markdown",
   "metadata": {},
   "source": [
    "### Inspect the page source to determine how you need to extract the tables into its own soup object.\n",
    "\n",
    "We see that the table tag has class settings of:\n",
    " * sortable \n",
    " * wikitable \n",
    " * jquery-tablesorter\n",
    " \n",
    "```HTML\n",
    "<table class=\"sortable wikitable jquery-tablesorter\">\n",
    "```\n",
    "\n",
    "We want to focus on the `wikitable`.  "
   ]
  },
  {
   "cell_type": "code",
   "execution_count": null,
   "metadata": {},
   "outputs": [],
   "source": [
    "# We can fetch all Tables with a find_all() \n",
    "all_tables=soup.find_all('table')\n",
    "print(type(all_tables))\n",
    "print(len(all_tables))\n",
    "\n",
    "\n",
    "# We can find_all this time and get the second occurrence, [1]\n",
    "right_table=soup.find_all('table', class_='wikitable')[1]\n",
    "print(type(right_table))"
   ]
  },
  {
   "cell_type": "markdown",
   "metadata": {},
   "source": [
    "#### Look at the first couple rows"
   ]
  },
  {
   "cell_type": "code",
   "execution_count": null,
   "metadata": {},
   "outputs": [],
   "source": [
    "first_two_rows = right_table.findAll(\"tr\")[0:2]\n",
    "\n",
    "print(\"Header\")\n",
    "print(\"-\"*30)\n",
    "print(first_two_rows[0])\n",
    "\n",
    "print(\"=\"*30)\n",
    "\n",
    "print(\"First Data row\")\n",
    "print(\"-\"*30)\n",
    "print(first_two_rows[1])\n"
   ]
  },
  {
   "cell_type": "markdown",
   "metadata": {},
   "source": [
    "The `Tag` element is the table.\n",
    "\n",
    "**Examining the HTML Table Header, we have these columns**\n",
    "\n",
    " * Country/Territory\n",
    " * UN continental region\n",
    " * UN statistical subregion\n",
    " * Population 2018\n",
    " * Population 2019\n",
    " * Change\n",
    "\n",
    "\n",
    "#### TODO: Replace all the `#?` with one or more lines or portions of code."
   ]
  },
  {
   "cell_type": "code",
   "execution_count": null,
   "metadata": {
    "scrolled": true
   },
   "outputs": [],
   "source": [
    "# We will use the locale library so we can use \n",
    "# atof and atoi to convert alphanumeric to float and integers, respectively.\n",
    "import locale\n",
    "locale.setlocale( locale.LC_ALL, 'en_US.UTF-8' ) \n",
    "\n",
    "country=[]\n",
    "region=[]\n",
    "subregion=[]\n",
    "population_2018=[]\n",
    "population_2019=[]\n",
    "population_change=[]\n",
    "\n",
    "\n",
    "# Notice we are skipping the head row in this table\n",
    "for row in right_table.findAll(\"tr\")[1:]: \n",
    "    # for each row, pull out the td elements.\n",
    "    cells = row.findAll('td') # To store all other details\n",
    "    \n",
    "    if len(cells)>2: # Only extract information if there is table body not heading\n",
    "        \n",
    "        # for the country name, we need to find the name (text) in the Country Hyperlink (a)\n",
    "        countr_cell = cells[0].find('a').find(text=True)\n",
    "        country.append(countr_cell)\n",
    "\n",
    "      \n",
    "         # for the region name, we need to find the name (text) in the Region Hyperlink (a)\n",
    "        region_text = cells[1].find('a').find(text=True)\n",
    "        region.append(\n",
    "            #?\n",
    "        )\n",
    "        \n",
    "         # for the subregion name, we need to find the name (text) in the Subregion Hyperlink (a)\n",
    "        subregion_text = #?\n",
    "        #?\n",
    "\n",
    "        print(\"Area: {},{},{}\".format(countr_cell,region_text,subregion_text))        \n",
    "\n",
    "        # Adjust the the data from Text to numeric data types for population\n",
    "        #?\n",
    "        #?\n",
    "        \n",
    "        \n",
    "        change_pull = cells[5].find(text=True)\n",
    "        print(change_pull)\n",
    "        \n",
    "        # Note the mdash character in the table needs changed \n",
    "        # to a regular dash to be parsed as a negative value\n",
    "        numeric_string_pop = #?\n",
    "        population_change.append(\n",
    "                            locale.atof(numeric_string_pop)\n",
    "                            )\n",
    "    "
   ]
  },
  {
   "cell_type": "markdown",
   "metadata": {},
   "source": [
    "##### Now that we have built all our columns, stack into a data frame!"
   ]
  },
  {
   "cell_type": "code",
   "execution_count": null,
   "metadata": {},
   "outputs": [],
   "source": [
    "import pandas as pd\n",
    "\n",
    "# Note, in the table definition about, we listed \n",
    "# the country name first to use as a primary key\n",
    "df=pd.DataFrame({\n",
    "                    #?\n",
    "                })\n"
   ]
  },
  {
   "cell_type": "code",
   "execution_count": null,
   "metadata": {},
   "outputs": [],
   "source": [
    "df.head()"
   ]
  },
  {
   "cell_type": "code",
   "execution_count": null,
   "metadata": {},
   "outputs": [],
   "source": [
    "df.tail()"
   ]
  },
  {
   "cell_type": "markdown",
   "metadata": {},
   "source": [
    "### Check our column data types!\n",
    "Does this match the data types we sketched out in the `CREATE TABLE` statement above?\n",
    "If you need to adjust the definition, this would be the time.\n",
    "Alternatively, we can adjust the columns using Pandas techniques."
   ]
  },
  {
   "cell_type": "code",
   "execution_count": null,
   "metadata": {},
   "outputs": [],
   "source": [
    "df.dtypes"
   ]
  },
  {
   "cell_type": "markdown",
   "metadata": {},
   "source": [
    "Once we have our Panda data frame and the SQL table inline, we can load it into the database.\n",
    "\n",
    "---"
   ]
  },
  {
   "cell_type": "markdown",
   "metadata": {},
   "source": [
    "### 4. Load the data into your database\n",
    "\n",
    "This time, instead of the manual loading, we are going to use the SQLAlchemy library.\n"
   ]
  },
  {
   "cell_type": "code",
   "execution_count": null,
   "metadata": {},
   "outputs": [],
   "source": [
    "import getpass\n",
    "mypasswd = getpass.getpass()\n",
    "username = #?\n",
    "host = 'pgsql.dsa.lan'\n",
    "database = 'dsa_student'"
   ]
  },
  {
   "cell_type": "code",
   "execution_count": null,
   "metadata": {},
   "outputs": [],
   "source": [
    "# Then connects to the DB\n",
    "from sqlalchemy.engine.url import URL\n",
    "from sqlalchemy import create_engine\n",
    "\n",
    "# SQLAlchemy Connection Parameters\n",
    "postgres_db = {'drivername': 'postgres',\n",
    "               'username': username,\n",
    "               'password': mypasswd,\n",
    "               'host': host,\n",
    "               'database' :database}\n",
    "engine = create_engine(URL(**postgres_db), echo=True)\n",
    "\n"
   ]
  },
  {
   "cell_type": "markdown",
   "metadata": {},
   "source": [
    "#### When you run the cell below, carefully examine the output so you see what the SQLAlchemy library is doing!"
   ]
  },
  {
   "cell_type": "code",
   "execution_count": null,
   "metadata": {},
   "outputs": [],
   "source": [
    "\n",
    "## Now that SQLAlchemy is loaded, the to_sql function\n",
    "df.to_sql('country_population', # The table to load\n",
    "          engine,             # The engine created above\n",
    "          schema= username,   # The schema where the table lives, our pawprint\n",
    "          if_exists='append', # If the table is found, it would keep loading the end of table.\n",
    "          index=False,        # Recall that panda data frame has a row index, so we need to ignore it\n",
    "          chunksize=50)       # Do 50 records from the data frame at a time\n"
   ]
  },
  {
   "cell_type": "markdown",
   "metadata": {},
   "source": [
    "### 5. Test loaded data with SQL queries"
   ]
  },
  {
   "cell_type": "markdown",
   "metadata": {},
   "source": [
    "\n",
    "\n",
    "```SQL\n",
    "\\x\n",
    "select * from SSO.country_population limit 2;\n",
    "```\n",
    "\n",
    "---\n",
    "\n",
    "#### TODO: Run the SQL in your database to verify the data was loaded.\n",
    "\n",
    "If the data was not loaded, please restart from the top and carefully check and redo each step.\n"
   ]
  },
  {
   "cell_type": "raw",
   "metadata": {},
   "source": [
    "### Add the result of your query into the block\n",
    "\n",
    "\n",
    "\n",
    "\n",
    "\n",
    "\n",
    "\n",
    "\n",
    "\n",
    "\n"
   ]
  },
  {
   "cell_type": "markdown",
   "metadata": {},
   "source": [
    "\n",
    "#### Now that the data is loaded, let's pull it back out!\n",
    "\n",
    "\n",
    "\n"
   ]
  },
  {
   "cell_type": "code",
   "execution_count": null,
   "metadata": {},
   "outputs": [],
   "source": [
    "df_backout = pd.read_sql_table(\n",
    "    'country_population',\n",
    "    con = engine,             # The engine created above\n",
    "    schema= username   # The schema where the table lives, our pawprint\n",
    ")"
   ]
  },
  {
   "cell_type": "code",
   "execution_count": null,
   "metadata": {},
   "outputs": [],
   "source": [
    "df_backout.head(10)"
   ]
  },
  {
   "cell_type": "code",
   "execution_count": null,
   "metadata": {},
   "outputs": [],
   "source": [
    "df_backout.tail(10)"
   ]
  },
  {
   "cell_type": "markdown",
   "metadata": {},
   "source": [
    "# Save your notebook, then `File > Close and Halt`"
   ]
  },
  {
   "cell_type": "markdown",
   "metadata": {},
   "source": [
    "---"
   ]
  }
 ],
 "metadata": {
  "kernelspec": {
   "display_name": "Python 3",
   "language": "python",
   "name": "python3"
  },
  "language_info": {
   "codemirror_mode": {
    "name": "ipython",
    "version": 3
   },
   "file_extension": ".py",
   "mimetype": "text/x-python",
   "name": "python",
   "nbconvert_exporter": "python",
   "pygments_lexer": "ipython3",
   "version": "3.7.3"
  }
 },
 "nbformat": 4,
 "nbformat_minor": 2
}
