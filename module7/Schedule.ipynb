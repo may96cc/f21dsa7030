{
 "cells": [
  {
   "cell_type": "markdown",
   "metadata": {},
   "source": [
    "# Module 7: Normalization and Final Project Preparation"
   ]
  },
  {
   "cell_type": "markdown",
   "metadata": {},
   "source": [
    "## Topics covered\n",
    "* Normalization\n",
    " * Why redundancy is an issue? What is afunctional dependency?\n",
    " * What is a functional dependency?\n",
    " * What are potential anomalies (INSERT, UPDATE, and DELETE)?\n",
    " * Table decompositions into BCNF\n",
    " * Normal forms – BCNF and 3rd Normal Form \n",
    "* Final Project Data Acquisition & Analysis\n",
    "* Final Project Database Design\n",
    "\n"
   ]
  },
  {
   "cell_type": "markdown",
   "metadata": {},
   "source": [
    "## Readings and Video Viewing\n",
    "\n",
    "### Normalization\n",
    "\n",
    "#### [Lecture Slides -1] (https://umsystem.instructure.com/courses/8151/files/7165243?module_item_id=3493578)\n",
    "#### [Video for Lecture 1] (https://umsystem.instructure.com/courses/8151/modules/items/3493579)\n",
    "\n",
    "#### [Lecture Slides -2] (https://umsystem.instructure.com/courses/8151/files/7165246?module_item_id=3493580)\n",
    "#### [Video for Lecture 2] (https://umsystem.instructure.com/courses/8151/modules/items/3493579) "
   ]
  },
  {
   "cell_type": "markdown",
   "metadata": {},
   "source": [
    "## Discussions\n",
    "[From the Chicago crime data set to be used in your final project (see project description), what do you see potential functional dependencies? Share your suggestions to decompose the original table into multiple tables.](https://umsystem.instructure.com/courses/8151/discussion_topics/903337)"
   ]
  },
  {
   "cell_type": "markdown",
   "metadata": {},
   "source": [
    "\n",
    "## Exercises\n",
    "\n",
    " * [Experiencing anomalies of un-normalized database](./exercises/TasteOfAnomaliesNF.ipynb)\n",
    "\n",
    "---"
   ]
  },
  {
   "cell_type": "markdown",
   "metadata": {},
   "source": [
    "## Final Project Preparation \n",
    "\n",
    " * [Chicago Crime Data Final Project Part 1](./final_project/Final-Project-Part-I.ipynb)\n"
   ]
  },
  {
   "cell_type": "markdown",
   "metadata": {},
   "source": [
    "## Submitting  work\n",
    "\n",
    "**Note**: we are submitting only exercise and final project preparation this week.\n",
    "\n",
    "#### Steps:\n",
    "  1. Open Terminal in JupyterHub\n",
    "  1. Change into the course folder  \n",
    "  1. Stage (Git Add) the module's exercise work   \n",
    "  `git  add modules/module7/labs  modules/module7/practices modules/module7/exercises`\n",
    "  1. Create your work snapshot (Git Commit)  \n",
    "  `git   commit   -m   \"Module 7 submission\"`\n",
    "  1. Upload the snapshot to the server (Git Push)  \n",
    "  `git   push`\n"
   ]
  }
 ],
 "metadata": {
  "kernelspec": {
   "display_name": "Python 3",
   "language": "python",
   "name": "python3"
  },
  "language_info": {
   "codemirror_mode": {
    "name": "ipython",
    "version": 3
   },
   "file_extension": ".py",
   "mimetype": "text/x-python",
   "name": "python",
   "nbconvert_exporter": "python",
   "pygments_lexer": "ipython3",
   "version": "3.7.3"
  }
 },
 "nbformat": 4,
 "nbformat_minor": 2
}
