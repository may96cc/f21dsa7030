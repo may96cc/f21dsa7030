{
 "cells": [
  {
   "cell_type": "markdown",
   "metadata": {},
   "source": [
    "# Experiencing anomalies of un-normalized database\n",
    "\n",
    "### For each cell, please writing down your SQL statements as requested."
   ]
  },
  {
   "cell_type": "markdown",
   "metadata": {},
   "source": [
    "### Creating an Employees table that has the same schema as Slide #2 of Lecture Slides-1. \n",
    "\n",
    "(S:SSN, N: Name, L: Lot number, R: Rating, W: Wage, H: Hourly_worked); Primary key is SSN. "
   ]
  },
  {
   "cell_type": "code",
   "execution_count": 4,
   "metadata": {},
   "outputs": [
    {
     "name": "stdout",
     "output_type": "stream",
     "text": [
      "········\n"
     ]
    }
   ],
   "source": [
    "import getpass\n",
    "# This collects a masked password from the user\n",
    "mypasswd = getpass.getpass()"
   ]
  },
  {
   "cell_type": "code",
   "execution_count": 96,
   "metadata": {},
   "outputs": [],
   "source": [
    "# List your SQL statement for table creation here \n",
    "import psycopg2 \n",
    "import numpy as np \n",
    "import pandas as pd \n",
    "from psycopg2.extensions import adapt, register_adapter, AsIs\n",
    "\n",
    "connection = psycopg2.connect(database = 'dsa_student', \n",
    "                              user = 'may96c', \n",
    "                              host = 'pgsql.dsa.lan',\n",
    "                              password = mypasswd)\n",
    "\n",
    "cursor = connection.cursor()\n"
   ]
  },
  {
   "cell_type": "code",
   "execution_count": 7,
   "metadata": {},
   "outputs": [],
   "source": [
    "sqlCreateTable = \"\"\"\n",
    "CREATE TABLE IF NOT EXISTS may96c.employees (\n",
    "    S VARCHAR PRIMARY KEY, \n",
    "    N VARCHAR,\n",
    "    L INT ,\n",
    "    R INT ,\n",
    "    W INT ,\n",
    "    H INT) ; \"\"\"\n",
    "    \n",
    "    \n",
    "cursor.execute(sqlCreateTable)\n",
    "\n",
    "connection.commit()"
   ]
  },
  {
   "cell_type": "markdown",
   "metadata": {},
   "source": [
    "### Insert 20 tuples that have even distributions of ratings from 1 to 5.\n",
    "\n",
    "The only company policy provided by your client is \"employees have the same rating should have the same wage.\"\n",
    "\n",
    "Show all tuples and sort them based on rating in ascending order.\n"
   ]
  },
  {
   "cell_type": "code",
   "execution_count": 29,
   "metadata": {},
   "outputs": [
    {
     "data": {
      "text/html": [
       "<div>\n",
       "<style scoped>\n",
       "    .dataframe tbody tr th:only-of-type {\n",
       "        vertical-align: middle;\n",
       "    }\n",
       "\n",
       "    .dataframe tbody tr th {\n",
       "        vertical-align: top;\n",
       "    }\n",
       "\n",
       "    .dataframe thead th {\n",
       "        text-align: right;\n",
       "    }\n",
       "</style>\n",
       "<table border=\"1\" class=\"dataframe\">\n",
       "  <thead>\n",
       "    <tr style=\"text-align: right;\">\n",
       "      <th></th>\n",
       "      <th>S</th>\n",
       "      <th>N</th>\n",
       "      <th>L</th>\n",
       "      <th>R</th>\n",
       "      <th>W</th>\n",
       "      <th>H</th>\n",
       "    </tr>\n",
       "  </thead>\n",
       "  <tbody>\n",
       "    <tr>\n",
       "      <th>0</th>\n",
       "      <td>111-11-1111</td>\n",
       "      <td>mary</td>\n",
       "      <td>33</td>\n",
       "      <td>1</td>\n",
       "      <td>10</td>\n",
       "      <td>30</td>\n",
       "    </tr>\n",
       "    <tr>\n",
       "      <th>1</th>\n",
       "      <td>222-22-2222</td>\n",
       "      <td>amy</td>\n",
       "      <td>33</td>\n",
       "      <td>1</td>\n",
       "      <td>10</td>\n",
       "      <td>30</td>\n",
       "    </tr>\n",
       "    <tr>\n",
       "      <th>2</th>\n",
       "      <td>333-33-3333</td>\n",
       "      <td>john</td>\n",
       "      <td>33</td>\n",
       "      <td>1</td>\n",
       "      <td>10</td>\n",
       "      <td>30</td>\n",
       "    </tr>\n",
       "    <tr>\n",
       "      <th>3</th>\n",
       "      <td>444-44-4444</td>\n",
       "      <td>dana</td>\n",
       "      <td>34</td>\n",
       "      <td>1</td>\n",
       "      <td>10</td>\n",
       "      <td>30</td>\n",
       "    </tr>\n",
       "    <tr>\n",
       "      <th>4</th>\n",
       "      <td>555-55-5555</td>\n",
       "      <td>ian</td>\n",
       "      <td>34</td>\n",
       "      <td>2</td>\n",
       "      <td>11</td>\n",
       "      <td>31</td>\n",
       "    </tr>\n",
       "    <tr>\n",
       "      <th>5</th>\n",
       "      <td>666-66-6666</td>\n",
       "      <td>erin</td>\n",
       "      <td>34</td>\n",
       "      <td>2</td>\n",
       "      <td>11</td>\n",
       "      <td>31</td>\n",
       "    </tr>\n",
       "    <tr>\n",
       "      <th>6</th>\n",
       "      <td>777-77-7777</td>\n",
       "      <td>alicia</td>\n",
       "      <td>35</td>\n",
       "      <td>2</td>\n",
       "      <td>11</td>\n",
       "      <td>31</td>\n",
       "    </tr>\n",
       "    <tr>\n",
       "      <th>7</th>\n",
       "      <td>888-88-8888</td>\n",
       "      <td>stephanie</td>\n",
       "      <td>35</td>\n",
       "      <td>2</td>\n",
       "      <td>11</td>\n",
       "      <td>31</td>\n",
       "    </tr>\n",
       "    <tr>\n",
       "      <th>8</th>\n",
       "      <td>999-99-9999</td>\n",
       "      <td>adam</td>\n",
       "      <td>35</td>\n",
       "      <td>3</td>\n",
       "      <td>12</td>\n",
       "      <td>32</td>\n",
       "    </tr>\n",
       "    <tr>\n",
       "      <th>9</th>\n",
       "      <td>111-11-1112</td>\n",
       "      <td>gary</td>\n",
       "      <td>36</td>\n",
       "      <td>3</td>\n",
       "      <td>12</td>\n",
       "      <td>32</td>\n",
       "    </tr>\n",
       "    <tr>\n",
       "      <th>10</th>\n",
       "      <td>222-22-2223</td>\n",
       "      <td>mason</td>\n",
       "      <td>36</td>\n",
       "      <td>3</td>\n",
       "      <td>12</td>\n",
       "      <td>32</td>\n",
       "    </tr>\n",
       "    <tr>\n",
       "      <th>11</th>\n",
       "      <td>333-33-3334</td>\n",
       "      <td>colin</td>\n",
       "      <td>36</td>\n",
       "      <td>3</td>\n",
       "      <td>12</td>\n",
       "      <td>32</td>\n",
       "    </tr>\n",
       "    <tr>\n",
       "      <th>12</th>\n",
       "      <td>444-44-4445</td>\n",
       "      <td>jerry</td>\n",
       "      <td>37</td>\n",
       "      <td>4</td>\n",
       "      <td>13</td>\n",
       "      <td>33</td>\n",
       "    </tr>\n",
       "    <tr>\n",
       "      <th>13</th>\n",
       "      <td>555-55-5556</td>\n",
       "      <td>roger</td>\n",
       "      <td>37</td>\n",
       "      <td>4</td>\n",
       "      <td>13</td>\n",
       "      <td>33</td>\n",
       "    </tr>\n",
       "    <tr>\n",
       "      <th>14</th>\n",
       "      <td>777-77-7778</td>\n",
       "      <td>jesse</td>\n",
       "      <td>37</td>\n",
       "      <td>4</td>\n",
       "      <td>13</td>\n",
       "      <td>33</td>\n",
       "    </tr>\n",
       "    <tr>\n",
       "      <th>15</th>\n",
       "      <td>888-88-8889</td>\n",
       "      <td>cody</td>\n",
       "      <td>38</td>\n",
       "      <td>4</td>\n",
       "      <td>13</td>\n",
       "      <td>33</td>\n",
       "    </tr>\n",
       "    <tr>\n",
       "      <th>16</th>\n",
       "      <td>999-99-9991</td>\n",
       "      <td>cara</td>\n",
       "      <td>38</td>\n",
       "      <td>5</td>\n",
       "      <td>14</td>\n",
       "      <td>40</td>\n",
       "    </tr>\n",
       "    <tr>\n",
       "      <th>17</th>\n",
       "      <td>101-11-1010</td>\n",
       "      <td>kim</td>\n",
       "      <td>39</td>\n",
       "      <td>5</td>\n",
       "      <td>14</td>\n",
       "      <td>40</td>\n",
       "    </tr>\n",
       "    <tr>\n",
       "      <th>18</th>\n",
       "      <td>101-11-1011</td>\n",
       "      <td>kenny</td>\n",
       "      <td>40</td>\n",
       "      <td>5</td>\n",
       "      <td>14</td>\n",
       "      <td>40</td>\n",
       "    </tr>\n",
       "    <tr>\n",
       "      <th>19</th>\n",
       "      <td>454-44-5555</td>\n",
       "      <td>jim</td>\n",
       "      <td>41</td>\n",
       "      <td>5</td>\n",
       "      <td>14</td>\n",
       "      <td>40</td>\n",
       "    </tr>\n",
       "  </tbody>\n",
       "</table>\n",
       "</div>"
      ],
      "text/plain": [
       "              S          N   L  R   W   H\n",
       "0   111-11-1111       mary  33  1  10  30\n",
       "1   222-22-2222        amy  33  1  10  30\n",
       "2   333-33-3333       john  33  1  10  30\n",
       "3   444-44-4444       dana  34  1  10  30\n",
       "4   555-55-5555        ian  34  2  11  31\n",
       "5   666-66-6666       erin  34  2  11  31\n",
       "6   777-77-7777     alicia  35  2  11  31\n",
       "7   888-88-8888  stephanie  35  2  11  31\n",
       "8   999-99-9999       adam  35  3  12  32\n",
       "9   111-11-1112       gary  36  3  12  32\n",
       "10  222-22-2223      mason  36  3  12  32\n",
       "11  333-33-3334      colin  36  3  12  32\n",
       "12  444-44-4445      jerry  37  4  13  33\n",
       "13  555-55-5556      roger  37  4  13  33\n",
       "14  777-77-7778      jesse  37  4  13  33\n",
       "15  888-88-8889       cody  38  4  13  33\n",
       "16  999-99-9991       cara  38  5  14  40\n",
       "17  101-11-1010        kim  39  5  14  40\n",
       "18  101-11-1011      kenny  40  5  14  40\n",
       "19  454-44-5555        jim  41  5  14  40"
      ]
     },
     "execution_count": 29,
     "metadata": {},
     "output_type": "execute_result"
    }
   ],
   "source": [
    "# List your SQL statements for INSERT and list all tuples\n",
    "\n",
    "data = {'S':['111-11-1111','222-22-2222','333-33-3333','444-44-4444','555-55-5555','666-66-6666','777-77-7777','888-88-8888','999-99-9999','111-11-1112','222-22-2223','333-33-3334','444-44-4445','555-55-5556','777-77-7778','888-88-8889','999-99-9991','101-11-1010','101-11-1011','454-44-5555'],'N':['mary', 'amy', 'john', 'dana', 'ian', 'erin', 'alicia', 'stephanie', 'adam', 'gary', 'mason', 'colin', 'jerry', 'roger', 'jesse', 'cody', 'cara', 'kim', 'kenny', 'jim'],'L':[33,33,33,34,34,34,35,35,35,36,36,36,37,37,37,38,38,39,40,41],'R':[1,1,1,1,2,2,2,2,3,3,3,3,4,4,4,4,5,5,5,5],'W':[10,10,10,10,11,11,11,11,12,12,12,12,13,13,13,13,14,14,14,14],'H':[30,30,30,30,31,31,31,31,32,32,32,32,33,33,33,33,40,40,40,40]}\n",
    "df = pd.DataFrame(data)\n",
    "df"
   ]
  },
  {
   "cell_type": "code",
   "execution_count": 30,
   "metadata": {},
   "outputs": [
    {
     "name": "stdout",
     "output_type": "stream",
     "text": [
      "['S', 'N', 'L', 'R', 'W', 'H']\n",
      "%s,%s,%s,%s,%s,%s,\n"
     ]
    }
   ],
   "source": [
    "print(list(df))\n",
    "s = ''\n",
    "for i in list(df):\n",
    "    s += '%s,'\n",
    "print(s)"
   ]
  },
  {
   "cell_type": "code",
   "execution_count": 33,
   "metadata": {},
   "outputs": [],
   "source": [
    "register_adapter(np.int64,AsIs)\n",
    "register_adapter(np.float64,AsIs)\n",
    "\n",
    "\n",
    "# Note, we leave out the sequential counter.  \n",
    "# Review the table definition above for the default value\n",
    "INSERT_SQL = 'INSERT INTO may96c.employees '\n",
    "INSERT_SQL += ' (S, N, L, R, W, H) VALUES '\n",
    "\n",
    "# this is a parameterized string for SQL, the %s are placeholders\n",
    "# this prevents SQL-Injection attacks on the code\n",
    "# https://en.wikipedia.org/wiki/SQL_injection\n",
    "INSERT_SQL += '(%s,%s,%s,%s,%s,%s)'\n",
    "\n",
    "\n",
    "with connection, connection.cursor() as cursor:\n",
    "    for row in df.itertuples(index=False, name=None): \n",
    "    \n",
    "    \n",
    "        cursor.execute(INSERT_SQL,row)"
   ]
  },
  {
   "cell_type": "code",
   "execution_count": 37,
   "metadata": {},
   "outputs": [
    {
     "data": {
      "text/plain": [
       "[('111-11-1111', 'mary', 33, 1, 10, 30),\n",
       " ('222-22-2222', 'amy', 33, 1, 10, 30),\n",
       " ('333-33-3333', 'john', 33, 1, 10, 30),\n",
       " ('444-44-4444', 'dana', 34, 1, 10, 30),\n",
       " ('555-55-5555', 'ian', 34, 2, 11, 31),\n",
       " ('666-66-6666', 'erin', 34, 2, 11, 31),\n",
       " ('777-77-7777', 'alicia', 35, 2, 11, 31),\n",
       " ('888-88-8888', 'stephanie', 35, 2, 11, 31),\n",
       " ('999-99-9999', 'adam', 35, 3, 12, 32),\n",
       " ('111-11-1112', 'gary', 36, 3, 12, 32),\n",
       " ('222-22-2223', 'mason', 36, 3, 12, 32),\n",
       " ('333-33-3334', 'colin', 36, 3, 12, 32),\n",
       " ('444-44-4445', 'jerry', 37, 4, 13, 33),\n",
       " ('555-55-5556', 'roger', 37, 4, 13, 33),\n",
       " ('777-77-7778', 'jesse', 37, 4, 13, 33),\n",
       " ('888-88-8889', 'cody', 38, 4, 13, 33),\n",
       " ('999-99-9991', 'cara', 38, 5, 14, 40),\n",
       " ('101-11-1010', 'kim', 39, 5, 14, 40),\n",
       " ('101-11-1011', 'kenny', 40, 5, 14, 40),\n",
       " ('454-44-5555', 'jim', 41, 5, 14, 40)]"
      ]
     },
     "execution_count": 37,
     "metadata": {},
     "output_type": "execute_result"
    }
   ],
   "source": [
    "alll = 'SELECT * FROM may96c.employees'\n",
    "cursor.execute(alll)\n",
    "cursor.fetchall()"
   ]
  },
  {
   "cell_type": "markdown",
   "metadata": {},
   "source": [
    "### Copy this Employees Table to Keep_Employees Table .\n",
    "\n",
    "Hint: Using CREATE TABLE new_table AS SELECT * FROM original_table;"
   ]
  },
  {
   "cell_type": "code",
   "execution_count": 36,
   "metadata": {},
   "outputs": [],
   "source": [
    "# SQL Statement\n",
    "\n",
    "sqlCreateTable1 = \"\"\" CREATE TABLE may96c.Keep_Employees AS SELECT * FROM may96c.employees \"\"\"\n",
    "    \n",
    "    \n",
    "cursor.execute(sqlCreateTable1)\n",
    "\n",
    "connection.commit()\n",
    "\n"
   ]
  },
  {
   "cell_type": "markdown",
   "metadata": {},
   "source": [
    "### Task 1: Use UPDATE statement on the original table (Employees) to give a raise to an employee to a new and extremely high wage. Assuming this wage is much higher than the max wage you have in the database.\n",
    "\n",
    "* List the tuples again based on ratings (ascending order) and comment on whether or not the company policy has been preserved. What could be UPDATE anomalies you experience here."
   ]
  },
  {
   "cell_type": "code",
   "execution_count": 42,
   "metadata": {},
   "outputs": [],
   "source": [
    "# SQL statement\n",
    "\n",
    "up = '''UPDATE may96c.employees SET W = 30 WHERE S = '454-44-5555';'''\n",
    "cursor.execute(up)\n",
    "\n",
    "connection.commit()\n"
   ]
  },
  {
   "cell_type": "code",
   "execution_count": 43,
   "metadata": {},
   "outputs": [
    {
     "data": {
      "text/plain": [
       "[('111-11-1111', 'mary', 33, 1, 10, 30),\n",
       " ('222-22-2222', 'amy', 33, 1, 10, 30),\n",
       " ('333-33-3333', 'john', 33, 1, 10, 30),\n",
       " ('444-44-4444', 'dana', 34, 1, 10, 30),\n",
       " ('555-55-5555', 'ian', 34, 2, 11, 31),\n",
       " ('666-66-6666', 'erin', 34, 2, 11, 31),\n",
       " ('777-77-7777', 'alicia', 35, 2, 11, 31),\n",
       " ('888-88-8888', 'stephanie', 35, 2, 11, 31),\n",
       " ('999-99-9999', 'adam', 35, 3, 12, 32),\n",
       " ('111-11-1112', 'gary', 36, 3, 12, 32),\n",
       " ('222-22-2223', 'mason', 36, 3, 12, 32),\n",
       " ('333-33-3334', 'colin', 36, 3, 12, 32),\n",
       " ('444-44-4445', 'jerry', 37, 4, 13, 33),\n",
       " ('555-55-5556', 'roger', 37, 4, 13, 33),\n",
       " ('777-77-7778', 'jesse', 37, 4, 13, 33),\n",
       " ('888-88-8889', 'cody', 38, 4, 13, 33),\n",
       " ('999-99-9991', 'cara', 38, 5, 14, 40),\n",
       " ('101-11-1010', 'kim', 39, 5, 14, 40),\n",
       " ('101-11-1011', 'kenny', 40, 5, 14, 40),\n",
       " ('454-44-5555', 'jim', 41, 5, 30, 40)]"
      ]
     },
     "execution_count": 43,
     "metadata": {},
     "output_type": "execute_result"
    }
   ],
   "source": [
    "# Add your comments\n",
    "\n",
    "all2 = 'SELECT * FROM may96c.employees ORDER BY R ASC'\n",
    "cursor.execute(all2)\n",
    "cursor.fetchall()"
   ]
  },
  {
   "cell_type": "code",
   "execution_count": null,
   "metadata": {},
   "outputs": [],
   "source": [
    "print('company policy is not being preserved here as individuals with the same rating are not receiving the same pay, this anomoly is the result of the partial update we executed ')"
   ]
  },
  {
   "cell_type": "markdown",
   "metadata": {},
   "source": [
    "### Task 2: Use INSERT statement on the original table (Employees) for two new employees. One follows the company policy to assign known wage and rating pair. The other is assigned a rating \"5\" but with a NULL value for the wage - the hiring manager has not decided the wage yet.  \n",
    "\n",
    "* List the tuples again based on ratings (ascending order) and comment on whether or not the company policy has been preserved. What could be INSERT anomalies you experience here."
   ]
  },
  {
   "cell_type": "code",
   "execution_count": 45,
   "metadata": {},
   "outputs": [],
   "source": [
    "# SQL statement\n",
    "\n",
    "\n",
    "up = '''INSERT INTO may96c.employees (S,N,L,R,W,H) VALUES ('818-18-8181', 'tim', 34, 4, 13, 31)'''\n",
    "cursor.execute(up)\n",
    "\n",
    "connection.commit()\n",
    "\n",
    "\n"
   ]
  },
  {
   "cell_type": "code",
   "execution_count": 46,
   "metadata": {},
   "outputs": [],
   "source": [
    "upu = '''INSERT INTO may96c.employees (S,N,L,R,H) VALUES ('818-18-8182', 'liz', 34, 5, 31)'''\n",
    "cursor.execute(upu)\n",
    "\n",
    "connection.commit()"
   ]
  },
  {
   "cell_type": "code",
   "execution_count": 47,
   "metadata": {},
   "outputs": [
    {
     "data": {
      "text/plain": [
       "[('222-22-2222', 'amy', 33, 1, 10, 30),\n",
       " ('333-33-3333', 'john', 33, 1, 10, 30),\n",
       " ('444-44-4444', 'dana', 34, 1, 10, 30),\n",
       " ('111-11-1111', 'mary', 33, 1, 10, 30),\n",
       " ('555-55-5555', 'ian', 34, 2, 11, 31),\n",
       " ('666-66-6666', 'erin', 34, 2, 11, 31),\n",
       " ('777-77-7777', 'alicia', 35, 2, 11, 31),\n",
       " ('888-88-8888', 'stephanie', 35, 2, 11, 31),\n",
       " ('333-33-3334', 'colin', 36, 3, 12, 32),\n",
       " ('999-99-9999', 'adam', 35, 3, 12, 32),\n",
       " ('111-11-1112', 'gary', 36, 3, 12, 32),\n",
       " ('222-22-2223', 'mason', 36, 3, 12, 32),\n",
       " ('777-77-7778', 'jesse', 37, 4, 13, 33),\n",
       " ('888-88-8889', 'cody', 38, 4, 13, 33),\n",
       " ('555-55-5556', 'roger', 37, 4, 13, 33),\n",
       " ('818-18-8181', 'tim', 34, 4, 13, 31),\n",
       " ('444-44-4445', 'jerry', 37, 4, 13, 33),\n",
       " ('818-18-8182', 'liz', 34, 5, None, 31),\n",
       " ('999-99-9991', 'cara', 38, 5, 14, 40),\n",
       " ('101-11-1010', 'kim', 39, 5, 14, 40),\n",
       " ('101-11-1011', 'kenny', 40, 5, 14, 40),\n",
       " ('454-44-5555', 'jim', 41, 5, 30, 40)]"
      ]
     },
     "execution_count": 47,
     "metadata": {},
     "output_type": "execute_result"
    }
   ],
   "source": [
    "# Add your comments\n",
    "\n",
    "\n",
    "all3 = 'SELECT * FROM may96c.employees ORDER BY R ASC'\n",
    "cursor.execute(all3)\n",
    "cursor.fetchall()\n"
   ]
  },
  {
   "cell_type": "code",
   "execution_count": 48,
   "metadata": {},
   "outputs": [
    {
     "name": "stdout",
     "output_type": "stream",
     "text": [
      "once again, company policy was not upheld, as the wage should be the same for all company employees, but we can see that the entry liz, is not assaigned a wage despite being assaigned a rating. \n"
     ]
    }
   ],
   "source": [
    "print('once again, company policy was not upheld, as the wage should be the same for all company employees, but we can see that the entry liz, is not assaigned a wage despite being assaigned a rating. ')"
   ]
  },
  {
   "cell_type": "markdown",
   "metadata": {},
   "source": [
    "### Task 3: Use DELETE statement on the original table (Employees) for all employees from the lowest rating due to performance issues.   \n",
    "\n",
    "* List the tuples again based on ratings (ascending order) and comment on whether or not the company policy has been preserved. What could be DELETE anomalies you experience here.\n",
    "\n",
    "### Use INSERT statement on the original table (Employees) to add a new employee who will take the lowest rating (you just deleted) with the wage associating with that rating.\n",
    "\n",
    "* Without looking at the Keep_Employees table, do you still remember the original wage for the lowest rating from the initial table?\n"
   ]
  },
  {
   "cell_type": "code",
   "execution_count": 52,
   "metadata": {},
   "outputs": [],
   "source": [
    "# SQL statemen\n",
    "\n",
    "dele = 'DELETE FROM may96c.employees WHERE R = 1' \n",
    "\n",
    "cursor.execute(dele)\n",
    "\n",
    "connection.commit()"
   ]
  },
  {
   "cell_type": "code",
   "execution_count": 53,
   "metadata": {},
   "outputs": [
    {
     "name": "stdout",
     "output_type": "stream",
     "text": [
      "how will we know the wage associated with rating 1\n"
     ]
    }
   ],
   "source": [
    "print('how will we know the wage associated with rating 1')"
   ]
  },
  {
   "cell_type": "code",
   "execution_count": 55,
   "metadata": {},
   "outputs": [],
   "source": [
    "# Add your comments\n",
    "ins = '''INSERT INTO may96c.employees (S,N,L,R,W,H) VALUES ('454-45-4545', 'bob', 33, 1, 9, 35)'''\n",
    " \n",
    "\n",
    "cursor.execute(ins)\n",
    "\n",
    "connection.commit()\n"
   ]
  },
  {
   "cell_type": "code",
   "execution_count": 56,
   "metadata": {},
   "outputs": [
    {
     "name": "stdout",
     "output_type": "stream",
     "text": [
      "i unfortunately did not remember the wage that was supposed to be for employees with a rating of 1\n"
     ]
    }
   ],
   "source": [
    "print('i unfortunately did not remember the wage that was supposed to be for employees with a rating of 1')"
   ]
  },
  {
   "cell_type": "markdown",
   "metadata": {},
   "source": [
    "### Now you have experienced the anomalies due to redundancy and functional dependency (Rating -> Wage)\n",
    "\n",
    "\n",
    "\n",
    "## Solutions via table decomposition\n",
    "\n",
    "### Let's decompose the Keep_Employees table into two - which two?\n",
    "\n",
    "* CREATE these two tables and make sure primary keys are properly assigned to each table. There will be one foreign key constraint. Of course we need to populate tuples to these two tables using SQL statements (no manual way, please.)\n",
    "\n",
    "* List the tuples from both tables based on ratings (ascending order) and comment on the numbers of tuples of these two tables.\n"
   ]
  },
  {
   "cell_type": "code",
   "execution_count": 58,
   "metadata": {},
   "outputs": [],
   "source": [
    "# SQL statement\n",
    "create1 = '''CREATE TABLE may96c.keep_employees_RW (\n",
    "R int PRIMARY KEY,\n",
    "W int \n",
    ");'''\n",
    "\n",
    "\n",
    "cursor.execute(create1)\n",
    "\n",
    "connection.commit()\n"
   ]
  },
  {
   "cell_type": "code",
   "execution_count": 59,
   "metadata": {},
   "outputs": [],
   "source": [
    "create2 = '''CREATE TABLE may96c.keep_employees_SNLRH ( \n",
    "S VARCHAR PRIMARY KEY,\n",
    "N varchar,\n",
    "L int,\n",
    "R int, \n",
    "H int,\n",
    "CONSTRAINT fk_ke\n",
    "    FOREIGN KEY(R)\n",
    "        REFERENCES may96c.keep_employees_RW(R)\n",
    ");'''\n",
    "\n",
    "\n",
    "cursor.execute(create2)\n",
    "\n",
    "connection.commit()"
   ]
  },
  {
   "cell_type": "code",
   "execution_count": 66,
   "metadata": {},
   "outputs": [],
   "source": [
    "dfRW1 = df[['R','W']]"
   ]
  },
  {
   "cell_type": "code",
   "execution_count": 68,
   "metadata": {},
   "outputs": [
    {
     "data": {
      "text/html": [
       "<div>\n",
       "<style scoped>\n",
       "    .dataframe tbody tr th:only-of-type {\n",
       "        vertical-align: middle;\n",
       "    }\n",
       "\n",
       "    .dataframe tbody tr th {\n",
       "        vertical-align: top;\n",
       "    }\n",
       "\n",
       "    .dataframe thead th {\n",
       "        text-align: right;\n",
       "    }\n",
       "</style>\n",
       "<table border=\"1\" class=\"dataframe\">\n",
       "  <thead>\n",
       "    <tr style=\"text-align: right;\">\n",
       "      <th></th>\n",
       "      <th>R</th>\n",
       "      <th>W</th>\n",
       "    </tr>\n",
       "  </thead>\n",
       "  <tbody>\n",
       "    <tr>\n",
       "      <th>0</th>\n",
       "      <td>1</td>\n",
       "      <td>10</td>\n",
       "    </tr>\n",
       "    <tr>\n",
       "      <th>4</th>\n",
       "      <td>2</td>\n",
       "      <td>11</td>\n",
       "    </tr>\n",
       "    <tr>\n",
       "      <th>8</th>\n",
       "      <td>3</td>\n",
       "      <td>12</td>\n",
       "    </tr>\n",
       "    <tr>\n",
       "      <th>12</th>\n",
       "      <td>4</td>\n",
       "      <td>13</td>\n",
       "    </tr>\n",
       "    <tr>\n",
       "      <th>16</th>\n",
       "      <td>5</td>\n",
       "      <td>14</td>\n",
       "    </tr>\n",
       "  </tbody>\n",
       "</table>\n",
       "</div>"
      ],
      "text/plain": [
       "    R   W\n",
       "0   1  10\n",
       "4   2  11\n",
       "8   3  12\n",
       "12  4  13\n",
       "16  5  14"
      ]
     },
     "execution_count": 68,
     "metadata": {},
     "output_type": "execute_result"
    }
   ],
   "source": [
    "dfRW = dfRW1.drop_duplicates()\n",
    "dfRW"
   ]
  },
  {
   "cell_type": "code",
   "execution_count": 69,
   "metadata": {},
   "outputs": [],
   "source": [
    "register_adapter(np.int64,AsIs)\n",
    "\n",
    "INSERT_SQL = 'INSERT INTO may96c.keep_employees_RW '\n",
    "INSERT_SQL += ' (R, W) VALUES '\n",
    "INSERT_SQL += '(%s,%s)'\n",
    "\n",
    "\n",
    "with connection, connection.cursor() as cursor:\n",
    "    for row in dfRW.itertuples(index=False, name=None): \n",
    "    \n",
    "    \n",
    "        cursor.execute(INSERT_SQL,row)"
   ]
  },
  {
   "cell_type": "code",
   "execution_count": 71,
   "metadata": {},
   "outputs": [
    {
     "data": {
      "text/html": [
       "<div>\n",
       "<style scoped>\n",
       "    .dataframe tbody tr th:only-of-type {\n",
       "        vertical-align: middle;\n",
       "    }\n",
       "\n",
       "    .dataframe tbody tr th {\n",
       "        vertical-align: top;\n",
       "    }\n",
       "\n",
       "    .dataframe thead th {\n",
       "        text-align: right;\n",
       "    }\n",
       "</style>\n",
       "<table border=\"1\" class=\"dataframe\">\n",
       "  <thead>\n",
       "    <tr style=\"text-align: right;\">\n",
       "      <th></th>\n",
       "      <th>S</th>\n",
       "      <th>N</th>\n",
       "      <th>L</th>\n",
       "      <th>R</th>\n",
       "      <th>H</th>\n",
       "    </tr>\n",
       "  </thead>\n",
       "  <tbody>\n",
       "    <tr>\n",
       "      <th>0</th>\n",
       "      <td>111-11-1111</td>\n",
       "      <td>mary</td>\n",
       "      <td>33</td>\n",
       "      <td>1</td>\n",
       "      <td>30</td>\n",
       "    </tr>\n",
       "    <tr>\n",
       "      <th>1</th>\n",
       "      <td>222-22-2222</td>\n",
       "      <td>amy</td>\n",
       "      <td>33</td>\n",
       "      <td>1</td>\n",
       "      <td>30</td>\n",
       "    </tr>\n",
       "    <tr>\n",
       "      <th>2</th>\n",
       "      <td>333-33-3333</td>\n",
       "      <td>john</td>\n",
       "      <td>33</td>\n",
       "      <td>1</td>\n",
       "      <td>30</td>\n",
       "    </tr>\n",
       "    <tr>\n",
       "      <th>3</th>\n",
       "      <td>444-44-4444</td>\n",
       "      <td>dana</td>\n",
       "      <td>34</td>\n",
       "      <td>1</td>\n",
       "      <td>30</td>\n",
       "    </tr>\n",
       "    <tr>\n",
       "      <th>4</th>\n",
       "      <td>555-55-5555</td>\n",
       "      <td>ian</td>\n",
       "      <td>34</td>\n",
       "      <td>2</td>\n",
       "      <td>31</td>\n",
       "    </tr>\n",
       "    <tr>\n",
       "      <th>5</th>\n",
       "      <td>666-66-6666</td>\n",
       "      <td>erin</td>\n",
       "      <td>34</td>\n",
       "      <td>2</td>\n",
       "      <td>31</td>\n",
       "    </tr>\n",
       "    <tr>\n",
       "      <th>6</th>\n",
       "      <td>777-77-7777</td>\n",
       "      <td>alicia</td>\n",
       "      <td>35</td>\n",
       "      <td>2</td>\n",
       "      <td>31</td>\n",
       "    </tr>\n",
       "    <tr>\n",
       "      <th>7</th>\n",
       "      <td>888-88-8888</td>\n",
       "      <td>stephanie</td>\n",
       "      <td>35</td>\n",
       "      <td>2</td>\n",
       "      <td>31</td>\n",
       "    </tr>\n",
       "    <tr>\n",
       "      <th>8</th>\n",
       "      <td>999-99-9999</td>\n",
       "      <td>adam</td>\n",
       "      <td>35</td>\n",
       "      <td>3</td>\n",
       "      <td>32</td>\n",
       "    </tr>\n",
       "    <tr>\n",
       "      <th>9</th>\n",
       "      <td>111-11-1112</td>\n",
       "      <td>gary</td>\n",
       "      <td>36</td>\n",
       "      <td>3</td>\n",
       "      <td>32</td>\n",
       "    </tr>\n",
       "    <tr>\n",
       "      <th>10</th>\n",
       "      <td>222-22-2223</td>\n",
       "      <td>mason</td>\n",
       "      <td>36</td>\n",
       "      <td>3</td>\n",
       "      <td>32</td>\n",
       "    </tr>\n",
       "    <tr>\n",
       "      <th>11</th>\n",
       "      <td>333-33-3334</td>\n",
       "      <td>colin</td>\n",
       "      <td>36</td>\n",
       "      <td>3</td>\n",
       "      <td>32</td>\n",
       "    </tr>\n",
       "    <tr>\n",
       "      <th>12</th>\n",
       "      <td>444-44-4445</td>\n",
       "      <td>jerry</td>\n",
       "      <td>37</td>\n",
       "      <td>4</td>\n",
       "      <td>33</td>\n",
       "    </tr>\n",
       "    <tr>\n",
       "      <th>13</th>\n",
       "      <td>555-55-5556</td>\n",
       "      <td>roger</td>\n",
       "      <td>37</td>\n",
       "      <td>4</td>\n",
       "      <td>33</td>\n",
       "    </tr>\n",
       "    <tr>\n",
       "      <th>14</th>\n",
       "      <td>777-77-7778</td>\n",
       "      <td>jesse</td>\n",
       "      <td>37</td>\n",
       "      <td>4</td>\n",
       "      <td>33</td>\n",
       "    </tr>\n",
       "    <tr>\n",
       "      <th>15</th>\n",
       "      <td>888-88-8889</td>\n",
       "      <td>cody</td>\n",
       "      <td>38</td>\n",
       "      <td>4</td>\n",
       "      <td>33</td>\n",
       "    </tr>\n",
       "    <tr>\n",
       "      <th>16</th>\n",
       "      <td>999-99-9991</td>\n",
       "      <td>cara</td>\n",
       "      <td>38</td>\n",
       "      <td>5</td>\n",
       "      <td>40</td>\n",
       "    </tr>\n",
       "    <tr>\n",
       "      <th>17</th>\n",
       "      <td>101-11-1010</td>\n",
       "      <td>kim</td>\n",
       "      <td>39</td>\n",
       "      <td>5</td>\n",
       "      <td>40</td>\n",
       "    </tr>\n",
       "    <tr>\n",
       "      <th>18</th>\n",
       "      <td>101-11-1011</td>\n",
       "      <td>kenny</td>\n",
       "      <td>40</td>\n",
       "      <td>5</td>\n",
       "      <td>40</td>\n",
       "    </tr>\n",
       "    <tr>\n",
       "      <th>19</th>\n",
       "      <td>454-44-5555</td>\n",
       "      <td>jim</td>\n",
       "      <td>41</td>\n",
       "      <td>5</td>\n",
       "      <td>40</td>\n",
       "    </tr>\n",
       "  </tbody>\n",
       "</table>\n",
       "</div>"
      ],
      "text/plain": [
       "              S          N   L  R   H\n",
       "0   111-11-1111       mary  33  1  30\n",
       "1   222-22-2222        amy  33  1  30\n",
       "2   333-33-3333       john  33  1  30\n",
       "3   444-44-4444       dana  34  1  30\n",
       "4   555-55-5555        ian  34  2  31\n",
       "5   666-66-6666       erin  34  2  31\n",
       "6   777-77-7777     alicia  35  2  31\n",
       "7   888-88-8888  stephanie  35  2  31\n",
       "8   999-99-9999       adam  35  3  32\n",
       "9   111-11-1112       gary  36  3  32\n",
       "10  222-22-2223      mason  36  3  32\n",
       "11  333-33-3334      colin  36  3  32\n",
       "12  444-44-4445      jerry  37  4  33\n",
       "13  555-55-5556      roger  37  4  33\n",
       "14  777-77-7778      jesse  37  4  33\n",
       "15  888-88-8889       cody  38  4  33\n",
       "16  999-99-9991       cara  38  5  40\n",
       "17  101-11-1010        kim  39  5  40\n",
       "18  101-11-1011      kenny  40  5  40\n",
       "19  454-44-5555        jim  41  5  40"
      ]
     },
     "execution_count": 71,
     "metadata": {},
     "output_type": "execute_result"
    }
   ],
   "source": [
    "dfSNLRH = df[['S','N','L','R','H']]\n",
    "dfSNLRH"
   ]
  },
  {
   "cell_type": "code",
   "execution_count": 72,
   "metadata": {},
   "outputs": [],
   "source": [
    "register_adapter(np.int64,AsIs)\n",
    "\n",
    "INSERT_SQL = 'INSERT INTO may96c.keep_employees_SNLRH '\n",
    "INSERT_SQL += ' (S,N,L,R,H) VALUES '\n",
    "INSERT_SQL += '(%s,%s,%s,%s,%s)'\n",
    "\n",
    "\n",
    "with connection, connection.cursor() as cursor:\n",
    "    for row in dfSNLRH.itertuples(index=False, name=None): \n",
    "    \n",
    "    \n",
    "        cursor.execute(INSERT_SQL,row)"
   ]
  },
  {
   "cell_type": "code",
   "execution_count": 75,
   "metadata": {},
   "outputs": [
    {
     "data": {
      "text/plain": [
       "[('111-11-1111', 'mary', 33, 1, 30),\n",
       " ('222-22-2222', 'amy', 33, 1, 30),\n",
       " ('333-33-3333', 'john', 33, 1, 30),\n",
       " ('444-44-4444', 'dana', 34, 1, 30),\n",
       " ('555-55-5555', 'ian', 34, 2, 31),\n",
       " ('666-66-6666', 'erin', 34, 2, 31),\n",
       " ('777-77-7777', 'alicia', 35, 2, 31),\n",
       " ('888-88-8888', 'stephanie', 35, 2, 31),\n",
       " ('999-99-9999', 'adam', 35, 3, 32),\n",
       " ('111-11-1112', 'gary', 36, 3, 32),\n",
       " ('222-22-2223', 'mason', 36, 3, 32),\n",
       " ('333-33-3334', 'colin', 36, 3, 32),\n",
       " ('444-44-4445', 'jerry', 37, 4, 33),\n",
       " ('555-55-5556', 'roger', 37, 4, 33),\n",
       " ('777-77-7778', 'jesse', 37, 4, 33),\n",
       " ('888-88-8889', 'cody', 38, 4, 33),\n",
       " ('999-99-9991', 'cara', 38, 5, 40),\n",
       " ('101-11-1010', 'kim', 39, 5, 40),\n",
       " ('101-11-1011', 'kenny', 40, 5, 40),\n",
       " ('454-44-5555', 'jim', 41, 5, 40)]"
      ]
     },
     "execution_count": 75,
     "metadata": {},
     "output_type": "execute_result"
    }
   ],
   "source": [
    "\n",
    "all5 = 'SELECT * FROM may96c.keep_employees_SNLRH ORDER BY R ASC'\n",
    "cursor.execute(all5)\n",
    "cursor.fetchall()"
   ]
  },
  {
   "cell_type": "code",
   "execution_count": 76,
   "metadata": {},
   "outputs": [
    {
     "data": {
      "text/plain": [
       "[(1, 10), (2, 11), (3, 12), (4, 13), (5, 14)]"
      ]
     },
     "execution_count": 76,
     "metadata": {},
     "output_type": "execute_result"
    }
   ],
   "source": [
    "all6 = 'SELECT * FROM may96c.keep_employees_RW ORDER BY R ASC'\n",
    "cursor.execute(all6)\n",
    "cursor.fetchall()"
   ]
  },
  {
   "cell_type": "code",
   "execution_count": 77,
   "metadata": {},
   "outputs": [
    {
     "name": "stdout",
     "output_type": "stream",
     "text": [
      "in the SNLRH table, we see 20 rows for 5 columns, in the RW table, we see a total of 5 rows for 2 columns\n"
     ]
    }
   ],
   "source": [
    "# Add your comments\n",
    "\n",
    "print('in the SNLRH table, we see 20 rows for 5 columns, in the RW table, we see a total of 5 rows for 2 columns')\n",
    "\n"
   ]
  },
  {
   "cell_type": "markdown",
   "metadata": {},
   "source": [
    "\n",
    "### Tasks 4-6 will use these two new tables.\n",
    "\n",
    "### Task 4: Use UPDATE statement to give a raise to an employee to a new and extremely high wage. Assuming this wage is much higher than the max wage you have in the database.\n",
    "\n",
    "* Is it possible? Comment on why this new setting can prevent UPDATE anomalies. "
   ]
  },
  {
   "cell_type": "code",
   "execution_count": 79,
   "metadata": {},
   "outputs": [
    {
     "ename": "UndefinedColumn",
     "evalue": "column \"s\" does not exist\nLINE 1: UPDATE may96c.keep_employees_RW SET W = 30 WHERE S = '454-44...\n                                                         ^\n",
     "output_type": "error",
     "traceback": [
      "\u001b[0;31m---------------------------------------------------------------------------\u001b[0m",
      "\u001b[0;31mUndefinedColumn\u001b[0m                           Traceback (most recent call last)",
      "\u001b[0;32m<ipython-input-79-151e0159e1ef>\u001b[0m in \u001b[0;36m<module>\u001b[0;34m\u001b[0m\n\u001b[1;32m      1\u001b[0m \u001b[0;31m# SQL statement\u001b[0m\u001b[0;34m\u001b[0m\u001b[0;34m\u001b[0m\u001b[0;34m\u001b[0m\u001b[0m\n\u001b[1;32m      2\u001b[0m \u001b[0mup2\u001b[0m \u001b[0;34m=\u001b[0m \u001b[0;34m'''UPDATE may96c.keep_employees_RW SET W = 30 WHERE S = '454-44-5555';'''\u001b[0m\u001b[0;34m\u001b[0m\u001b[0;34m\u001b[0m\u001b[0m\n\u001b[0;32m----> 3\u001b[0;31m \u001b[0mcursor\u001b[0m\u001b[0;34m.\u001b[0m\u001b[0mexecute\u001b[0m\u001b[0;34m(\u001b[0m\u001b[0mup2\u001b[0m\u001b[0;34m)\u001b[0m\u001b[0;34m\u001b[0m\u001b[0;34m\u001b[0m\u001b[0m\n\u001b[0m\u001b[1;32m      4\u001b[0m \u001b[0;34m\u001b[0m\u001b[0m\n\u001b[1;32m      5\u001b[0m \u001b[0mconnection\u001b[0m\u001b[0;34m.\u001b[0m\u001b[0mcommit\u001b[0m\u001b[0;34m(\u001b[0m\u001b[0;34m)\u001b[0m\u001b[0;34m\u001b[0m\u001b[0;34m\u001b[0m\u001b[0m\n",
      "\u001b[0;31mUndefinedColumn\u001b[0m: column \"s\" does not exist\nLINE 1: UPDATE may96c.keep_employees_RW SET W = 30 WHERE S = '454-44...\n                                                         ^\n"
     ]
    }
   ],
   "source": [
    "# SQL statement\n",
    "up2 = '''UPDATE may96c.keep_employees_RW SET W = 30 WHERE S = '454-44-5555';'''\n",
    "cursor.execute(up2)\n",
    "\n",
    "connection.commit()\n",
    "\n",
    "\n"
   ]
  },
  {
   "cell_type": "code",
   "execution_count": 81,
   "metadata": {},
   "outputs": [
    {
     "name": "stdout",
     "output_type": "stream",
     "text": [
      "This is not possible, because wage is not dependent on the employee in this database, it is based on a rating. The decomposition of the table prevented the breaking of company policy, in addition, there cannot be more than one wage associated with Rate as rate is the primary key and there is a functional dependency between the two\n"
     ]
    }
   ],
   "source": [
    "# Add your comments\n",
    "\n",
    "print('This is not possible, because wage is not dependent on the employee in this database, it is based on a rating. The decomposition of the table prevented the breaking of company policy, in addition, there cannot be more than one wage associated with Rate as rate is the primary key and there is a functional dependency between the two')\n",
    "\n"
   ]
  },
  {
   "cell_type": "markdown",
   "metadata": {},
   "source": [
    "### Task 5: Use INSERT statement for two new employees. One follows the company policy to assign known wage and rating pair. The other is assigned a rating \"5\" but with a NULL value for the wage - the hiring manager has not decided the wage yet.  \n",
    "\n",
    "* Is it possible? Comment on why this new setting can prevent INSERT anomalies. "
   ]
  },
  {
   "cell_type": "code",
   "execution_count": 84,
   "metadata": {},
   "outputs": [],
   "source": [
    "# SQL statement\n",
    "\n",
    "up3 = '''INSERT INTO may96c.keep_employees_SNLRH (S,N,L,R,H) VALUES ('818-18-8181', 'tim', 34, 4, 31)'''\n",
    "cursor.execute(up3)\n",
    "\n",
    "connection.commit()\n",
    "\n"
   ]
  },
  {
   "cell_type": "code",
   "execution_count": 88,
   "metadata": {},
   "outputs": [],
   "source": [
    "up4 = '''INSERT INTO may96c.keep_employees_SNLRH (S,N,L,R,H) VALUES ('818-18-8182', 'liz', 34, 5, 31)'''\n",
    "cursor.execute(up4)\n",
    "\n",
    "connection.commit()"
   ]
  },
  {
   "cell_type": "code",
   "execution_count": 92,
   "metadata": {},
   "outputs": [
    {
     "ename": "UniqueViolation",
     "evalue": "duplicate key value violates unique constraint \"keep_employees_rw_pkey\"\nDETAIL:  Key (r)=(5) already exists.\n",
     "output_type": "error",
     "traceback": [
      "\u001b[0;31m---------------------------------------------------------------------------\u001b[0m",
      "\u001b[0;31mUniqueViolation\u001b[0m                           Traceback (most recent call last)",
      "\u001b[0;32m<ipython-input-92-d07f39121601>\u001b[0m in \u001b[0;36m<module>\u001b[0;34m\u001b[0m\n\u001b[1;32m      1\u001b[0m \u001b[0mup4b\u001b[0m \u001b[0;34m=\u001b[0m \u001b[0;34m'''INSERT INTO may96c.keep_employees_RW (R) VALUES (5)'''\u001b[0m\u001b[0;34m\u001b[0m\u001b[0;34m\u001b[0m\u001b[0m\n\u001b[0;32m----> 2\u001b[0;31m \u001b[0mcursor\u001b[0m\u001b[0;34m.\u001b[0m\u001b[0mexecute\u001b[0m\u001b[0;34m(\u001b[0m\u001b[0mup4b\u001b[0m\u001b[0;34m)\u001b[0m\u001b[0;34m\u001b[0m\u001b[0;34m\u001b[0m\u001b[0m\n\u001b[0m\u001b[1;32m      3\u001b[0m \u001b[0;34m\u001b[0m\u001b[0m\n\u001b[1;32m      4\u001b[0m \u001b[0mconnection\u001b[0m\u001b[0;34m.\u001b[0m\u001b[0mcommit\u001b[0m\u001b[0;34m(\u001b[0m\u001b[0;34m)\u001b[0m\u001b[0;34m\u001b[0m\u001b[0;34m\u001b[0m\u001b[0m\n",
      "\u001b[0;31mUniqueViolation\u001b[0m: duplicate key value violates unique constraint \"keep_employees_rw_pkey\"\nDETAIL:  Key (r)=(5) already exists.\n"
     ]
    }
   ],
   "source": [
    "up4b = '''INSERT INTO may96c.keep_employees_RW (R) VALUES (5)'''\n",
    "cursor.execute(up4b)\n",
    "\n",
    "connection.commit()"
   ]
  },
  {
   "cell_type": "code",
   "execution_count": 94,
   "metadata": {},
   "outputs": [
    {
     "name": "stdout",
     "output_type": "stream",
     "text": [
      " for the first employee, this works just fine, because their wage matches their rating, as company policy states. When it comes to the employee that should not be assaigned a wage yet, we see an issue. Because of the dependancy between R and W in the RW table, there cannot be a 5 rating not assaigned to the wage associated with a 5 rating.\n"
     ]
    }
   ],
   "source": [
    "# Add your comments\n",
    "\n",
    "print(' for the first employee, this works just fine, because their wage matches their rating, as company policy states. When it comes to the employee that should not be assaigned a wage yet, we see an issue. Because of the dependancy between R and W in the RW table, there cannot be a 5 rating not assaigned to the wage associated with a 5 rating.')\n",
    "\n"
   ]
  },
  {
   "cell_type": "markdown",
   "metadata": {},
   "source": [
    "### Task 6: Use DELETE statement for all employees from the lowest rating due to performance issues.   \n",
    "\n",
    "* List the tuples again based on ratings (ascending order) and comment on whether or not the company policy has been preserved. What could be DELETE anomaly you experience here.\n",
    "\n",
    "### Use INSERT statement to add a new employee who will take the lowest rating with the wage associating with that rating.\n",
    "\n",
    "* Is it possible? Comment on why this new setting can prevent DELETE anomalies. \n"
   ]
  },
  {
   "cell_type": "code",
   "execution_count": 97,
   "metadata": {},
   "outputs": [],
   "source": [
    "# SQL statement\n",
    "\n",
    "delete = 'DELETE FROM may96c.keep_employees_SNLRH WHERE R = 1' \n",
    "\n",
    "cursor.execute(dele)\n",
    "\n",
    "connection.commit()\n",
    "\n",
    "\n",
    "\n",
    "\n"
   ]
  },
  {
   "cell_type": "code",
   "execution_count": 98,
   "metadata": {},
   "outputs": [],
   "source": [
    "inst = '''INSERT INTO may96c.keep_employees_SNLRH (S,N,L,R,H) VALUES ('454-45-4545', 'bob', 33, 1, 35)'''\n",
    " \n",
    "\n",
    "cursor.execute(inst)\n",
    "\n",
    "connection.commit()\n"
   ]
  },
  {
   "cell_type": "code",
   "execution_count": 99,
   "metadata": {},
   "outputs": [
    {
     "name": "stdout",
     "output_type": "stream",
     "text": [
      "this new setting prevents delete anomolies associated with this question because the wage associated with employees with the ranking of 1 has been preserved in the proper table\n"
     ]
    }
   ],
   "source": [
    "# Add your comments\n",
    "print('this new setting prevents delete anomolies associated with this question because the wage associated with employees with the ranking of 1 has been preserved in the proper table')\n",
    "\n",
    "\n"
   ]
  },
  {
   "cell_type": "markdown",
   "metadata": {},
   "source": [
    "# Save your notebook, then `File > Close and Halt`"
   ]
  }
 ],
 "metadata": {
  "kernelspec": {
   "display_name": "Python 3",
   "language": "python",
   "name": "python3"
  },
  "language_info": {
   "codemirror_mode": {
    "name": "ipython",
    "version": 3
   },
   "file_extension": ".py",
   "mimetype": "text/x-python",
   "name": "python",
   "nbconvert_exporter": "python",
   "pygments_lexer": "ipython3",
   "version": "3.7.3"
  }
 },
 "nbformat": 4,
 "nbformat_minor": 1
}
