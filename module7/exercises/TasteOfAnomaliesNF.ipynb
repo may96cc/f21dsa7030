{
 "cells": [
  {
   "cell_type": "markdown",
   "metadata": {},
   "source": [
    "# Experiencing anomalies of un-normalized database\n",
    "\n",
    "### For each cell, please writing down your SQL statements as requested."
   ]
  },
  {
   "cell_type": "markdown",
   "metadata": {},
   "source": [
    "### Creating an Employees table that has the same schema as Slide #2 of Lecture Slides-1. \n",
    "\n",
    "(S:SSN, N: Name, L: Lot number, R: Rating, W: Wage, H: Hourly_worked); Primary key is SSN. "
   ]
  },
  {
   "cell_type": "code",
   "execution_count": null,
   "metadata": {},
   "outputs": [],
   "source": [
    "# List your SQL statement for table creation here \n",
    "\n",
    "\n"
   ]
  },
  {
   "cell_type": "markdown",
   "metadata": {},
   "source": [
    "### Insert 20 tuples that have even distributions of ratings from 1 to 5.\n",
    "\n",
    "The only company policy provided by your client is \"employees have the same rating should have the same wage.\"\n",
    "\n",
    "Show all tuples and sort them based on rating in ascending order.\n"
   ]
  },
  {
   "cell_type": "code",
   "execution_count": null,
   "metadata": {},
   "outputs": [],
   "source": [
    "# List your SQL statements for INSERT and list all tuples\n",
    "\n",
    "\n"
   ]
  },
  {
   "cell_type": "markdown",
   "metadata": {},
   "source": [
    "### Copy this Employees Table to Keep_Employees Table .\n",
    "\n",
    "Hint: Using CREATE TABLE new_table AS SELECT * FROM original_table;"
   ]
  },
  {
   "cell_type": "code",
   "execution_count": null,
   "metadata": {},
   "outputs": [],
   "source": [
    "# SQL Statement\n",
    "\n",
    "\n",
    "\n"
   ]
  },
  {
   "cell_type": "markdown",
   "metadata": {},
   "source": [
    "### Task 1: Use UPDATE statement on the original table (Employees) to give a raise to an employee to a new and extremely high wage. Assuming this wage is much higher than the max wage you have in the database.\n",
    "\n",
    "* List the tuples again based on ratings (ascending order) and comment on whether or not the company policy has been preserved. What could be UPDATE anomalies you experience here."
   ]
  },
  {
   "cell_type": "code",
   "execution_count": null,
   "metadata": {},
   "outputs": [],
   "source": [
    "# SQL statement\n",
    "\n",
    "\n",
    "\n"
   ]
  },
  {
   "cell_type": "code",
   "execution_count": null,
   "metadata": {},
   "outputs": [],
   "source": [
    "# Add your comments\n",
    "\n",
    "\n",
    "\n"
   ]
  },
  {
   "cell_type": "markdown",
   "metadata": {},
   "source": [
    "### Task 2: Use INSERT statement on the original table (Employees) for two new employees. One follows the company policy to assign known wage and rating pair. The other is assigned a rating \"5\" but with a NULL value for the wage - the hiring manager has not decided the wage yet.  \n",
    "\n",
    "* List the tuples again based on ratings (ascending order) and comment on whether or not the company policy has been preserved. What could be INSERT anomalies you experience here."
   ]
  },
  {
   "cell_type": "code",
   "execution_count": null,
   "metadata": {},
   "outputs": [],
   "source": [
    "# SQL statement\n",
    "\n",
    "\n",
    "\n",
    "\n",
    "\n"
   ]
  },
  {
   "cell_type": "code",
   "execution_count": null,
   "metadata": {},
   "outputs": [],
   "source": [
    "# Add your comments\n",
    "\n",
    "\n",
    "\n"
   ]
  },
  {
   "cell_type": "markdown",
   "metadata": {},
   "source": [
    "### Task 3: Use DELETE statement on the original table (Employees) for all employees from the lowest rating due to performance issues.   \n",
    "\n",
    "* List the tuples again based on ratings (ascending order) and comment on whether or not the company policy has been preserved. What could be DELETE anomalies you experience here.\n",
    "\n",
    "### Use INSERT statement on the original table (Employees) to add a new employee who will take the lowest rating (you just deleted) with the wage associating with that rating.\n",
    "\n",
    "* Without looking at the Keep_Employees table, do you still remember the original wage for the lowest rating from the initial table?\n"
   ]
  },
  {
   "cell_type": "code",
   "execution_count": null,
   "metadata": {},
   "outputs": [],
   "source": [
    "# SQL statement\n",
    "\n",
    "\n",
    "\n",
    "\n"
   ]
  },
  {
   "cell_type": "code",
   "execution_count": null,
   "metadata": {},
   "outputs": [],
   "source": [
    "# Add your comments\n",
    "\n",
    "\n",
    "\n"
   ]
  },
  {
   "cell_type": "markdown",
   "metadata": {},
   "source": [
    "### Now you have experienced the anomalies due to redundancy and functional dependency (Rating -> Wage)\n",
    "\n",
    "\n",
    "\n",
    "## Solutions via table decomposition\n",
    "\n",
    "### Let's decompose the Keep_Employees table into two - which two?\n",
    "\n",
    "* CREATE these two tables and make sure primary keys are properly assigned to each table. There will be one foreign key constraint. Of course we need to populate tuples to these two tables using SQL statements (no manual way, please.)\n",
    "\n",
    "* List the tuples from both tables based on ratings (ascending order) and comment on the numbers of tuples of these two tables.\n"
   ]
  },
  {
   "cell_type": "code",
   "execution_count": null,
   "metadata": {},
   "outputs": [],
   "source": [
    "# SQL statement\n",
    "\n",
    "\n",
    "\n",
    "\n",
    "\n",
    "\n"
   ]
  },
  {
   "cell_type": "code",
   "execution_count": null,
   "metadata": {},
   "outputs": [],
   "source": [
    "# Add your comments\n",
    "\n",
    "\n",
    "\n"
   ]
  },
  {
   "cell_type": "markdown",
   "metadata": {},
   "source": [
    "\n",
    "### Tasks 4-6 will use these two new tables.\n",
    "\n",
    "### Task 4: Use UPDATE statement to give a raise to an employee to a new and extremely high wage. Assuming this wage is much higher than the max wage you have in the database.\n",
    "\n",
    "* Is it possible? Comment on why this new setting can prevent UPDATE anomalies. "
   ]
  },
  {
   "cell_type": "code",
   "execution_count": null,
   "metadata": {},
   "outputs": [],
   "source": [
    "# SQL statement\n",
    "\n",
    "\n",
    "\n"
   ]
  },
  {
   "cell_type": "code",
   "execution_count": null,
   "metadata": {},
   "outputs": [],
   "source": [
    "# Add your comments\n",
    "\n",
    "\n",
    "\n"
   ]
  },
  {
   "cell_type": "markdown",
   "metadata": {},
   "source": [
    "### Task 5: Use INSERT statement for two new employees. One follows the company policy to assign known wage and rating pair. The other is assigned a rating \"5\" but with a NULL value for the wage - the hiring manager has not decided the wage yet.  \n",
    "\n",
    "* Is it possible? Comment on why this new setting can prevent INSERT anomalies. "
   ]
  },
  {
   "cell_type": "code",
   "execution_count": null,
   "metadata": {},
   "outputs": [],
   "source": [
    "# SQL statement\n",
    "\n",
    "\n",
    "\n",
    "\n",
    "\n"
   ]
  },
  {
   "cell_type": "code",
   "execution_count": null,
   "metadata": {},
   "outputs": [],
   "source": [
    "# Add your comments\n",
    "\n",
    "\n",
    "\n"
   ]
  },
  {
   "cell_type": "markdown",
   "metadata": {},
   "source": [
    "### Task 6: Use DELETE statement for all employees from the lowest rating due to performance issues.   \n",
    "\n",
    "* List the tuples again based on ratings (ascending order) and comment on whether or not the company policy has been preserved. What could be DELETE anomaly you experience here.\n",
    "\n",
    "### Use INSERT statement to add a new employee who will take the lowest rating with the wage associating with that rating.\n",
    "\n",
    "* Is it possible? Comment on why this new setting can prevent DELETE anomalies. \n"
   ]
  },
  {
   "cell_type": "code",
   "execution_count": null,
   "metadata": {},
   "outputs": [],
   "source": [
    "# SQL statement\n",
    "\n",
    "\n",
    "\n",
    "\n",
    "\n",
    "\n"
   ]
  },
  {
   "cell_type": "code",
   "execution_count": null,
   "metadata": {},
   "outputs": [],
   "source": [
    "# Add your comments\n",
    "\n",
    "\n",
    "\n"
   ]
  },
  {
   "cell_type": "markdown",
   "metadata": {},
   "source": [
    "# Save your notebook, then `File > Close and Halt`"
   ]
  }
 ],
 "metadata": {
  "kernelspec": {
   "display_name": "Python 3",
   "language": "python",
   "name": "python3"
  },
  "language_info": {
   "codemirror_mode": {
    "name": "ipython",
    "version": 3
   },
   "file_extension": ".py",
   "mimetype": "text/x-python",
   "name": "python",
   "nbconvert_exporter": "python",
   "pygments_lexer": "ipython3",
   "version": "3.7.3"
  }
 },
 "nbformat": 4,
 "nbformat_minor": 1
}
