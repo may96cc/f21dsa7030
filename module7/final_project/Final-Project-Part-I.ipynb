{
 "cells": [
  {
   "cell_type": "markdown",
   "metadata": {
    "toc": "true"
   },
   "source": [
    "# <center> Final Project <center>\n",
    "\n",
    "In this project, we will explore Chicago Crime Dataset and implement a relational database for storing the data. Over the course of the next two modules, you will complete the following tasks:\n",
    "\n",
    "\n",
    "1. Identify the features (attributes) in Chicago Crime dataset and design an entity-relationship model\n",
    "2. Refine the model and convert each relation to BCNF (if required)\n",
    "3. Using DDL implement the relations in a Postgres server\n",
    "4. Load the given data to the relations\n",
    "5. Execute some interesting queries on the relations\n",
    "\n",
    "Part 1, this weeks assignment will take you through step 1 and 2."
   ]
  },
  {
   "cell_type": "markdown",
   "metadata": {},
   "source": [
    "## Dataset\n",
    "\n",
    "* Dataset: [csv](./Chicago-Crime-Sample-2012.csv)\n",
    "* Dataset Description: [pdf](./ChicagoData-Description.pdf)"
   ]
  },
  {
   "cell_type": "markdown",
   "metadata": {},
   "source": [
    "## 1.0 Dataset exploration\n",
    "* Explore the data so that you understand what information you have. Comment on the following questions."
   ]
  },
  {
   "cell_type": "code",
   "execution_count": null,
   "metadata": {},
   "outputs": [],
   "source": [
    "# What did you learn from the data set?\n",
    "# Data types of the attributes? How to deal with the date information? \n",
    "# Any missing values?\n",
    "# Do you see redundancy? Many repetive values in some columns. How to deal with that? Creating a new table?\n",
    "# Any outside information to link back to this data?"
   ]
  },
  {
   "cell_type": "markdown",
   "metadata": {},
   "source": [
    "## 1.1 Design an Entity-Relationship Model for the Chicago Crime Dataset\n",
    "\n",
    "* List all the entities with associated attributes\n",
    "* Identify primary and foreign keys\n",
    "* Identify constraints (1:many, many:1, many:many, etc.)"
   ]
  },
  {
   "cell_type": "markdown",
   "metadata": {},
   "source": [
    "\n",
    "\n"
   ]
  },
  {
   "cell_type": "markdown",
   "metadata": {},
   "source": [
    "## 1.2 If required, refine your initial set of relations and convert each of the relations to BCNF\n",
    "\n",
    "While converting a relation to BCNF, please write down the process in the following cell to decompose or add new tables based on your undertsanding of the data.  Also check the Canvas discussion board for this coming week.\n"
   ]
  },
  {
   "cell_type": "markdown",
   "metadata": {},
   "source": [
    "## 1.3 Final ERD\n",
    "\n",
    "* Draw an entitiy relationship diagram once you are done with 1.1 and 1.2 \n",
    "* Use crow's foot notation to specify the cardinality \n",
    "* Show the primary and foreign keys in the diagram"
   ]
  },
  {
   "cell_type": "markdown",
   "metadata": {},
   "source": [
    "Please find a link to my ERD here: [Your ERD](Path goes here for your design).\n"
   ]
  },
  {
   "cell_type": "markdown",
   "metadata": {},
   "source": [
    "## <center> This is the end of Part 1 of the Final Project Part 2 and 3 can be announced in Module 8.</center>\n",
    "\n",
    "You are encouraged to start creating tables for the later part of coming week."
   ]
  },
  {
   "cell_type": "markdown",
   "metadata": {},
   "source": [
    "# Save your notebook, then `File > Close and Halt`"
   ]
  }
 ],
 "metadata": {
  "kernelspec": {
   "display_name": "Python 3",
   "language": "python",
   "name": "python3"
  },
  "language_info": {
   "codemirror_mode": {
    "name": "ipython",
    "version": 3
   },
   "file_extension": ".py",
   "mimetype": "text/x-python",
   "name": "python",
   "nbconvert_exporter": "python",
   "pygments_lexer": "ipython3",
   "version": "3.7.3"
  },
  "latex_envs": {
   "LaTeX_envs_menu_present": true,
   "bibliofile": "biblio.bib",
   "cite_by": "apalike",
   "current_citInitial": 1,
   "eqLabelWithNumbers": true,
   "eqNumInitial": 1,
   "labels_anchors": false,
   "latex_user_defs": false,
   "report_style_numbering": false,
   "user_envs_cfg": false
  },
  "toc": {
   "colors": {
    "hover_highlight": "#DAA520",
    "running_highlight": "#FF0000",
    "selected_highlight": "#FFD700"
   },
   "moveMenuLeft": true,
   "nav_menu": {
    "height": "11.9886px",
    "width": "251.989px"
   },
   "navigate_menu": true,
   "number_sections": true,
   "sideBar": true,
   "threshold": 4,
   "toc_cell": true,
   "toc_section_display": "block",
   "toc_window_display": false
  }
 },
 "nbformat": 4,
 "nbformat_minor": 4
}
